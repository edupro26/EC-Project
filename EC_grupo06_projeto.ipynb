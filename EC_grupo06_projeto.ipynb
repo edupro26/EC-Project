{
 "cells": [
  {
   "metadata": {},
   "cell_type": "markdown",
   "source": [
    "# Engenharia do Conhecimento 2023/2024\n",
    "\n",
    "## Project: *Thyroid disease Data Set*\n",
    "\n",
    "#### Group 6:\n",
    "\n",
    "- Eduardo Proença 57551\n",
    "- Tiago Oliveira 54979\n",
    "- Bernardo Lopes 54386\n"
   ],
   "id": "4e47ecd3f7a7681a"
  },
  {
   "metadata": {},
   "cell_type": "markdown",
   "source": [
    "### Summary\n",
    "\n",
    "To be done..."
   ],
   "id": "20b41ecdb1cdb3f9"
  },
  {
   "metadata": {},
   "cell_type": "markdown",
   "source": "## 1. Data processing\n",
   "id": "6f652d741ef14fc0"
  },
  {
   "metadata": {},
   "cell_type": "markdown",
   "source": [
    "### 1.1 Creating a Data Frame\n",
    "\n",
    "Firstly, we need to create a Data Frame. Using the [Pandas](https://pandas.pydata.org) Python Library, we can read our data from the file proj-data.csv, which contains the data set we will be using in this project."
   ],
   "id": "d6609c1e4f2c7854"
  },
  {
   "metadata": {},
   "cell_type": "code",
   "source": [
    "import pandas as pd\n",
    "\n",
    "# Load data set\n",
    "df_thyroid = pd.read_csv('proj-data.csv')\n",
    "\n",
    "# Print the first rows\n",
    "df_thyroid.head()"
   ],
   "id": "ff2b0f54da8e3a11",
   "outputs": [],
   "execution_count": null
  },
  {
   "metadata": {},
   "cell_type": "code",
   "source": "df_thyroid.shape",
   "id": "7551efb9d8f302cf",
   "outputs": [],
   "execution_count": null
  },
  {
   "metadata": {},
   "cell_type": "code",
   "source": "df_thyroid.dtypes",
   "id": "43d6037a659b85c6",
   "outputs": [],
   "execution_count": null
  }
 ],
 "metadata": {
  "kernelspec": {
   "display_name": "Python 3 (ipykernel)",
   "language": "python",
   "name": "python3"
  },
  "language_info": {
   "codemirror_mode": {
    "name": "ipython",
    "version": 3
   },
   "file_extension": ".py",
   "mimetype": "text/x-python",
   "name": "python",
   "nbconvert_exporter": "python",
   "pygments_lexer": "ipython3",
   "version": "3.11.2"
  }
 },
 "nbformat": 4,
 "nbformat_minor": 5
}
