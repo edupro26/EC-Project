{
 "cells": [
  {
   "cell_type": "markdown",
   "id": "37af115655e6ef16",
   "metadata": {},
   "source": [
    "## Engenharia do Conhecimento 2023/2024\n",
    "\n",
    "### Project: Classification and Regression models with *Thyroid disease Data Set*\n",
    "\n",
    "#### Group 6:\n",
    "\n",
    "- Eduardo Proença 57551\n",
    "- Tiago Oliveira 54979\n",
    "- Bernardo Lopes 54386"
   ]
  },
  {
   "cell_type": "markdown",
   "id": "7a3fe0f7bf074860",
   "metadata": {},
   "source": [
    "### 1. Data Processing"
   ]
  },
  {
   "cell_type": "markdown",
   "id": "79a91cdf41098297",
   "metadata": {},
   "source": [
    "#### 1.1 Creating a Data Frame"
   ]
  },
  {
   "cell_type": "code",
   "id": "f2edb1e685a0e2d5",
   "metadata": {
    "ExecuteTime": {
     "end_time": "2024-05-20T20:35:26.621806Z",
     "start_time": "2024-05-20T20:35:26.603975Z"
    }
   },
   "source": [
    "import pandas as pd\n",
    "\n",
    "df_thyroid = pd.read_csv('proj-data.csv')\n",
    "df_thyroid.shape"
   ],
   "outputs": [
    {
     "data": {
      "text/plain": [
       "(7338, 31)"
      ]
     },
     "execution_count": 8,
     "metadata": {},
     "output_type": "execute_result"
    }
   ],
   "execution_count": 8
  },
  {
   "cell_type": "markdown",
   "id": "d58cfed3fb9fc2a3",
   "metadata": {},
   "source": [
    "#### 1.2 Data investigation"
   ]
  },
  {
   "cell_type": "code",
   "id": "d25207feac655236",
   "metadata": {
    "ExecuteTime": {
     "end_time": "2024-05-20T20:35:26.699871Z",
     "start_time": "2024-05-20T20:35:26.676048Z"
    }
   },
   "source": [
    "import numpy as np\n",
    "\n",
    "df = df_thyroid.copy()\n",
    "df.replace('?', np.nan, inplace=True)\n",
    "df_cleaned = df.drop('[record identification]', axis = 1)\n",
    "df_cleaned.info()"
   ],
   "outputs": [
    {
     "name": "stdout",
     "output_type": "stream",
     "text": [
      "<class 'pandas.core.frame.DataFrame'>\n",
      "RangeIndex: 7338 entries, 0 to 7337\n",
      "Data columns (total 30 columns):\n",
      " #   Column                      Non-Null Count  Dtype \n",
      "---  ------                      --------------  ----- \n",
      " 0   age:                        7338 non-null   int64 \n",
      " 1   sex:                        7098 non-null   object\n",
      " 2   on thyroxine:               7338 non-null   object\n",
      " 3   query on thyroxine:         7338 non-null   object\n",
      " 4   on antithyroid medication:  7338 non-null   object\n",
      " 5   sick:                       7338 non-null   object\n",
      " 6   pregnant:                   7338 non-null   object\n",
      " 7   thyroid surgery:            7338 non-null   object\n",
      " 8   I131 treatment:             7338 non-null   object\n",
      " 9   query hypothyroid:          7338 non-null   object\n",
      " 10  query hyperthyroid:         7338 non-null   object\n",
      " 11  lithium:                    7338 non-null   object\n",
      " 12  goitre:                     7338 non-null   object\n",
      " 13  tumor:                      7338 non-null   object\n",
      " 14  hypopituitary:              7338 non-null   object\n",
      " 15  psych:                      7338 non-null   object\n",
      " 16  TSH measured:               7338 non-null   object\n",
      " 17  TSH:                        6667 non-null   object\n",
      " 18  T3 measured:                7338 non-null   object\n",
      " 19  T3:                         5270 non-null   object\n",
      " 20  TT4 measured:               7338 non-null   object\n",
      " 21  TT4:                        6976 non-null   object\n",
      " 22  T4U measured:               7338 non-null   object\n",
      " 23  T4U:                        6674 non-null   object\n",
      " 24  FTI measured:               7338 non-null   object\n",
      " 25  FTI:                        6680 non-null   object\n",
      " 26  TBG measured:               7338 non-null   object\n",
      " 27  TBG:                        284 non-null    object\n",
      " 28  referral source:            7338 non-null   object\n",
      " 29  diagnoses                   7338 non-null   object\n",
      "dtypes: int64(1), object(29)\n",
      "memory usage: 1.7+ MB\n"
     ]
    }
   ],
   "execution_count": 9
  },
  {
   "cell_type": "markdown",
   "id": "b225a2e435e1a905",
   "metadata": {},
   "source": [
    "#### 1.3 Encoding Data"
   ]
  },
  {
   "cell_type": "code",
   "id": "5c5d778d1a1a0927",
   "metadata": {
    "ExecuteTime": {
     "end_time": "2024-05-20T20:35:26.770220Z",
     "start_time": "2024-05-20T20:35:26.700918Z"
    }
   },
   "source": [
    "def encode_df(df):\n",
    "    encoded_values = {\n",
    "        'M': '0', 'F': '1',\n",
    "        'f': '0', 't': '1',\n",
    "        'WEST': '0', 'STMW': '1',\n",
    "        'SVHC': '2', 'SVI': '3',\n",
    "        'SVHD': '4', 'other': '5'\n",
    "    }\n",
    "    df_data = df.drop('diagnoses', axis = 1)\n",
    "    encoded = pd.DataFrame(df_data.replace(encoded_values), columns=df_data.columns)\n",
    "    diagnoses_encoded = {\n",
    "        '-': 0,                          # healthy\n",
    "        'A': 1, 'B': 1, 'C': 1, 'D': 1,  # hyperthyroid conditions\n",
    "        'E': 2, 'F': 2, 'G': 2, 'H': 2,  # hypothyroid conditions\n",
    "        'I': 3, 'J': 3,                  # binding protein\n",
    "        'K': 4,                          # general health\n",
    "        'L': 5, 'M': 5, 'N': 5,          # replacement therapy\n",
    "        'R': 6,                          # discordant results\n",
    "    }\n",
    "    diagnoses = pd.DataFrame(df['diagnoses'], columns=['diagnoses'])\n",
    "    diagnoses['diagnoses'] = diagnoses['diagnoses'].map(diagnoses_encoded).fillna(7).astype(int)\n",
    "    return pd.concat([encoded, diagnoses], axis=1)\n",
    "\n",
    "df_encoded = encode_df(df_cleaned)\n",
    "df_encoded.head()"
   ],
   "outputs": [
    {
     "data": {
      "text/plain": [
       "   age: sex: on thyroxine: query on thyroxine: on antithyroid medication:  \\\n",
       "0    29    1             0                   0                          0   \n",
       "1    29    1             0                   0                          0   \n",
       "2    36    1             0                   0                          0   \n",
       "3    60    1             0                   0                          0   \n",
       "4    77    1             0                   0                          0   \n",
       "\n",
       "  sick: pregnant: thyroid surgery: I131 treatment: query hypothyroid:  ...  \\\n",
       "0     0         0                0               0                  1  ...   \n",
       "1     0         0                0               0                  0  ...   \n",
       "2     0         0                0               0                  0  ...   \n",
       "3     0         0                0               0                  0  ...   \n",
       "4     0         0                0               0                  0  ...   \n",
       "\n",
       "  TT4 measured: TT4: T4U measured: T4U: FTI measured: FTI: TBG measured: TBG:  \\\n",
       "0             0  NaN             0  NaN             0  NaN             0  NaN   \n",
       "1             1  128             0  NaN             0  NaN             0  NaN   \n",
       "2             0  NaN             0  NaN             0  NaN             1   26   \n",
       "3             0  NaN             0  NaN             0  NaN             1   26   \n",
       "4             0  NaN             0  NaN             0  NaN             1   21   \n",
       "\n",
       "  referral source: diagnoses  \n",
       "0                5         0  \n",
       "1                5         0  \n",
       "2                5         0  \n",
       "3                5         0  \n",
       "4                5         0  \n",
       "\n",
       "[5 rows x 30 columns]"
      ],
      "text/html": [
       "<div>\n",
       "<style scoped>\n",
       "    .dataframe tbody tr th:only-of-type {\n",
       "        vertical-align: middle;\n",
       "    }\n",
       "\n",
       "    .dataframe tbody tr th {\n",
       "        vertical-align: top;\n",
       "    }\n",
       "\n",
       "    .dataframe thead th {\n",
       "        text-align: right;\n",
       "    }\n",
       "</style>\n",
       "<table border=\"1\" class=\"dataframe\">\n",
       "  <thead>\n",
       "    <tr style=\"text-align: right;\">\n",
       "      <th></th>\n",
       "      <th>age:</th>\n",
       "      <th>sex:</th>\n",
       "      <th>on thyroxine:</th>\n",
       "      <th>query on thyroxine:</th>\n",
       "      <th>on antithyroid medication:</th>\n",
       "      <th>sick:</th>\n",
       "      <th>pregnant:</th>\n",
       "      <th>thyroid surgery:</th>\n",
       "      <th>I131 treatment:</th>\n",
       "      <th>query hypothyroid:</th>\n",
       "      <th>...</th>\n",
       "      <th>TT4 measured:</th>\n",
       "      <th>TT4:</th>\n",
       "      <th>T4U measured:</th>\n",
       "      <th>T4U:</th>\n",
       "      <th>FTI measured:</th>\n",
       "      <th>FTI:</th>\n",
       "      <th>TBG measured:</th>\n",
       "      <th>TBG:</th>\n",
       "      <th>referral source:</th>\n",
       "      <th>diagnoses</th>\n",
       "    </tr>\n",
       "  </thead>\n",
       "  <tbody>\n",
       "    <tr>\n",
       "      <th>0</th>\n",
       "      <td>29</td>\n",
       "      <td>1</td>\n",
       "      <td>0</td>\n",
       "      <td>0</td>\n",
       "      <td>0</td>\n",
       "      <td>0</td>\n",
       "      <td>0</td>\n",
       "      <td>0</td>\n",
       "      <td>0</td>\n",
       "      <td>1</td>\n",
       "      <td>...</td>\n",
       "      <td>0</td>\n",
       "      <td>NaN</td>\n",
       "      <td>0</td>\n",
       "      <td>NaN</td>\n",
       "      <td>0</td>\n",
       "      <td>NaN</td>\n",
       "      <td>0</td>\n",
       "      <td>NaN</td>\n",
       "      <td>5</td>\n",
       "      <td>0</td>\n",
       "    </tr>\n",
       "    <tr>\n",
       "      <th>1</th>\n",
       "      <td>29</td>\n",
       "      <td>1</td>\n",
       "      <td>0</td>\n",
       "      <td>0</td>\n",
       "      <td>0</td>\n",
       "      <td>0</td>\n",
       "      <td>0</td>\n",
       "      <td>0</td>\n",
       "      <td>0</td>\n",
       "      <td>0</td>\n",
       "      <td>...</td>\n",
       "      <td>1</td>\n",
       "      <td>128</td>\n",
       "      <td>0</td>\n",
       "      <td>NaN</td>\n",
       "      <td>0</td>\n",
       "      <td>NaN</td>\n",
       "      <td>0</td>\n",
       "      <td>NaN</td>\n",
       "      <td>5</td>\n",
       "      <td>0</td>\n",
       "    </tr>\n",
       "    <tr>\n",
       "      <th>2</th>\n",
       "      <td>36</td>\n",
       "      <td>1</td>\n",
       "      <td>0</td>\n",
       "      <td>0</td>\n",
       "      <td>0</td>\n",
       "      <td>0</td>\n",
       "      <td>0</td>\n",
       "      <td>0</td>\n",
       "      <td>0</td>\n",
       "      <td>0</td>\n",
       "      <td>...</td>\n",
       "      <td>0</td>\n",
       "      <td>NaN</td>\n",
       "      <td>0</td>\n",
       "      <td>NaN</td>\n",
       "      <td>0</td>\n",
       "      <td>NaN</td>\n",
       "      <td>1</td>\n",
       "      <td>26</td>\n",
       "      <td>5</td>\n",
       "      <td>0</td>\n",
       "    </tr>\n",
       "    <tr>\n",
       "      <th>3</th>\n",
       "      <td>60</td>\n",
       "      <td>1</td>\n",
       "      <td>0</td>\n",
       "      <td>0</td>\n",
       "      <td>0</td>\n",
       "      <td>0</td>\n",
       "      <td>0</td>\n",
       "      <td>0</td>\n",
       "      <td>0</td>\n",
       "      <td>0</td>\n",
       "      <td>...</td>\n",
       "      <td>0</td>\n",
       "      <td>NaN</td>\n",
       "      <td>0</td>\n",
       "      <td>NaN</td>\n",
       "      <td>0</td>\n",
       "      <td>NaN</td>\n",
       "      <td>1</td>\n",
       "      <td>26</td>\n",
       "      <td>5</td>\n",
       "      <td>0</td>\n",
       "    </tr>\n",
       "    <tr>\n",
       "      <th>4</th>\n",
       "      <td>77</td>\n",
       "      <td>1</td>\n",
       "      <td>0</td>\n",
       "      <td>0</td>\n",
       "      <td>0</td>\n",
       "      <td>0</td>\n",
       "      <td>0</td>\n",
       "      <td>0</td>\n",
       "      <td>0</td>\n",
       "      <td>0</td>\n",
       "      <td>...</td>\n",
       "      <td>0</td>\n",
       "      <td>NaN</td>\n",
       "      <td>0</td>\n",
       "      <td>NaN</td>\n",
       "      <td>0</td>\n",
       "      <td>NaN</td>\n",
       "      <td>1</td>\n",
       "      <td>21</td>\n",
       "      <td>5</td>\n",
       "      <td>0</td>\n",
       "    </tr>\n",
       "  </tbody>\n",
       "</table>\n",
       "<p>5 rows × 30 columns</p>\n",
       "</div>"
      ]
     },
     "execution_count": 10,
     "metadata": {},
     "output_type": "execute_result"
    }
   ],
   "execution_count": 10
  },
  {
   "cell_type": "markdown",
   "id": "5a8b40e0871be938",
   "metadata": {},
   "source": [
    "#### 1.4 Scaling Data"
   ]
  },
  {
   "cell_type": "code",
   "id": "588e36dc53b771f7",
   "metadata": {
    "ExecuteTime": {
     "end_time": "2024-05-20T20:35:26.773968Z",
     "start_time": "2024-05-20T20:35:26.771276Z"
    }
   },
   "source": [
    "from sklearn.preprocessing import StandardScaler\n",
    "\n",
    "def scale_data(X_train, X_test):\n",
    "    scaler = StandardScaler()\n",
    "    scaler.fit(X_train)\n",
    "    return scaler.transform(X_train), scaler.transform(X_test)"
   ],
   "outputs": [],
   "execution_count": 11
  },
  {
   "cell_type": "markdown",
   "id": "c3b56e64c29f54aa",
   "metadata": {},
   "source": [
    "#### 1.5 Imputing missing values"
   ]
  },
  {
   "cell_type": "code",
   "id": "e8524c87fdb9b95e",
   "metadata": {
    "ExecuteTime": {
     "end_time": "2024-05-20T20:35:26.780051Z",
     "start_time": "2024-05-20T20:35:26.775010Z"
    }
   },
   "source": [
    "from sklearn.impute import SimpleImputer\n",
    "\n",
    "def impute_data(X_train, X_test):\n",
    "    imputer = SimpleImputer(strategy='mean')\n",
    "    imputer.fit(X_train)\n",
    "    return imputer.transform(X_train), imputer.transform(X_test)"
   ],
   "outputs": [],
   "execution_count": 12
  },
  {
   "cell_type": "markdown",
   "id": "e70738c62e106345",
   "metadata": {},
   "source": [
    "### 2. Classification Models"
   ]
  },
  {
   "cell_type": "code",
   "id": "96c70f1e924a0815",
   "metadata": {
    "ExecuteTime": {
     "end_time": "2024-05-20T20:35:26.842810Z",
     "start_time": "2024-05-20T20:35:26.781096Z"
    }
   },
   "source": [
    "from sklearn.model_selection import train_test_split\n",
    "\n",
    "X = df_encoded.drop('diagnoses', axis='columns')\n",
    "y = df_encoded['diagnoses']\n",
    "X_TRAIN, X_TEST, y_TRAIN, y_TEST = train_test_split(X, y, test_size=0.2)\n",
    "X_train_scl, X_test_scl = scale_data(X_TRAIN, X_TEST)\n",
    "X_train_imp, X_test_imp = impute_data(X_train_scl, X_test_scl)\n",
    "\n",
    "X_TRAIN = pd.DataFrame(X_train_imp, columns=X_TRAIN.columns)\n",
    "X_TEST = pd.DataFrame(X_test_imp, columns=X_TEST.columns)"
   ],
   "outputs": [],
   "execution_count": 13
  },
  {
   "cell_type": "markdown",
   "id": "b61e2db8481d56a2",
   "metadata": {},
   "source": [
    "#### 2.1 Feature Selection"
   ]
  },
  {
   "cell_type": "code",
   "id": "34d5b40cf1d9af3b",
   "metadata": {
    "ExecuteTime": {
     "end_time": "2024-05-20T20:35:43.894321Z",
     "start_time": "2024-05-20T20:35:26.842810Z"
    }
   },
   "source": [
    "from sklearn.feature_selection import SequentialFeatureSelector as SFS\n",
    "from sklearn.linear_model import LogisticRegression\n",
    "\n",
    "def feature_selection(X_train, y_train, X_test, verbose=False): \n",
    "    selector = SFS(LogisticRegression(), n_features_to_select=13, direction='forward', n_jobs=-1)\n",
    "    selector.fit(X_train, y_train)\n",
    "    if verbose:\n",
    "        N, M = X_train.shape\n",
    "        features_selected = np.arange(M)[selector.get_support()]\n",
    "        print(\"The features selected are columns: \", features_selected)\n",
    "    return selector.transform(X_train), selector.transform(X_test)\n",
    "\n",
    "X_TRAIN, X_TEST = feature_selection(X_TRAIN, y_TRAIN, X_TEST, True)"
   ],
   "outputs": [
    {
     "name": "stdout",
     "output_type": "stream",
     "text": [
      "The features selected are columns:  [ 2  7  8 16 17 19 20 21 23 25 26 27 28]\n"
     ]
    }
   ],
   "execution_count": 14
  },
  {
   "cell_type": "markdown",
   "id": "4d1cd5a9bbb0f86b",
   "metadata": {},
   "source": [
    "#### 2.2 KFold Cross Validation"
   ]
  },
  {
   "cell_type": "code",
   "id": "dc8b24eb7dc939cb",
   "metadata": {
    "ExecuteTime": {
     "end_time": "2024-05-20T20:35:43.899034Z",
     "start_time": "2024-05-20T20:35:43.895326Z"
    }
   },
   "source": [
    "from sklearn.model_selection import KFold\n",
    "from sklearn.metrics import accuracy_score, precision_score, recall_score, f1_score, matthews_corrcoef\n",
    "\n",
    "def cross_validation(model, X, y):\n",
    "    TRUTH = None\n",
    "    PREDS = None\n",
    "    kf = KFold(n_splits=5, shuffle=True)\n",
    "    for train_index, test_index in kf.split(X):\n",
    "        X_train, y_train = X[train_index], y.to_numpy()[train_index]\n",
    "        X_test, y_test = X[test_index], y.to_numpy()[test_index]\n",
    "        \n",
    "        model.fit(X_train, y_train)\n",
    "        preds = model.predict(X_test)\n",
    "        if TRUTH is None:\n",
    "            PREDS = preds\n",
    "            TRUTH = y_test\n",
    "        else:\n",
    "            PREDS = np.hstack((PREDS, preds))\n",
    "            TRUTH = np.hstack((TRUTH, y_test))\n",
    "    return TRUTH, PREDS"
   ],
   "outputs": [],
   "execution_count": 15
  },
  {
   "cell_type": "code",
   "id": "fe276d9166c129c2",
   "metadata": {
    "ExecuteTime": {
     "end_time": "2024-05-20T20:35:43.905238Z",
     "start_time": "2024-05-20T20:35:43.899034Z"
    }
   },
   "source": [
    "def evaluate(model, X, y, n_iter=10):\n",
    "    acc, pre, rec, f1, mcc = [], [], [], [], []\n",
    "    for _ in range(n_iter):\n",
    "        truth, preds = cross_validation(model, X, y)\n",
    "        acc.append(accuracy_score(truth, preds))\n",
    "        pre.append(precision_score(truth, preds, average='weighted', zero_division=1))\n",
    "        rec.append(recall_score(truth, preds, average='weighted'))\n",
    "        f1.append(f1_score(truth, preds, average='weighted'))\n",
    "        mcc.append(matthews_corrcoef(truth, preds)) \n",
    "    return {\n",
    "        'Model': model,\n",
    "        'Accuracy': np.mean(acc),\n",
    "        'Precision': np.mean(pre),\n",
    "        'Recall': np.mean(rec),\n",
    "        'F1-Score': np.mean(f1),\n",
    "        'MCC': np.mean(mcc)\n",
    "    }"
   ],
   "outputs": [],
   "execution_count": 16
  },
  {
   "cell_type": "markdown",
   "id": "5218522c6999b051",
   "metadata": {},
   "source": [
    "#### 2.3 Model Evaluation"
   ]
  },
  {
   "cell_type": "code",
   "id": "13d2e9541e1d907b",
   "metadata": {
    "ExecuteTime": {
     "end_time": "2024-05-20T20:36:12.254947Z",
     "start_time": "2024-05-20T20:35:43.906363Z"
    }
   },
   "source": [
    "from sklearn.tree import DecisionTreeClassifier\n",
    "from sklearn.linear_model import LogisticRegression\n",
    "from sklearn.naive_bayes import GaussianNB\n",
    "from sklearn.neighbors import KNeighborsClassifier\n",
    "from sklearn.svm import SVC\n",
    "\n",
    "eval_metrics = ['Model', 'Accuracy', 'Precision', 'Recall', 'F1-Score', 'MCC']\n",
    "tree = evaluate(DecisionTreeClassifier(), X_TRAIN, y_TRAIN)\n",
    "lgr = evaluate(LogisticRegression(), X_TRAIN, y_TRAIN)\n",
    "naive_bayes = evaluate(GaussianNB(), X_TRAIN, y_TRAIN)\n",
    "knn = evaluate(KNeighborsClassifier(), X_TRAIN, y_TRAIN)\n",
    "svm = evaluate(SVC(), X_TRAIN, y_TRAIN)\n",
    "pd.DataFrame([tree, lgr, naive_bayes, knn, svm], columns=eval_metrics)"
   ],
   "outputs": [
    {
     "data": {
      "text/plain": [
       "                      Model  Accuracy  Precision    Recall  F1-Score       MCC\n",
       "0  DecisionTreeClassifier()  0.929727   0.929685  0.929727  0.929660  0.841430\n",
       "1      LogisticRegression()  0.853492   0.838898  0.853492  0.835155  0.632937\n",
       "2              GaussianNB()  0.098143   0.802875  0.098143  0.087376  0.120785\n",
       "3    KNeighborsClassifier()  0.857325   0.850165  0.857325  0.843109  0.644772\n",
       "4                     SVC()  0.850664   0.846476  0.850664  0.828455  0.622230"
      ],
      "text/html": [
       "<div>\n",
       "<style scoped>\n",
       "    .dataframe tbody tr th:only-of-type {\n",
       "        vertical-align: middle;\n",
       "    }\n",
       "\n",
       "    .dataframe tbody tr th {\n",
       "        vertical-align: top;\n",
       "    }\n",
       "\n",
       "    .dataframe thead th {\n",
       "        text-align: right;\n",
       "    }\n",
       "</style>\n",
       "<table border=\"1\" class=\"dataframe\">\n",
       "  <thead>\n",
       "    <tr style=\"text-align: right;\">\n",
       "      <th></th>\n",
       "      <th>Model</th>\n",
       "      <th>Accuracy</th>\n",
       "      <th>Precision</th>\n",
       "      <th>Recall</th>\n",
       "      <th>F1-Score</th>\n",
       "      <th>MCC</th>\n",
       "    </tr>\n",
       "  </thead>\n",
       "  <tbody>\n",
       "    <tr>\n",
       "      <th>0</th>\n",
       "      <td>DecisionTreeClassifier()</td>\n",
       "      <td>0.929727</td>\n",
       "      <td>0.929685</td>\n",
       "      <td>0.929727</td>\n",
       "      <td>0.929660</td>\n",
       "      <td>0.841430</td>\n",
       "    </tr>\n",
       "    <tr>\n",
       "      <th>1</th>\n",
       "      <td>LogisticRegression()</td>\n",
       "      <td>0.853492</td>\n",
       "      <td>0.838898</td>\n",
       "      <td>0.853492</td>\n",
       "      <td>0.835155</td>\n",
       "      <td>0.632937</td>\n",
       "    </tr>\n",
       "    <tr>\n",
       "      <th>2</th>\n",
       "      <td>GaussianNB()</td>\n",
       "      <td>0.098143</td>\n",
       "      <td>0.802875</td>\n",
       "      <td>0.098143</td>\n",
       "      <td>0.087376</td>\n",
       "      <td>0.120785</td>\n",
       "    </tr>\n",
       "    <tr>\n",
       "      <th>3</th>\n",
       "      <td>KNeighborsClassifier()</td>\n",
       "      <td>0.857325</td>\n",
       "      <td>0.850165</td>\n",
       "      <td>0.857325</td>\n",
       "      <td>0.843109</td>\n",
       "      <td>0.644772</td>\n",
       "    </tr>\n",
       "    <tr>\n",
       "      <th>4</th>\n",
       "      <td>SVC()</td>\n",
       "      <td>0.850664</td>\n",
       "      <td>0.846476</td>\n",
       "      <td>0.850664</td>\n",
       "      <td>0.828455</td>\n",
       "      <td>0.622230</td>\n",
       "    </tr>\n",
       "  </tbody>\n",
       "</table>\n",
       "</div>"
      ]
     },
     "execution_count": 17,
     "metadata": {},
     "output_type": "execute_result"
    }
   ],
   "execution_count": 17
  },
  {
   "cell_type": "markdown",
   "id": "2eb5fadc77b4e4d0",
   "metadata": {},
   "source": [
    "#### 2.4 Hyperparameter Tuning"
   ]
  },
  {
   "cell_type": "code",
   "id": "3ff3238a4ef5c21c",
   "metadata": {
    "ExecuteTime": {
     "end_time": "2024-05-20T20:36:12.259310Z",
     "start_time": "2024-05-20T20:36:12.256036Z"
    }
   },
   "source": [
    "model_params = {\n",
    "    'Decision Tree': {\n",
    "        'model': DecisionTreeClassifier(),\n",
    "        'params': {\n",
    "            'max_depth': [2, 3, 5, 10, 20],\n",
    "            'min_samples_split': [2, 3, 5, 10, 15],\n",
    "            'min_samples_leaf': [2, 3, 5, 10, 15],\n",
    "            'criterion': ['gini', 'entropy', 'log_loss']\n",
    "        }\n",
    "    },\n",
    "    'KNN': {\n",
    "        'model': KNeighborsClassifier(),\n",
    "        'params': {\n",
    "            'n_neighbors' : [3, 5, 7, 9, 11],\n",
    "            'weights' : ['uniform', 'distance'],\n",
    "            'metric' : ['minkowski', 'euclidean', 'manhattan']\n",
    "        }\n",
    "    },\n",
    "    'SVC': {\n",
    "        'model': SVC(),\n",
    "        'params': {\n",
    "            'C': [0.1, 1, 10, 100],  \n",
    "            'gamma': [1, 0.1, 0.01, 0.001], \n",
    "            'kernel': ['rbf', 'linear'] \n",
    "        }\n",
    "    }\n",
    "}"
   ],
   "outputs": [],
   "execution_count": 18
  },
  {
   "cell_type": "code",
   "id": "1c996b4bb720017c",
   "metadata": {
    "ExecuteTime": {
     "end_time": "2024-05-20T20:38:14.878893Z",
     "start_time": "2024-05-20T20:36:12.260316Z"
    }
   },
   "source": [
    "from sklearn.model_selection import GridSearchCV\n",
    "\n",
    "scores = []\n",
    "for name, model in model_params.items():\n",
    "    grid_search = GridSearchCV(model['model'], model['params'], cv=5, n_jobs=-1)\n",
    "    grid_search.fit(X_TRAIN, y_TRAIN)\n",
    "    scores.append({\n",
    "        'Best Estimator': grid_search.best_estimator_,\n",
    "        'Best Score': grid_search.best_score_,\n",
    "        'Best Params': grid_search.best_params_\n",
    "    })\n",
    "df_tuning = pd.DataFrame(scores, columns=['Best Estimator', 'Best Score', 'Best Params'])\n",
    "df_tuning"
   ],
   "outputs": [
    {
     "data": {
      "text/plain": [
       "                                      Best Estimator  Best Score  \\\n",
       "0  DecisionTreeClassifier(max_depth=10, min_sampl...    0.932368   \n",
       "1           KNeighborsClassifier(weights='distance')    0.866440   \n",
       "2                              SVC(C=100, gamma=0.1)    0.895230   \n",
       "\n",
       "                                         Best Params  \n",
       "0  {'criterion': 'gini', 'max_depth': 10, 'min_sa...  \n",
       "1  {'metric': 'minkowski', 'n_neighbors': 5, 'wei...  \n",
       "2          {'C': 100, 'gamma': 0.1, 'kernel': 'rbf'}  "
      ],
      "text/html": [
       "<div>\n",
       "<style scoped>\n",
       "    .dataframe tbody tr th:only-of-type {\n",
       "        vertical-align: middle;\n",
       "    }\n",
       "\n",
       "    .dataframe tbody tr th {\n",
       "        vertical-align: top;\n",
       "    }\n",
       "\n",
       "    .dataframe thead th {\n",
       "        text-align: right;\n",
       "    }\n",
       "</style>\n",
       "<table border=\"1\" class=\"dataframe\">\n",
       "  <thead>\n",
       "    <tr style=\"text-align: right;\">\n",
       "      <th></th>\n",
       "      <th>Best Estimator</th>\n",
       "      <th>Best Score</th>\n",
       "      <th>Best Params</th>\n",
       "    </tr>\n",
       "  </thead>\n",
       "  <tbody>\n",
       "    <tr>\n",
       "      <th>0</th>\n",
       "      <td>DecisionTreeClassifier(max_depth=10, min_sampl...</td>\n",
       "      <td>0.932368</td>\n",
       "      <td>{'criterion': 'gini', 'max_depth': 10, 'min_sa...</td>\n",
       "    </tr>\n",
       "    <tr>\n",
       "      <th>1</th>\n",
       "      <td>KNeighborsClassifier(weights='distance')</td>\n",
       "      <td>0.866440</td>\n",
       "      <td>{'metric': 'minkowski', 'n_neighbors': 5, 'wei...</td>\n",
       "    </tr>\n",
       "    <tr>\n",
       "      <th>2</th>\n",
       "      <td>SVC(C=100, gamma=0.1)</td>\n",
       "      <td>0.895230</td>\n",
       "      <td>{'C': 100, 'gamma': 0.1, 'kernel': 'rbf'}</td>\n",
       "    </tr>\n",
       "  </tbody>\n",
       "</table>\n",
       "</div>"
      ]
     },
     "execution_count": 19,
     "metadata": {},
     "output_type": "execute_result"
    }
   ],
   "execution_count": 19
  },
  {
   "cell_type": "markdown",
   "id": "2c580f6d30a643e3",
   "metadata": {},
   "source": [
    "#### 2.5 Model Selection"
   ]
  },
  {
   "cell_type": "code",
   "id": "4ce22c6c0a46ae57",
   "metadata": {
    "ExecuteTime": {
     "end_time": "2024-05-20T20:38:14.883016Z",
     "start_time": "2024-05-20T20:38:14.879899Z"
    }
   },
   "source": [
    "best_classification_model = df_tuning.at[df_tuning['Best Score'].idxmax(), 'Best Estimator']\n",
    "print(\"-------------- Best Classification Model: -------------- \\n\")\n",
    "print(best_classification_model)"
   ],
   "outputs": [
    {
     "name": "stdout",
     "output_type": "stream",
     "text": [
      "-------------- Best Classification Model: -------------- \n",
      "\n",
      "DecisionTreeClassifier(max_depth=10, min_samples_leaf=5, min_samples_split=10)\n"
     ]
    }
   ],
   "execution_count": 20
  },
  {
   "cell_type": "code",
   "id": "94d83621839d879b",
   "metadata": {
    "ExecuteTime": {
     "end_time": "2024-05-20T20:38:15.553051Z",
     "start_time": "2024-05-20T20:38:14.883016Z"
    }
   },
   "source": [
    "evaluation = pd.DataFrame([evaluate(best_classification_model, X_TRAIN, y_TRAIN)], columns=eval_metrics)\n",
    "evaluation"
   ],
   "outputs": [
    {
     "data": {
      "text/plain": [
       "                                               Model  Accuracy  Precision  \\\n",
       "0  DecisionTreeClassifier(max_depth=10, min_sampl...  0.929199   0.926832   \n",
       "\n",
       "     Recall  F1-Score       MCC  \n",
       "0  0.929199  0.927565  0.837837  "
      ],
      "text/html": [
       "<div>\n",
       "<style scoped>\n",
       "    .dataframe tbody tr th:only-of-type {\n",
       "        vertical-align: middle;\n",
       "    }\n",
       "\n",
       "    .dataframe tbody tr th {\n",
       "        vertical-align: top;\n",
       "    }\n",
       "\n",
       "    .dataframe thead th {\n",
       "        text-align: right;\n",
       "    }\n",
       "</style>\n",
       "<table border=\"1\" class=\"dataframe\">\n",
       "  <thead>\n",
       "    <tr style=\"text-align: right;\">\n",
       "      <th></th>\n",
       "      <th>Model</th>\n",
       "      <th>Accuracy</th>\n",
       "      <th>Precision</th>\n",
       "      <th>Recall</th>\n",
       "      <th>F1-Score</th>\n",
       "      <th>MCC</th>\n",
       "    </tr>\n",
       "  </thead>\n",
       "  <tbody>\n",
       "    <tr>\n",
       "      <th>0</th>\n",
       "      <td>DecisionTreeClassifier(max_depth=10, min_sampl...</td>\n",
       "      <td>0.929199</td>\n",
       "      <td>0.926832</td>\n",
       "      <td>0.929199</td>\n",
       "      <td>0.927565</td>\n",
       "      <td>0.837837</td>\n",
       "    </tr>\n",
       "  </tbody>\n",
       "</table>\n",
       "</div>"
      ]
     },
     "execution_count": 21,
     "metadata": {},
     "output_type": "execute_result"
    }
   ],
   "execution_count": 21
  },
  {
   "cell_type": "markdown",
   "id": "efd10dada5c47cef",
   "metadata": {},
   "source": [
    "#### 2.6 Model Testing"
   ]
  },
  {
   "cell_type": "code",
   "id": "c987f6eec25db32e",
   "metadata": {
    "ExecuteTime": {
     "end_time": "2024-05-20T20:38:15.579660Z",
     "start_time": "2024-05-20T20:38:15.554057Z"
    }
   },
   "source": [
    "best_classification_model.fit(X_TRAIN, y_TRAIN)\n",
    "preds = best_classification_model.predict(X_TEST)\n",
    "test_report = {\n",
    "    'Model': best_classification_model,\n",
    "    'Accuracy': accuracy_score(y_TEST, preds),\n",
    "    'Precision': precision_score(y_TEST, preds, average='weighted', zero_division=1),\n",
    "    'Recall': recall_score(y_TEST, preds, average='weighted'),\n",
    "    'F1-Score': f1_score(y_TEST, preds, average='weighted'),\n",
    "    'MCC': matthews_corrcoef(y_TEST, preds)\n",
    "}\n",
    "best_model_test = pd.DataFrame([test_report], columns=eval_metrics)\n",
    "best_model_test"
   ],
   "outputs": [
    {
     "data": {
      "text/plain": [
       "                                               Model  Accuracy  Precision  \\\n",
       "0  DecisionTreeClassifier(max_depth=10, min_sampl...  0.931199   0.930095   \n",
       "\n",
       "     Recall  F1-Score       MCC  \n",
       "0  0.931199   0.92973  0.839527  "
      ],
      "text/html": [
       "<div>\n",
       "<style scoped>\n",
       "    .dataframe tbody tr th:only-of-type {\n",
       "        vertical-align: middle;\n",
       "    }\n",
       "\n",
       "    .dataframe tbody tr th {\n",
       "        vertical-align: top;\n",
       "    }\n",
       "\n",
       "    .dataframe thead th {\n",
       "        text-align: right;\n",
       "    }\n",
       "</style>\n",
       "<table border=\"1\" class=\"dataframe\">\n",
       "  <thead>\n",
       "    <tr style=\"text-align: right;\">\n",
       "      <th></th>\n",
       "      <th>Model</th>\n",
       "      <th>Accuracy</th>\n",
       "      <th>Precision</th>\n",
       "      <th>Recall</th>\n",
       "      <th>F1-Score</th>\n",
       "      <th>MCC</th>\n",
       "    </tr>\n",
       "  </thead>\n",
       "  <tbody>\n",
       "    <tr>\n",
       "      <th>0</th>\n",
       "      <td>DecisionTreeClassifier(max_depth=10, min_sampl...</td>\n",
       "      <td>0.931199</td>\n",
       "      <td>0.930095</td>\n",
       "      <td>0.931199</td>\n",
       "      <td>0.92973</td>\n",
       "      <td>0.839527</td>\n",
       "    </tr>\n",
       "  </tbody>\n",
       "</table>\n",
       "</div>"
      ]
     },
     "execution_count": 22,
     "metadata": {},
     "output_type": "execute_result"
    }
   ],
   "execution_count": 22
  },
  {
   "cell_type": "markdown",
   "id": "669442d819cd0bce",
   "metadata": {},
   "source": [
    "### 3. Regression Models"
   ]
  },
  {
   "cell_type": "markdown",
   "id": "b2e79d8a45d2cea0",
   "metadata": {},
   "source": [
    "Run this cell to test our models with the test data set (This cell is only for testing purposes)"
   ]
  },
  {
   "cell_type": "code",
   "id": "114ee452afa929c5",
   "metadata": {},
   "source": [
    "import pandas as pd\n",
    "import numpy as np\n",
    "from sklearn.model_selection import train_test_split\n",
    "from sklearn.preprocessing import StandardScaler\n",
    "from sklearn.impute import SimpleImputer\n",
    "from sklearn.feature_selection import SequentialFeatureSelector as SFS\n",
    "from sklearn.linear_model import LinearRegression\n",
    "from sklearn.model_selection import KFold\n",
    "from sklearn.metrics import accuracy_score, precision_score, recall_score, f1_score, matthews_corrcoef\n",
    "from sklearn.tree import DecisionTreeClassifier\n",
    "\n",
    "eval_metrics = ['Model', 'Accuracy', 'Precision', 'Recall', 'F1-Score', 'MCC']\n",
    "\n",
    "def encode_df(df):\n",
    "    encoded_values = {\n",
    "        'M': '0', 'F': '1',\n",
    "        'f': '0', 't': '1',\n",
    "        'WEST': '0', 'STMW': '1',\n",
    "        'SVHC': '2', 'SVI': '3',\n",
    "        'SVHD': '4', 'other': '5'\n",
    "    }\n",
    "    df_data = df.drop('diagnoses', axis = 1)\n",
    "    encoded = pd.DataFrame(df_data.replace(encoded_values), columns=df_data.columns)\n",
    "    diagnoses_encoded = {\n",
    "        '-': 0,                          # healthy\n",
    "        'A': 1, 'B': 1, 'C': 1, 'D': 1,  # hyperthyroid conditions\n",
    "        'E': 2, 'F': 2, 'G': 2, 'H': 2,  # hypothyroid conditions\n",
    "        'I': 3, 'J': 3,                  # binding protein\n",
    "        'K': 4,                          # general health\n",
    "        'L': 5, 'M': 5, 'N': 5,          # replacement therapy\n",
    "        'R': 6,                          # discordant results\n",
    "    }\n",
    "    diagnoses = pd.DataFrame(df['diagnoses'], columns=['diagnoses'])\n",
    "    diagnoses['diagnoses'] = diagnoses['diagnoses'].map(diagnoses_encoded).fillna(7).astype(int)\n",
    "    return pd.concat([encoded, diagnoses], axis=1)\n",
    "\n",
    "def scale_data(X_train, X_test):\n",
    "    scaler = StandardScaler()\n",
    "    scaler.fit(X_train)\n",
    "    return scaler.transform(X_train), scaler.transform(X_test)\n",
    "\n",
    "def impute_data(X_train, X_test):\n",
    "    imputer = SimpleImputer(strategy='mean')\n",
    "    imputer.fit(X_train)\n",
    "    return imputer.transform(X_train), imputer.transform(X_test)\n",
    "\n",
    "def feature_selection(X_train, y_train, X_test, verbose=False): \n",
    "    selector = SFS(LinearRegression(), \n",
    "                   n_features_to_select=13, \n",
    "                   direction='forward',\n",
    "                   n_jobs=-1)\n",
    "    selector.fit(X_train, y_train)\n",
    "    if verbose:\n",
    "        N, M = X_train.shape\n",
    "        features=selector.get_support()\n",
    "        features_selected = np.arange(M)[features]\n",
    "        print(\"The features selected are columns: \", features_selected)\n",
    "    return selector.transform(X_train), selector.transform(X_test)\n",
    "\n",
    "df_copy = pd.read_csv('proj-data.csv')\n",
    "df_X_IVS = pd.read_csv('proj-test-data.csv') # Replace with the complete IVS set !\n",
    "df_y_IVS = pd.read_csv('proj-test-class.csv') # Replace with the complete IVS set !\n",
    "df_IVS = pd.concat([df_X_IVS, df_y_IVS], axis=1)\n",
    "\n",
    "df_copy.replace('?', np.nan, inplace=True)\n",
    "df_IVS.replace('?', np.nan, inplace=True)\n",
    "df_clean = df_copy.drop('[record identification]', axis = 1)\n",
    "df_IVS_clean = df_IVS.drop('[record identification]', axis = 1)\n",
    "test_encoded = encode_df(df_clean)\n",
    "df_IVS_encoded = encode_df(df_IVS_clean)\n",
    "\n",
    "X = test_encoded.drop('diagnoses', axis = 1)\n",
    "y = test_encoded['diagnoses']\n",
    "X_IVS = df_IVS_encoded.drop('diagnoses', axis = 1)\n",
    "y_IVS = df_IVS_encoded['diagnoses']\n",
    "X_train, _, y_train, _ = train_test_split(X, y, test_size=0.2)\n",
    "\n",
    "X_train_scl, X_ivs_scl = scale_data(X_train, X_IVS)\n",
    "X_train_imp, X_ivs_imp = impute_data(X_train_scl, X_ivs_scl)\n",
    "X_train_processed = pd.DataFrame(X_train_imp, columns=X_train.columns)\n",
    "X_ivs_processed = pd.DataFrame(X_ivs_imp, columns=X_IVS.columns)\n",
    "X_train, X_IVS = feature_selection(X_train_processed, y_train, X_ivs_processed)\n",
    "\n",
    "##### Define the best classification model here ######\n",
    "classification_model = DecisionTreeClassifier(criterion='entropy', max_depth=20, min_samples_leaf=2)\n",
    "classification_model.fit(X_train, y_train)\n",
    "preds = classification_model.predict(X_IVS)\n",
    "results = {\n",
    "    'Model': classification_model,\n",
    "    'Accuracy': accuracy_score(y_IVS, preds),\n",
    "    'Precision': precision_score(y_IVS, preds, average='weighted', zero_division=1),\n",
    "    'Recall': recall_score(y_IVS, preds, average='weighted'),\n",
    "    'F1-Score': f1_score(y_IVS, preds, average='weighted'),\n",
    "    'MCC': matthews_corrcoef(y_IVS, preds)\n",
    "}\n",
    "##### Remove comment to show results ######\n",
    "# ivs_testing = pd.DataFrame([results], columns=eval_metrics)\n",
    "# ivs_testing"
   ],
   "outputs": [],
   "execution_count": null
  }
 ],
 "metadata": {
  "kernelspec": {
   "display_name": "Python 3 (ipykernel)",
   "language": "python",
   "name": "python3"
  },
  "language_info": {
   "codemirror_mode": {
    "name": "ipython",
    "version": 3
   },
   "file_extension": ".py",
   "mimetype": "text/x-python",
   "name": "python",
   "nbconvert_exporter": "python",
   "pygments_lexer": "ipython3",
   "version": "3.11.2"
  }
 },
 "nbformat": 4,
 "nbformat_minor": 5
}
