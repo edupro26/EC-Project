{
 "cells": [
  {
   "metadata": {},
   "cell_type": "markdown",
   "source": [
    "# Engenharia do Conhecimento 2023/2024\n",
    "\n",
    "## Project: *Thyroid disease Data Set*\n",
    "\n",
    "#### Group 6:\n",
    "\n",
    "- Eduardo Proença 57551\n",
    "- Tiago Oliveira 54979\n",
    "- Bernardo Lopes 54386"
   ],
   "id": "37af115655e6ef16"
  },
  {
   "metadata": {},
   "cell_type": "markdown",
   "source": [
    "### Summary\n",
    "\n",
    "1. Data Processing\n",
    "    1. Creating a Data Frame\n",
    "    2. Data investigation\n",
    "    3. Encoding Data\n",
    "    4. Splitting into training and testing set\n",
    "    5. Imputing missing values\n",
    "    6. Scaling Data\n",
    "    \n",
    "2. Classification Models\n",
    "    1. Feature Selection\n",
    "    2. KFold Cross validation\n",
    "    3. Decision Tree\n",
    "    4. Logistic Regression\n",
    "    5. Naive Bayes\n",
    "    6. KNN\n",
    "    7. SVM\n",
    "       \n",
    "3. Model Selection\n",
    "    1. Hyperparameter tuning\n",
    "    2. Model Testing"
   ],
   "id": "8735b013813cf85e"
  },
  {
   "metadata": {},
   "cell_type": "markdown",
   "source": [
    "## 1. Data Processing\n",
    "\n",
    "When constructing a machine learning model, data processing is an important step. We need to ensure that our data set is properly processed so that it can be used in the best possible way by diferent classification models."
   ],
   "id": "7a3fe0f7bf074860"
  },
  {
   "metadata": {},
   "cell_type": "markdown",
   "source": [
    "### 1.1 Creating a Data Frame\n",
    "\n",
    "The first step is load our data set. For that, we can use the [Pandas](https://pandas.pydata.org) Python Library, to read the file \"proj-data.csv\", which contains the data set we will be using in this project and build a DataFrame"
   ],
   "id": "79a91cdf41098297"
  },
  {
   "metadata": {
    "ExecuteTime": {
     "end_time": "2024-05-07T19:45:08.042933Z",
     "start_time": "2024-05-07T19:45:08.024814Z"
    }
   },
   "cell_type": "code",
   "source": [
    "import pandas as pd\n",
    "\n",
    "# Load data set\n",
    "df_thyroid = pd.read_csv('proj-data.csv')\n",
    "df_thyroid.shape"
   ],
   "id": "f2edb1e685a0e2d5",
   "outputs": [
    {
     "data": {
      "text/plain": [
       "(7338, 31)"
      ]
     },
     "execution_count": 456,
     "metadata": {},
     "output_type": "execute_result"
    }
   ],
   "execution_count": 456
  },
  {
   "metadata": {
    "ExecuteTime": {
     "end_time": "2024-05-07T19:45:08.194611Z",
     "start_time": "2024-05-07T19:45:08.183940Z"
    }
   },
   "cell_type": "code",
   "source": "df_thyroid.head()",
   "id": "3b1ab9a330192af9",
   "outputs": [
    {
     "data": {
      "text/plain": [
       "   age: sex: on thyroxine: query on thyroxine: on antithyroid medication:  \\\n",
       "0    29    F             f                   f                          f   \n",
       "1    29    F             f                   f                          f   \n",
       "2    36    F             f                   f                          f   \n",
       "3    60    F             f                   f                          f   \n",
       "4    77    F             f                   f                          f   \n",
       "\n",
       "  sick: pregnant: thyroid surgery: I131 treatment: query hypothyroid:  ...  \\\n",
       "0     f         f                f               f                  t  ...   \n",
       "1     f         f                f               f                  f  ...   \n",
       "2     f         f                f               f                  f  ...   \n",
       "3     f         f                f               f                  f  ...   \n",
       "4     f         f                f               f                  f  ...   \n",
       "\n",
       "  TT4: T4U measured: T4U: FTI measured: FTI: TBG measured: TBG:  \\\n",
       "0    ?             f    ?             f    ?             f    ?   \n",
       "1  128             f    ?             f    ?             f    ?   \n",
       "2    ?             f    ?             f    ?             t   26   \n",
       "3    ?             f    ?             f    ?             t   26   \n",
       "4    ?             f    ?             f    ?             t   21   \n",
       "\n",
       "  referral source: diagnoses [record identification]  \n",
       "0            other         -             [861106018]  \n",
       "1            other         -             [860916073]  \n",
       "2            other         -             [850726049]  \n",
       "3            other         -             [861010020]  \n",
       "4            other         -             [860324074]  \n",
       "\n",
       "[5 rows x 31 columns]"
      ],
      "text/html": [
       "<div>\n",
       "<style scoped>\n",
       "    .dataframe tbody tr th:only-of-type {\n",
       "        vertical-align: middle;\n",
       "    }\n",
       "\n",
       "    .dataframe tbody tr th {\n",
       "        vertical-align: top;\n",
       "    }\n",
       "\n",
       "    .dataframe thead th {\n",
       "        text-align: right;\n",
       "    }\n",
       "</style>\n",
       "<table border=\"1\" class=\"dataframe\">\n",
       "  <thead>\n",
       "    <tr style=\"text-align: right;\">\n",
       "      <th></th>\n",
       "      <th>age:</th>\n",
       "      <th>sex:</th>\n",
       "      <th>on thyroxine:</th>\n",
       "      <th>query on thyroxine:</th>\n",
       "      <th>on antithyroid medication:</th>\n",
       "      <th>sick:</th>\n",
       "      <th>pregnant:</th>\n",
       "      <th>thyroid surgery:</th>\n",
       "      <th>I131 treatment:</th>\n",
       "      <th>query hypothyroid:</th>\n",
       "      <th>...</th>\n",
       "      <th>TT4:</th>\n",
       "      <th>T4U measured:</th>\n",
       "      <th>T4U:</th>\n",
       "      <th>FTI measured:</th>\n",
       "      <th>FTI:</th>\n",
       "      <th>TBG measured:</th>\n",
       "      <th>TBG:</th>\n",
       "      <th>referral source:</th>\n",
       "      <th>diagnoses</th>\n",
       "      <th>[record identification]</th>\n",
       "    </tr>\n",
       "  </thead>\n",
       "  <tbody>\n",
       "    <tr>\n",
       "      <th>0</th>\n",
       "      <td>29</td>\n",
       "      <td>F</td>\n",
       "      <td>f</td>\n",
       "      <td>f</td>\n",
       "      <td>f</td>\n",
       "      <td>f</td>\n",
       "      <td>f</td>\n",
       "      <td>f</td>\n",
       "      <td>f</td>\n",
       "      <td>t</td>\n",
       "      <td>...</td>\n",
       "      <td>?</td>\n",
       "      <td>f</td>\n",
       "      <td>?</td>\n",
       "      <td>f</td>\n",
       "      <td>?</td>\n",
       "      <td>f</td>\n",
       "      <td>?</td>\n",
       "      <td>other</td>\n",
       "      <td>-</td>\n",
       "      <td>[861106018]</td>\n",
       "    </tr>\n",
       "    <tr>\n",
       "      <th>1</th>\n",
       "      <td>29</td>\n",
       "      <td>F</td>\n",
       "      <td>f</td>\n",
       "      <td>f</td>\n",
       "      <td>f</td>\n",
       "      <td>f</td>\n",
       "      <td>f</td>\n",
       "      <td>f</td>\n",
       "      <td>f</td>\n",
       "      <td>f</td>\n",
       "      <td>...</td>\n",
       "      <td>128</td>\n",
       "      <td>f</td>\n",
       "      <td>?</td>\n",
       "      <td>f</td>\n",
       "      <td>?</td>\n",
       "      <td>f</td>\n",
       "      <td>?</td>\n",
       "      <td>other</td>\n",
       "      <td>-</td>\n",
       "      <td>[860916073]</td>\n",
       "    </tr>\n",
       "    <tr>\n",
       "      <th>2</th>\n",
       "      <td>36</td>\n",
       "      <td>F</td>\n",
       "      <td>f</td>\n",
       "      <td>f</td>\n",
       "      <td>f</td>\n",
       "      <td>f</td>\n",
       "      <td>f</td>\n",
       "      <td>f</td>\n",
       "      <td>f</td>\n",
       "      <td>f</td>\n",
       "      <td>...</td>\n",
       "      <td>?</td>\n",
       "      <td>f</td>\n",
       "      <td>?</td>\n",
       "      <td>f</td>\n",
       "      <td>?</td>\n",
       "      <td>t</td>\n",
       "      <td>26</td>\n",
       "      <td>other</td>\n",
       "      <td>-</td>\n",
       "      <td>[850726049]</td>\n",
       "    </tr>\n",
       "    <tr>\n",
       "      <th>3</th>\n",
       "      <td>60</td>\n",
       "      <td>F</td>\n",
       "      <td>f</td>\n",
       "      <td>f</td>\n",
       "      <td>f</td>\n",
       "      <td>f</td>\n",
       "      <td>f</td>\n",
       "      <td>f</td>\n",
       "      <td>f</td>\n",
       "      <td>f</td>\n",
       "      <td>...</td>\n",
       "      <td>?</td>\n",
       "      <td>f</td>\n",
       "      <td>?</td>\n",
       "      <td>f</td>\n",
       "      <td>?</td>\n",
       "      <td>t</td>\n",
       "      <td>26</td>\n",
       "      <td>other</td>\n",
       "      <td>-</td>\n",
       "      <td>[861010020]</td>\n",
       "    </tr>\n",
       "    <tr>\n",
       "      <th>4</th>\n",
       "      <td>77</td>\n",
       "      <td>F</td>\n",
       "      <td>f</td>\n",
       "      <td>f</td>\n",
       "      <td>f</td>\n",
       "      <td>f</td>\n",
       "      <td>f</td>\n",
       "      <td>f</td>\n",
       "      <td>f</td>\n",
       "      <td>f</td>\n",
       "      <td>...</td>\n",
       "      <td>?</td>\n",
       "      <td>f</td>\n",
       "      <td>?</td>\n",
       "      <td>f</td>\n",
       "      <td>?</td>\n",
       "      <td>t</td>\n",
       "      <td>21</td>\n",
       "      <td>other</td>\n",
       "      <td>-</td>\n",
       "      <td>[860324074]</td>\n",
       "    </tr>\n",
       "  </tbody>\n",
       "</table>\n",
       "<p>5 rows × 31 columns</p>\n",
       "</div>"
      ]
     },
     "execution_count": 457,
     "metadata": {},
     "output_type": "execute_result"
    }
   ],
   "execution_count": 457
  },
  {
   "metadata": {},
   "cell_type": "markdown",
   "source": [
    "### 1.2 Data investigation\n",
    "\n",
    "After building our DataFrame, it's important to do some investigation, so we can gain a better understanding of our data."
   ],
   "id": "d58cfed3fb9fc2a3"
  },
  {
   "metadata": {},
   "cell_type": "markdown",
   "source": "Lets a have a deeper look at our DataFrame:",
   "id": "c10efbf513bc9903"
  },
  {
   "metadata": {
    "ExecuteTime": {
     "end_time": "2024-05-07T19:45:08.224930Z",
     "start_time": "2024-05-07T19:45:08.199617Z"
    }
   },
   "cell_type": "code",
   "source": [
    "# TODO fix prints\n",
    "for col in df_thyroid.columns:\n",
    "    print(\"Values of \", end='')\n",
    "    print(df_thyroid[col].value_counts(), end=\"\\n\\n\")"
   ],
   "id": "b917f0b00d08f6bf",
   "outputs": [
    {
     "name": "stdout",
     "output_type": "stream",
     "text": [
      "Values of age:\n",
      "60       175\n",
      "62       169\n",
      "72       164\n",
      "59       162\n",
      "61       161\n",
      "        ... \n",
      "7          1\n",
      "65511      1\n",
      "65512      1\n",
      "3          1\n",
      "9          1\n",
      "Name: count, Length: 98, dtype: int64\n",
      "\n",
      "Values of sex:\n",
      "F    4848\n",
      "M    2250\n",
      "?     240\n",
      "Name: count, dtype: int64\n",
      "\n",
      "Values of on thyroxine:\n",
      "f    6347\n",
      "t     991\n",
      "Name: count, dtype: int64\n",
      "\n",
      "Values of query on thyroxine:\n",
      "f    7222\n",
      "t     116\n",
      "Name: count, dtype: int64\n",
      "\n",
      "Values of on antithyroid medication:\n",
      "f    7237\n",
      "t     101\n",
      "Name: count, dtype: int64\n",
      "\n",
      "Values of sick:\n",
      "f    7063\n",
      "t     275\n",
      "Name: count, dtype: int64\n",
      "\n",
      "Values of pregnant:\n",
      "f    7254\n",
      "t      84\n",
      "Name: count, dtype: int64\n",
      "\n",
      "Values of thyroid surgery:\n",
      "f    7233\n",
      "t     105\n",
      "Name: count, dtype: int64\n",
      "\n",
      "Values of I131 treatment:\n",
      "f    7211\n",
      "t     127\n",
      "Name: count, dtype: int64\n",
      "\n",
      "Values of query hypothyroid:\n",
      "f    6835\n",
      "t     503\n",
      "Name: count, dtype: int64\n",
      "\n",
      "Values of query hyperthyroid:\n",
      "f    6830\n",
      "t     508\n",
      "Name: count, dtype: int64\n",
      "\n",
      "Values of lithium:\n",
      "f    7264\n",
      "t      74\n",
      "Name: count, dtype: int64\n",
      "\n",
      "Values of goitre:\n",
      "f    7273\n",
      "t      65\n",
      "Name: count, dtype: int64\n",
      "\n",
      "Values of tumor:\n",
      "f    7144\n",
      "t     194\n",
      "Name: count, dtype: int64\n",
      "\n",
      "Values of hypopituitary:\n",
      "f    7336\n",
      "t       2\n",
      "Name: count, dtype: int64\n",
      "\n",
      "Values of psych:\n",
      "f    7015\n",
      "t     323\n",
      "Name: count, dtype: int64\n",
      "\n",
      "Values of TSH measured:\n",
      "t    6667\n",
      "f     671\n",
      "Name: count, dtype: int64\n",
      "\n",
      "Values of TSH:\n",
      "?       671\n",
      "0.1     245\n",
      "1.1     194\n",
      "1.3     190\n",
      "1.4     185\n",
      "       ... \n",
      "117       1\n",
      "1.02      1\n",
      "260       1\n",
      "138       1\n",
      "500       1\n",
      "Name: count, Length: 351, dtype: int64\n",
      "\n",
      "Values of T3 measured:\n",
      "t    5270\n",
      "f    2068\n",
      "Name: count, dtype: int64\n",
      "\n",
      "Values of T3:\n",
      "?           2068\n",
      "1.8          375\n",
      "2            359\n",
      "1.9          339\n",
      "2.1          321\n",
      "            ... \n",
      "8.5            1\n",
      "6              1\n",
      "8.9            1\n",
      "8.099999       1\n",
      "8              1\n",
      "Name: count, Length: 82, dtype: int64\n",
      "\n",
      "Values of TT4 measured:\n",
      "t    6976\n",
      "f     362\n",
      "Name: count, dtype: int64\n",
      "\n",
      "Values of TT4:\n",
      "?      362\n",
      "101    132\n",
      "98     128\n",
      "93     121\n",
      "104    113\n",
      "      ... \n",
      "218      1\n",
      "261      1\n",
      "3.9      1\n",
      "240      1\n",
      "280      1\n",
      "Name: count, Length: 278, dtype: int64\n",
      "\n",
      "Values of T4U measured:\n",
      "t    6674\n",
      "f     664\n",
      "Name: count, dtype: int64\n",
      "\n",
      "Values of T4U:\n",
      "?       664\n",
      "0.97    187\n",
      "0.99    187\n",
      "0.9     185\n",
      "0.93    185\n",
      "       ... \n",
      "1.94      1\n",
      "0.2       1\n",
      "0.4       1\n",
      "1.86      1\n",
      "2         1\n",
      "Name: count, Length: 167, dtype: int64\n",
      "\n",
      "Values of FTI measured:\n",
      "t    6680\n",
      "f     658\n",
      "Name: count, dtype: int64\n",
      "\n",
      "Values of FTI:\n",
      "?      658\n",
      "107    127\n",
      "100    124\n",
      "104    117\n",
      "93     112\n",
      "      ... \n",
      "445      1\n",
      "612      1\n",
      "271      1\n",
      "881      1\n",
      "329      1\n",
      "Name: count, Length: 303, dtype: int64\n",
      "\n",
      "Values of TBG measured:\n",
      "f    7054\n",
      "t     284\n",
      "Name: count, dtype: int64\n",
      "\n",
      "Values of TBG:\n",
      "?      7054\n",
      "27       19\n",
      "23       18\n",
      "29       17\n",
      "20       17\n",
      "       ... \n",
      "0.1       1\n",
      "108       1\n",
      "50        1\n",
      "53        1\n",
      "10        1\n",
      "Name: count, Length: 61, dtype: int64\n",
      "\n",
      "Values of referral source:\n",
      "other    4369\n",
      "SVI      1933\n",
      "SVHC      758\n",
      "STMW      215\n",
      "SVHD       60\n",
      "WEST        3\n",
      "Name: count, dtype: int64\n",
      "\n",
      "Values of diagnoses\n",
      "-      5428\n",
      "K       346\n",
      "G       288\n",
      "I       259\n",
      "F       187\n",
      "R       163\n",
      "A       114\n",
      "L        96\n",
      "N        93\n",
      "M        87\n",
      "S        68\n",
      "GK       40\n",
      "AK       32\n",
      "J        25\n",
      "B        18\n",
      "MK       12\n",
      "Q        12\n",
      "GI       10\n",
      "O        10\n",
      "KJ        9\n",
      "C|I       8\n",
      "H|K       7\n",
      "D         6\n",
      "P         5\n",
      "FK        5\n",
      "C         4\n",
      "MI        1\n",
      "LJ        1\n",
      "GKJ       1\n",
      "OI        1\n",
      "D|R       1\n",
      "E         1\n",
      "Name: count, dtype: int64\n",
      "\n",
      "Values of [record identification]\n",
      "[861106018]    1\n",
      "[850306055]    1\n",
      "[851114028]    1\n",
      "[860826013]    1\n",
      "[860312011]    1\n",
      "              ..\n",
      "[850809087]    1\n",
      "[850620047]    1\n",
      "[851009089]    1\n",
      "[861201054]    1\n",
      "[861208018]    1\n",
      "Name: count, Length: 7338, dtype: int64\n",
      "\n"
     ]
    }
   ],
   "execution_count": 458
  },
  {
   "metadata": {},
   "cell_type": "markdown",
   "source": "The column \"[record idenfication]\"",
   "id": "52f132d759900a04"
  },
  {
   "metadata": {
    "ExecuteTime": {
     "end_time": "2024-05-07T19:45:08.229691Z",
     "start_time": "2024-05-07T19:45:08.225939Z"
    }
   },
   "cell_type": "code",
   "source": "df = df_thyroid.drop(\"[record identification]\", axis=1)",
   "id": "a914a7b6fd7039d",
   "outputs": [],
   "execution_count": 459
  },
  {
   "metadata": {},
   "cell_type": "markdown",
   "source": "Now we are going to take a look at the missing values in our DataFrame:",
   "id": "fd58518dae609c9c"
  },
  {
   "metadata": {
    "ExecuteTime": {
     "end_time": "2024-05-07T19:45:08.274441Z",
     "start_time": "2024-05-07T19:45:08.254697Z"
    }
   },
   "cell_type": "code",
   "source": [
    "import numpy as np\n",
    "\n",
    "df.replace('?', np.nan, inplace=True)\n",
    "df.isna().sum()"
   ],
   "id": "6f21aa7626f43110",
   "outputs": [
    {
     "data": {
      "text/plain": [
       "age:                             0\n",
       "sex:                           240\n",
       "on thyroxine:                    0\n",
       "query on thyroxine:              0\n",
       "on antithyroid medication:       0\n",
       "sick:                            0\n",
       "pregnant:                        0\n",
       "thyroid surgery:                 0\n",
       "I131 treatment:                  0\n",
       "query hypothyroid:               0\n",
       "query hyperthyroid:              0\n",
       "lithium:                         0\n",
       "goitre:                          0\n",
       "tumor:                           0\n",
       "hypopituitary:                   0\n",
       "psych:                           0\n",
       "TSH measured:                    0\n",
       "TSH:                           671\n",
       "T3 measured:                     0\n",
       "T3:                           2068\n",
       "TT4 measured:                    0\n",
       "TT4:                           362\n",
       "T4U measured:                    0\n",
       "T4U:                           664\n",
       "FTI measured:                    0\n",
       "FTI:                           658\n",
       "TBG measured:                    0\n",
       "TBG:                          7054\n",
       "referral source:                 0\n",
       "diagnoses                        0\n",
       "dtype: int64"
      ]
     },
     "execution_count": 460,
     "metadata": {},
     "output_type": "execute_result"
    }
   ],
   "execution_count": 460
  },
  {
   "metadata": {
    "ExecuteTime": {
     "end_time": "2024-05-07T19:45:08.295623Z",
     "start_time": "2024-05-07T19:45:08.282447Z"
    }
   },
   "cell_type": "code",
   "source": [
    "# TODO this needs tunning\n",
    "#df_cleaned = (df.drop(\"TBG:\", axis = 1)).dropna(subset=[\"T3:\"])\n",
    "#df_cleaned = df.dropna(subset=[\"T3:\"])\n",
    "df_cleaned = df.drop([\"TBG measured:\", \"TBG:\"], axis = 1)\n",
    "df_cleaned.info()"
   ],
   "id": "52483fdee69777d3",
   "outputs": [
    {
     "name": "stdout",
     "output_type": "stream",
     "text": [
      "<class 'pandas.core.frame.DataFrame'>\n",
      "RangeIndex: 7338 entries, 0 to 7337\n",
      "Data columns (total 28 columns):\n",
      " #   Column                      Non-Null Count  Dtype \n",
      "---  ------                      --------------  ----- \n",
      " 0   age:                        7338 non-null   int64 \n",
      " 1   sex:                        7098 non-null   object\n",
      " 2   on thyroxine:               7338 non-null   object\n",
      " 3   query on thyroxine:         7338 non-null   object\n",
      " 4   on antithyroid medication:  7338 non-null   object\n",
      " 5   sick:                       7338 non-null   object\n",
      " 6   pregnant:                   7338 non-null   object\n",
      " 7   thyroid surgery:            7338 non-null   object\n",
      " 8   I131 treatment:             7338 non-null   object\n",
      " 9   query hypothyroid:          7338 non-null   object\n",
      " 10  query hyperthyroid:         7338 non-null   object\n",
      " 11  lithium:                    7338 non-null   object\n",
      " 12  goitre:                     7338 non-null   object\n",
      " 13  tumor:                      7338 non-null   object\n",
      " 14  hypopituitary:              7338 non-null   object\n",
      " 15  psych:                      7338 non-null   object\n",
      " 16  TSH measured:               7338 non-null   object\n",
      " 17  TSH:                        6667 non-null   object\n",
      " 18  T3 measured:                7338 non-null   object\n",
      " 19  T3:                         5270 non-null   object\n",
      " 20  TT4 measured:               7338 non-null   object\n",
      " 21  TT4:                        6976 non-null   object\n",
      " 22  T4U measured:               7338 non-null   object\n",
      " 23  T4U:                        6674 non-null   object\n",
      " 24  FTI measured:               7338 non-null   object\n",
      " 25  FTI:                        6680 non-null   object\n",
      " 26  referral source:            7338 non-null   object\n",
      " 27  diagnoses                   7338 non-null   object\n",
      "dtypes: int64(1), object(27)\n",
      "memory usage: 1.6+ MB\n"
     ]
    }
   ],
   "execution_count": 461
  },
  {
   "metadata": {},
   "cell_type": "markdown",
   "source": [
    "### 1.3 Encoding Data\n",
    "\n",
    "In machine learning, there are classification models that can not handle object type values. For this reason we need to transform our DataFrame so that it is onlu composed od numeric types, this process is refered to as data enconding."
   ],
   "id": "b225a2e435e1a905"
  },
  {
   "metadata": {},
   "cell_type": "markdown",
   "source": "Enconding variables",
   "id": "ac2db5d1dbacfb3a"
  },
  {
   "metadata": {
    "ExecuteTime": {
     "end_time": "2024-05-07T19:45:08.476842Z",
     "start_time": "2024-05-07T19:45:08.438630Z"
    }
   },
   "cell_type": "code",
   "source": [
    "import numpy as np\n",
    "\n",
    "encoded_values = {\n",
    "    'M': '0', 'F': '1',\n",
    "    'f': '0', 't': '1'\n",
    "}\n",
    "target = \"diagnoses\"\n",
    "df_target = pd.DataFrame(df_cleaned[\"diagnoses\"], columns=[\"diagnoses\"])\n",
    "\n",
    "encoded = df_cleaned.drop(\"diagnoses\", axis=1).replace(encoded_values)\n",
    "df_encoded = pd.get_dummies(encoded, columns=[\"referral source:\"], dtype='int')"
   ],
   "id": "5c5d778d1a1a0927",
   "outputs": [],
   "execution_count": 462
  },
  {
   "metadata": {},
   "cell_type": "markdown",
   "source": "Encoding target variable",
   "id": "197097f852842bcd"
  },
  {
   "metadata": {
    "ExecuteTime": {
     "end_time": "2024-05-07T19:45:08.564038Z",
     "start_time": "2024-05-07T19:45:08.480847Z"
    }
   },
   "cell_type": "code",
   "source": [
    "for index, value in df_target[target].items():\n",
    "    if value == '-':\n",
    "        df_target.at[index, target] = 0\n",
    "    elif value == 'A' or value == 'B' or value == 'C' or value == 'D':\n",
    "        df_target.at[index, target] = 1\n",
    "    elif value == 'E' or value == 'F' or value == 'G' or value == 'H':\n",
    "        df_target.at[index, target] = 2\n",
    "    elif value == 'I' or value == 'J':\n",
    "        df_target.at[index, target] = 3\n",
    "    elif value == 'K':\n",
    "        df_target.at[index, target] = 4\n",
    "    elif value == 'L' or value == 'M' or value == 'N':\n",
    "        df_target.at[index, target] = 5\n",
    "    elif value == 'O' or value == 'P' or value == 'Q':\n",
    "        df_target.at[index, target] = 6\n",
    "    elif value == 'R' or value == 'S' or value == 'T':\n",
    "        df_target.at[index, target] = 7\n",
    "    else:\n",
    "        df_target.at[index, target] = 8\n",
    "\n",
    "df_target[target] = pd.to_numeric(df_target[target])\n",
    "df_target[target].unique()"
   ],
   "id": "8bf89df76da8a4b3",
   "outputs": [
    {
     "data": {
      "text/plain": [
       "array([0, 7, 5, 2, 4, 3, 1, 8, 6], dtype=int64)"
      ]
     },
     "execution_count": 463,
     "metadata": {},
     "output_type": "execute_result"
    }
   ],
   "execution_count": 463
  },
  {
   "metadata": {
    "ExecuteTime": {
     "end_time": "2024-05-07T19:45:08.576637Z",
     "start_time": "2024-05-07T19:45:08.565044Z"
    }
   },
   "cell_type": "code",
   "source": [
    "df = pd.concat([df_encoded, df_target], axis=1)\n",
    "df.head()"
   ],
   "id": "ccac642a0fd480de",
   "outputs": [
    {
     "data": {
      "text/plain": [
       "   age: sex: on thyroxine: query on thyroxine: on antithyroid medication:  \\\n",
       "0    29    1             0                   0                          0   \n",
       "1    29    1             0                   0                          0   \n",
       "2    36    1             0                   0                          0   \n",
       "3    60    1             0                   0                          0   \n",
       "4    77    1             0                   0                          0   \n",
       "\n",
       "  sick: pregnant: thyroid surgery: I131 treatment: query hypothyroid:  ...  \\\n",
       "0     0         0                0               0                  1  ...   \n",
       "1     0         0                0               0                  0  ...   \n",
       "2     0         0                0               0                  0  ...   \n",
       "3     0         0                0               0                  0  ...   \n",
       "4     0         0                0               0                  0  ...   \n",
       "\n",
       "  T4U: FTI measured: FTI: referral source:_STMW referral source:_SVHC  \\\n",
       "0  NaN             0  NaN                     0                     0   \n",
       "1  NaN             0  NaN                     0                     0   \n",
       "2  NaN             0  NaN                     0                     0   \n",
       "3  NaN             0  NaN                     0                     0   \n",
       "4  NaN             0  NaN                     0                     0   \n",
       "\n",
       "  referral source:_SVHD referral source:_SVI referral source:_WEST  \\\n",
       "0                     0                    0                     0   \n",
       "1                     0                    0                     0   \n",
       "2                     0                    0                     0   \n",
       "3                     0                    0                     0   \n",
       "4                     0                    0                     0   \n",
       "\n",
       "  referral source:_other diagnoses  \n",
       "0                      1         0  \n",
       "1                      1         0  \n",
       "2                      1         0  \n",
       "3                      1         0  \n",
       "4                      1         0  \n",
       "\n",
       "[5 rows x 33 columns]"
      ],
      "text/html": [
       "<div>\n",
       "<style scoped>\n",
       "    .dataframe tbody tr th:only-of-type {\n",
       "        vertical-align: middle;\n",
       "    }\n",
       "\n",
       "    .dataframe tbody tr th {\n",
       "        vertical-align: top;\n",
       "    }\n",
       "\n",
       "    .dataframe thead th {\n",
       "        text-align: right;\n",
       "    }\n",
       "</style>\n",
       "<table border=\"1\" class=\"dataframe\">\n",
       "  <thead>\n",
       "    <tr style=\"text-align: right;\">\n",
       "      <th></th>\n",
       "      <th>age:</th>\n",
       "      <th>sex:</th>\n",
       "      <th>on thyroxine:</th>\n",
       "      <th>query on thyroxine:</th>\n",
       "      <th>on antithyroid medication:</th>\n",
       "      <th>sick:</th>\n",
       "      <th>pregnant:</th>\n",
       "      <th>thyroid surgery:</th>\n",
       "      <th>I131 treatment:</th>\n",
       "      <th>query hypothyroid:</th>\n",
       "      <th>...</th>\n",
       "      <th>T4U:</th>\n",
       "      <th>FTI measured:</th>\n",
       "      <th>FTI:</th>\n",
       "      <th>referral source:_STMW</th>\n",
       "      <th>referral source:_SVHC</th>\n",
       "      <th>referral source:_SVHD</th>\n",
       "      <th>referral source:_SVI</th>\n",
       "      <th>referral source:_WEST</th>\n",
       "      <th>referral source:_other</th>\n",
       "      <th>diagnoses</th>\n",
       "    </tr>\n",
       "  </thead>\n",
       "  <tbody>\n",
       "    <tr>\n",
       "      <th>0</th>\n",
       "      <td>29</td>\n",
       "      <td>1</td>\n",
       "      <td>0</td>\n",
       "      <td>0</td>\n",
       "      <td>0</td>\n",
       "      <td>0</td>\n",
       "      <td>0</td>\n",
       "      <td>0</td>\n",
       "      <td>0</td>\n",
       "      <td>1</td>\n",
       "      <td>...</td>\n",
       "      <td>NaN</td>\n",
       "      <td>0</td>\n",
       "      <td>NaN</td>\n",
       "      <td>0</td>\n",
       "      <td>0</td>\n",
       "      <td>0</td>\n",
       "      <td>0</td>\n",
       "      <td>0</td>\n",
       "      <td>1</td>\n",
       "      <td>0</td>\n",
       "    </tr>\n",
       "    <tr>\n",
       "      <th>1</th>\n",
       "      <td>29</td>\n",
       "      <td>1</td>\n",
       "      <td>0</td>\n",
       "      <td>0</td>\n",
       "      <td>0</td>\n",
       "      <td>0</td>\n",
       "      <td>0</td>\n",
       "      <td>0</td>\n",
       "      <td>0</td>\n",
       "      <td>0</td>\n",
       "      <td>...</td>\n",
       "      <td>NaN</td>\n",
       "      <td>0</td>\n",
       "      <td>NaN</td>\n",
       "      <td>0</td>\n",
       "      <td>0</td>\n",
       "      <td>0</td>\n",
       "      <td>0</td>\n",
       "      <td>0</td>\n",
       "      <td>1</td>\n",
       "      <td>0</td>\n",
       "    </tr>\n",
       "    <tr>\n",
       "      <th>2</th>\n",
       "      <td>36</td>\n",
       "      <td>1</td>\n",
       "      <td>0</td>\n",
       "      <td>0</td>\n",
       "      <td>0</td>\n",
       "      <td>0</td>\n",
       "      <td>0</td>\n",
       "      <td>0</td>\n",
       "      <td>0</td>\n",
       "      <td>0</td>\n",
       "      <td>...</td>\n",
       "      <td>NaN</td>\n",
       "      <td>0</td>\n",
       "      <td>NaN</td>\n",
       "      <td>0</td>\n",
       "      <td>0</td>\n",
       "      <td>0</td>\n",
       "      <td>0</td>\n",
       "      <td>0</td>\n",
       "      <td>1</td>\n",
       "      <td>0</td>\n",
       "    </tr>\n",
       "    <tr>\n",
       "      <th>3</th>\n",
       "      <td>60</td>\n",
       "      <td>1</td>\n",
       "      <td>0</td>\n",
       "      <td>0</td>\n",
       "      <td>0</td>\n",
       "      <td>0</td>\n",
       "      <td>0</td>\n",
       "      <td>0</td>\n",
       "      <td>0</td>\n",
       "      <td>0</td>\n",
       "      <td>...</td>\n",
       "      <td>NaN</td>\n",
       "      <td>0</td>\n",
       "      <td>NaN</td>\n",
       "      <td>0</td>\n",
       "      <td>0</td>\n",
       "      <td>0</td>\n",
       "      <td>0</td>\n",
       "      <td>0</td>\n",
       "      <td>1</td>\n",
       "      <td>0</td>\n",
       "    </tr>\n",
       "    <tr>\n",
       "      <th>4</th>\n",
       "      <td>77</td>\n",
       "      <td>1</td>\n",
       "      <td>0</td>\n",
       "      <td>0</td>\n",
       "      <td>0</td>\n",
       "      <td>0</td>\n",
       "      <td>0</td>\n",
       "      <td>0</td>\n",
       "      <td>0</td>\n",
       "      <td>0</td>\n",
       "      <td>...</td>\n",
       "      <td>NaN</td>\n",
       "      <td>0</td>\n",
       "      <td>NaN</td>\n",
       "      <td>0</td>\n",
       "      <td>0</td>\n",
       "      <td>0</td>\n",
       "      <td>0</td>\n",
       "      <td>0</td>\n",
       "      <td>1</td>\n",
       "      <td>0</td>\n",
       "    </tr>\n",
       "  </tbody>\n",
       "</table>\n",
       "<p>5 rows × 33 columns</p>\n",
       "</div>"
      ]
     },
     "execution_count": 464,
     "metadata": {},
     "output_type": "execute_result"
    }
   ],
   "execution_count": 464
  },
  {
   "metadata": {},
   "cell_type": "markdown",
   "source": "",
   "id": "e268d2b1aafb2e9b"
  },
  {
   "metadata": {},
   "cell_type": "markdown",
   "source": "### 1.4 Splitting into training and testing set",
   "id": "17c92ab69ddb4cab"
  },
  {
   "metadata": {
    "ExecuteTime": {
     "end_time": "2024-05-07T19:45:08.584926Z",
     "start_time": "2024-05-07T19:45:08.576637Z"
    }
   },
   "cell_type": "code",
   "source": [
    "from sklearn.model_selection import train_test_split\n",
    "\n",
    "X = df.drop(\"diagnoses\", axis='columns')\n",
    "y = df[\"diagnoses\"]\n",
    "\n",
    "X_TRAIN, X_IVS, y_TRAIN, y_IVS = train_test_split(X, y, test_size=0.2)\n",
    "\n",
    "# Print the shapes of the training and testing sets\n",
    "print(\"Training set shape:\", X_TRAIN.shape, y_TRAIN.shape)\n",
    "print(\"Testing set shape:\", X_IVS.shape, y_IVS.shape)"
   ],
   "id": "84054ef19a46bc36",
   "outputs": [
    {
     "name": "stdout",
     "output_type": "stream",
     "text": [
      "Training set shape: (5870, 32) (5870,)\n",
      "Testing set shape: (1468, 32) (1468,)\n"
     ]
    }
   ],
   "execution_count": 465
  },
  {
   "metadata": {},
   "cell_type": "markdown",
   "source": "### 1.5 Scaling Data",
   "id": "5a8b40e0871be938"
  },
  {
   "metadata": {
    "ExecuteTime": {
     "end_time": "2024-05-07T19:45:08.644084Z",
     "start_time": "2024-05-07T19:45:08.585930Z"
    }
   },
   "cell_type": "code",
   "source": [
    "from sklearn.preprocessing import StandardScaler\n",
    "\n",
    "scaler = StandardScaler()\n",
    "scaler.fit(X_TRAIN)\n",
    "\n",
    "X_train_scl = scaler.transform(X_TRAIN)\n",
    "X_ivs_scl = scaler.transform(X_IVS)"
   ],
   "id": "588e36dc53b771f7",
   "outputs": [],
   "execution_count": 466
  },
  {
   "metadata": {},
   "cell_type": "markdown",
   "source": "### 1.6 Imputing missing values",
   "id": "c3b56e64c29f54aa"
  },
  {
   "metadata": {
    "ExecuteTime": {
     "end_time": "2024-05-07T19:45:08.654812Z",
     "start_time": "2024-05-07T19:45:08.645089Z"
    }
   },
   "cell_type": "code",
   "source": [
    "# TODO Needs more tuning\n",
    "from sklearn.impute import KNNImputer, SimpleImputer\n",
    "\n",
    "imputer = SimpleImputer(missing_values=np.nan, strategy='mean')\n",
    "#imputer = KNNImputer(n_neighbors=5)\n",
    "\n",
    "X_train_imp = imputer.fit_transform(X_train_scl)\n",
    "X_ivs_imp = imputer.transform(X_ivs_scl)\n",
    "\n",
    "X_TRAIN = pd.DataFrame(X_train_imp, columns=X_TRAIN.columns)\n",
    "X_IVS = pd.DataFrame(X_ivs_imp, columns=X_IVS.columns)\n",
    "\n",
    "missing_values = X_TRAIN.isna().sum().sum() + X_IVS.isna().sum().sum()\n",
    "print(f\"Missing values count: {missing_values}\")"
   ],
   "id": "e8524c87fdb9b95e",
   "outputs": [
    {
     "name": "stdout",
     "output_type": "stream",
     "text": [
      "Missing values count: 0\n"
     ]
    }
   ],
   "execution_count": 467
  },
  {
   "metadata": {
    "ExecuteTime": {
     "end_time": "2024-05-07T19:45:08.687791Z",
     "start_time": "2024-05-07T19:45:08.681817Z"
    }
   },
   "cell_type": "code",
   "source": "X_TRAIN.info()",
   "id": "cc90c9f31cbe7700",
   "outputs": [
    {
     "name": "stdout",
     "output_type": "stream",
     "text": [
      "<class 'pandas.core.frame.DataFrame'>\n",
      "RangeIndex: 5870 entries, 0 to 5869\n",
      "Data columns (total 32 columns):\n",
      " #   Column                      Non-Null Count  Dtype  \n",
      "---  ------                      --------------  -----  \n",
      " 0   age:                        5870 non-null   float64\n",
      " 1   sex:                        5870 non-null   float64\n",
      " 2   on thyroxine:               5870 non-null   float64\n",
      " 3   query on thyroxine:         5870 non-null   float64\n",
      " 4   on antithyroid medication:  5870 non-null   float64\n",
      " 5   sick:                       5870 non-null   float64\n",
      " 6   pregnant:                   5870 non-null   float64\n",
      " 7   thyroid surgery:            5870 non-null   float64\n",
      " 8   I131 treatment:             5870 non-null   float64\n",
      " 9   query hypothyroid:          5870 non-null   float64\n",
      " 10  query hyperthyroid:         5870 non-null   float64\n",
      " 11  lithium:                    5870 non-null   float64\n",
      " 12  goitre:                     5870 non-null   float64\n",
      " 13  tumor:                      5870 non-null   float64\n",
      " 14  hypopituitary:              5870 non-null   float64\n",
      " 15  psych:                      5870 non-null   float64\n",
      " 16  TSH measured:               5870 non-null   float64\n",
      " 17  TSH:                        5870 non-null   float64\n",
      " 18  T3 measured:                5870 non-null   float64\n",
      " 19  T3:                         5870 non-null   float64\n",
      " 20  TT4 measured:               5870 non-null   float64\n",
      " 21  TT4:                        5870 non-null   float64\n",
      " 22  T4U measured:               5870 non-null   float64\n",
      " 23  T4U:                        5870 non-null   float64\n",
      " 24  FTI measured:               5870 non-null   float64\n",
      " 25  FTI:                        5870 non-null   float64\n",
      " 26  referral source:_STMW       5870 non-null   float64\n",
      " 27  referral source:_SVHC       5870 non-null   float64\n",
      " 28  referral source:_SVHD       5870 non-null   float64\n",
      " 29  referral source:_SVI        5870 non-null   float64\n",
      " 30  referral source:_WEST       5870 non-null   float64\n",
      " 31  referral source:_other      5870 non-null   float64\n",
      "dtypes: float64(32)\n",
      "memory usage: 1.4 MB\n"
     ]
    }
   ],
   "execution_count": 468
  },
  {
   "metadata": {},
   "cell_type": "markdown",
   "source": "## 2. Classification Models",
   "id": "e70738c62e106345"
  },
  {
   "metadata": {},
   "cell_type": "markdown",
   "source": "### 2.1 Feature Selection",
   "id": "b61e2db8481d56a2"
  },
  {
   "metadata": {
    "ExecuteTime": {
     "end_time": "2024-05-07T19:45:10.677700Z",
     "start_time": "2024-05-07T19:45:08.700797Z"
    }
   },
   "cell_type": "code",
   "source": [
    "# TODO feature selection needs tuning\n",
    "from sklearn.feature_selection import SequentialFeatureSelector\n",
    "from sklearn.linear_model import LinearRegression\n",
    "\n",
    "n_features = int(X_TRAIN.shape[1] * .4)\n",
    "sfs = SequentialFeatureSelector(LinearRegression(), \n",
    "                                n_features_to_select=5, \n",
    "                                direction='forward', \n",
    "                                n_jobs=-1)\n",
    "sfs.fit(X_TRAIN, y_TRAIN)\n",
    "\n",
    "N, M = X_TRAIN.shape\n",
    "features=sfs.get_support()\n",
    "features_selected = np.arange(M)[features]\n",
    "print(\"The features selected are columns: \", features_selected)\n",
    "\n",
    "X_TRAIN = sfs.transform(X_TRAIN)\n",
    "X_IVS = sfs.transform(X_IVS)"
   ],
   "id": "34d5b40cf1d9af3b",
   "outputs": [
    {
     "name": "stdout",
     "output_type": "stream",
     "text": [
      "The features selected are columns:  [ 6 17 19 21 25]\n"
     ]
    }
   ],
   "execution_count": 469
  },
  {
   "metadata": {},
   "cell_type": "markdown",
   "source": "### 2.2 KFold Cross validation",
   "id": "4d1cd5a9bbb0f86b"
  },
  {
   "metadata": {
    "ExecuteTime": {
     "end_time": "2024-05-07T19:45:10.683410Z",
     "start_time": "2024-05-07T19:45:10.678745Z"
    }
   },
   "cell_type": "code",
   "source": [
    "from sklearn.model_selection import KFold\n",
    "from sklearn.metrics import accuracy_score, precision_score, recall_score, f1_score, matthews_corrcoef\n",
    "\n",
    "def evaluate(model, X, y):\n",
    "    TRUTH = None\n",
    "    PREDS = None\n",
    "    kf = KFold(n_splits=5, shuffle=True)\n",
    "    for train_index, test_index in kf.split(X):\n",
    "        X_train, y_train = X[train_index], y.to_numpy()[train_index]\n",
    "        X_test, y_test = X[test_index], y.to_numpy()[test_index]\n",
    "        \n",
    "        model.fit(X_train, y_train)\n",
    "        preds = model.predict(X_test)\n",
    "        if TRUTH is None:\n",
    "            PREDS = preds\n",
    "            TRUTH = y_test\n",
    "        else:\n",
    "            PREDS = np.hstack((PREDS, preds))\n",
    "            TRUTH = np.hstack((TRUTH, y_test))\n",
    "    return TRUTH, PREDS\n",
    "           \n",
    "def print_statistics(truth, preds):\n",
    "    print(\"Accuracy: %7.4f\" % accuracy_score(truth, preds))\n",
    "    print(\"Precision: %7.4f\" % precision_score(truth, preds, average='weighted', zero_division=1))\n",
    "    print(\"Recall is: %7.4f\" % recall_score(truth, preds, average='weighted'))\n",
    "    print(\"F1 score: %7.4f\" % f1_score(truth, preds, average='weighted'))\n",
    "    print(\"Matthews correlation coefficient: %7.4f\" % matthews_corrcoef(truth, preds))"
   ],
   "id": "dc8b24eb7dc939cb",
   "outputs": [],
   "execution_count": 470
  },
  {
   "metadata": {},
   "cell_type": "markdown",
   "source": "### 2.3 Decision Tree",
   "id": "5218522c6999b051"
  },
  {
   "metadata": {
    "ExecuteTime": {
     "end_time": "2024-05-07T19:45:10.749770Z",
     "start_time": "2024-05-07T19:45:10.683410Z"
    }
   },
   "cell_type": "code",
   "source": [
    "from sklearn.tree import DecisionTreeClassifier\n",
    "\n",
    "TRUTH, PREDS = evaluate(DecisionTreeClassifier(), X_TRAIN, y_TRAIN)\n",
    "print_statistics(TRUTH, PREDS)"
   ],
   "id": "35fbc3bb4a3abb37",
   "outputs": [
    {
     "name": "stdout",
     "output_type": "stream",
     "text": [
      "Accuracy:  0.8675\n",
      "Precision:  0.8647\n",
      "Recall is:  0.8675\n",
      "F1 score:  0.8654\n",
      "Matthews correlation coefficient:  0.7005\n"
     ]
    }
   ],
   "execution_count": 471
  },
  {
   "metadata": {},
   "cell_type": "markdown",
   "source": "### Random Forest Classifier",
   "id": "da2fbb9b5daf32c8"
  },
  {
   "metadata": {
    "ExecuteTime": {
     "end_time": "2024-05-07T19:45:12.728881Z",
     "start_time": "2024-05-07T19:45:10.750811Z"
    }
   },
   "cell_type": "code",
   "source": [
    "from sklearn.ensemble import RandomForestClassifier\n",
    "\n",
    "TRUTH, PREDS = evaluate(RandomForestClassifier(), X_TRAIN, y_TRAIN)\n",
    "print_statistics(TRUTH, PREDS)"
   ],
   "id": "64c9086c9a597f30",
   "outputs": [
    {
     "name": "stdout",
     "output_type": "stream",
     "text": [
      "Accuracy:  0.8957\n",
      "Precision:  0.8859\n",
      "Recall is:  0.8957\n",
      "F1 score:  0.8878\n",
      "Matthews correlation coefficient:  0.7634\n"
     ]
    }
   ],
   "execution_count": 472
  },
  {
   "metadata": {},
   "cell_type": "markdown",
   "source": "### 2.4 Logistic Regression",
   "id": "6222832c15ef450a"
  },
  {
   "metadata": {
    "ExecuteTime": {
     "end_time": "2024-05-07T19:45:12.950189Z",
     "start_time": "2024-05-07T19:45:12.729885Z"
    }
   },
   "cell_type": "code",
   "source": [
    "from sklearn.linear_model import LogisticRegression\n",
    "\n",
    "TRUTH, PREDS = evaluate(LogisticRegression(), X_TRAIN, y_TRAIN)\n",
    "print_statistics(TRUTH, PREDS)"
   ],
   "id": "d1b1e8ca796dc518",
   "outputs": [
    {
     "name": "stdout",
     "output_type": "stream",
     "text": [
      "Accuracy:  0.8155\n",
      "Precision:  0.7860\n",
      "Recall is:  0.8155\n",
      "F1 score:  0.7814\n",
      "Matthews correlation coefficient:  0.5250\n"
     ]
    }
   ],
   "execution_count": 473
  },
  {
   "metadata": {},
   "cell_type": "markdown",
   "source": "### 2.5 Naive Bayes",
   "id": "ec2b6fbd3106cbfe"
  },
  {
   "metadata": {
    "ExecuteTime": {
     "end_time": "2024-05-07T19:45:12.974069Z",
     "start_time": "2024-05-07T19:45:12.951192Z"
    }
   },
   "cell_type": "code",
   "source": [
    "from sklearn.naive_bayes import GaussianNB\n",
    "\n",
    "TRUTH, PREDS = evaluate(GaussianNB(), X_TRAIN, y_TRAIN)\n",
    "print_statistics(TRUTH, PREDS)"
   ],
   "id": "4ba343f74d834f9b",
   "outputs": [
    {
     "name": "stdout",
     "output_type": "stream",
     "text": [
      "Accuracy:  0.1434\n",
      "Precision:  0.8358\n",
      "Recall is:  0.1434\n",
      "F1 score:  0.0677\n",
      "Matthews correlation coefficient:  0.1833\n"
     ]
    }
   ],
   "execution_count": 474
  },
  {
   "metadata": {},
   "cell_type": "markdown",
   "source": "### 2.6 KNN",
   "id": "f88c6db95ae0829e"
  },
  {
   "metadata": {
    "ExecuteTime": {
     "end_time": "2024-05-07T19:45:13.248482Z",
     "start_time": "2024-05-07T19:45:12.975072Z"
    }
   },
   "cell_type": "code",
   "source": [
    "from sklearn.neighbors import KNeighborsClassifier\n",
    "\n",
    "TRUTH, PREDS = evaluate(KNeighborsClassifier(), X_TRAIN, y_TRAIN)\n",
    "print_statistics(TRUTH, PREDS)"
   ],
   "id": "9ca59f009dbf55eb",
   "outputs": [
    {
     "name": "stdout",
     "output_type": "stream",
     "text": [
      "Accuracy:  0.8475\n",
      "Precision:  0.8258\n",
      "Recall is:  0.8475\n",
      "F1 score:  0.8290\n",
      "Matthews correlation coefficient:  0.6318\n"
     ]
    }
   ],
   "execution_count": 475
  },
  {
   "metadata": {},
   "cell_type": "markdown",
   "source": "### 2.7 SVM",
   "id": "3af60905f986bb0c"
  },
  {
   "metadata": {
    "ExecuteTime": {
     "end_time": "2024-05-07T19:45:14.937355Z",
     "start_time": "2024-05-07T19:45:13.249485Z"
    }
   },
   "cell_type": "code",
   "source": [
    "from sklearn.svm import SVC\n",
    "\n",
    "TRUTH, PREDS = evaluate(SVC(), X_TRAIN, y_TRAIN)\n",
    "print_statistics(TRUTH, PREDS)"
   ],
   "id": "14e7bfa06b91c65a",
   "outputs": [
    {
     "name": "stdout",
     "output_type": "stream",
     "text": [
      "Accuracy:  0.8378\n",
      "Precision:  0.8050\n",
      "Recall is:  0.8378\n",
      "F1 score:  0.8071\n",
      "Matthews correlation coefficient:  0.5968\n"
     ]
    }
   ],
   "execution_count": 476
  },
  {
   "metadata": {},
   "cell_type": "markdown",
   "source": "## 3. Model Selection",
   "id": "f0e8c74fd37bd507"
  },
  {
   "metadata": {},
   "cell_type": "markdown",
   "source": "### 3.1 Hyperparameter tuning",
   "id": "2eb5fadc77b4e4d0"
  },
  {
   "metadata": {
    "ExecuteTime": {
     "end_time": "2024-05-07T19:45:14.942252Z",
     "start_time": "2024-05-07T19:45:14.938359Z"
    }
   },
   "cell_type": "code",
   "source": [
    "model_params = {\n",
    "    'Decision Tree': {\n",
    "        'model': DecisionTreeClassifier(),\n",
    "        'params': {\n",
    "            'criterion': ['gini', 'entropy', 'log_loss'],\n",
    "            'splitter': ['best', 'random'],\n",
    "            'max_depth': np.arange(1, 15, 1),\n",
    "            'min_samples_split': np.arange(2, 20, 2),\n",
    "            'min_samples_leaf': np.arange(1, 10, 1)\n",
    "        }\n",
    "    },\n",
    "    'Random Forest': {\n",
    "        'model': RandomForestClassifier(),\n",
    "        'params': {\n",
    "            'n_estimators': np.arange(1, 15, 1)\n",
    "        }\n",
    "    },\n",
    "    'KNN': {\n",
    "        'model': KNeighborsClassifier(),\n",
    "        'params': {\n",
    "            \"n_neighbors\": [3, 4, 5, 6, 7, 9],\n",
    "            \"weights\": [\"uniform\", \"distance\"]\n",
    "        }\n",
    "    }\n",
    "}"
   ],
   "id": "3ff3238a4ef5c21c",
   "outputs": [],
   "execution_count": 477
  },
  {
   "metadata": {
    "ExecuteTime": {
     "end_time": "2024-05-07T19:45:37.646916Z",
     "start_time": "2024-05-07T19:45:14.943257Z"
    }
   },
   "cell_type": "code",
   "source": [
    "from sklearn.model_selection import GridSearchCV\n",
    "\n",
    "scores = []\n",
    "best_models = []\n",
    "\n",
    "for name, model in model_params.items():\n",
    "    grid_search = GridSearchCV(model['model'], model['params'], cv=5, n_jobs=-1)\n",
    "    grid_search.fit(X_TRAIN, y_TRAIN)\n",
    "    scores.append({\n",
    "        'Model': name,\n",
    "        'Best Score': grid_search.best_score_,\n",
    "        'Best Parameters': grid_search.best_params_\n",
    "    })\n",
    "    best_models.append(grid_search.best_estimator_)\n",
    "    \n",
    "df = pd.DataFrame(scores,columns=['Model', 'Best Score', 'Best Parameters'])\n",
    "df"
   ],
   "id": "1c996b4bb720017c",
   "outputs": [
    {
     "data": {
      "text/plain": [
       "           Model  Best Score  \\\n",
       "0  Decision Tree    0.887734   \n",
       "1  Random Forest    0.896252   \n",
       "2            KNN    0.853833   \n",
       "\n",
       "                                     Best Parameters  \n",
       "0  {'criterion': 'gini', 'max_depth': 6, 'min_sam...  \n",
       "1                               {'n_estimators': 13}  \n",
       "2          {'n_neighbors': 7, 'weights': 'distance'}  "
      ],
      "text/html": [
       "<div>\n",
       "<style scoped>\n",
       "    .dataframe tbody tr th:only-of-type {\n",
       "        vertical-align: middle;\n",
       "    }\n",
       "\n",
       "    .dataframe tbody tr th {\n",
       "        vertical-align: top;\n",
       "    }\n",
       "\n",
       "    .dataframe thead th {\n",
       "        text-align: right;\n",
       "    }\n",
       "</style>\n",
       "<table border=\"1\" class=\"dataframe\">\n",
       "  <thead>\n",
       "    <tr style=\"text-align: right;\">\n",
       "      <th></th>\n",
       "      <th>Model</th>\n",
       "      <th>Best Score</th>\n",
       "      <th>Best Parameters</th>\n",
       "    </tr>\n",
       "  </thead>\n",
       "  <tbody>\n",
       "    <tr>\n",
       "      <th>0</th>\n",
       "      <td>Decision Tree</td>\n",
       "      <td>0.887734</td>\n",
       "      <td>{'criterion': 'gini', 'max_depth': 6, 'min_sam...</td>\n",
       "    </tr>\n",
       "    <tr>\n",
       "      <th>1</th>\n",
       "      <td>Random Forest</td>\n",
       "      <td>0.896252</td>\n",
       "      <td>{'n_estimators': 13}</td>\n",
       "    </tr>\n",
       "    <tr>\n",
       "      <th>2</th>\n",
       "      <td>KNN</td>\n",
       "      <td>0.853833</td>\n",
       "      <td>{'n_neighbors': 7, 'weights': 'distance'}</td>\n",
       "    </tr>\n",
       "  </tbody>\n",
       "</table>\n",
       "</div>"
      ]
     },
     "execution_count": 478,
     "metadata": {},
     "output_type": "execute_result"
    }
   ],
   "execution_count": 478
  },
  {
   "metadata": {
    "ExecuteTime": {
     "end_time": "2024-05-07T19:45:37.650208Z",
     "start_time": "2024-05-07T19:45:37.647920Z"
    }
   },
   "cell_type": "code",
   "source": [
    "# TRUTH, PREDS = evaluate(grid_search.best_estimator_, X_TRAIN, y_TRAIN)\n",
    "# print(\"Best Estimator:\", grid_search.best_estimator_)\n",
    "# print_statistics(TRUTH, PREDS)"
   ],
   "id": "99a799adc0946b95",
   "outputs": [],
   "execution_count": 479
  },
  {
   "metadata": {},
   "cell_type": "markdown",
   "source": "### 3.2 Model Testing",
   "id": "5dbc196601e052de"
  },
  {
   "metadata": {
    "ExecuteTime": {
     "end_time": "2024-05-07T19:45:37.767776Z",
     "start_time": "2024-05-07T19:45:37.650208Z"
    }
   },
   "cell_type": "code",
   "source": [
    "for model in best_models:\n",
    "    print(\"\\nModel:\", model)\n",
    "    model.fit(X_TRAIN, y_TRAIN)\n",
    "    preds = model.predict(X_IVS)\n",
    "    print_statistics(y_IVS, preds)"
   ],
   "id": "82f70294df161705",
   "outputs": [
    {
     "name": "stdout",
     "output_type": "stream",
     "text": [
      "\n",
      "Model: DecisionTreeClassifier(max_depth=6, min_samples_split=4)\n",
      "Accuracy:  0.8951\n",
      "Precision:  0.8911\n",
      "Recall is:  0.8951\n",
      "F1 score:  0.8888\n",
      "Matthews correlation coefficient:  0.7409\n",
      "\n",
      "Model: RandomForestClassifier(n_estimators=13)\n",
      "Accuracy:  0.8896\n",
      "Precision:  0.8903\n",
      "Recall is:  0.8896\n",
      "F1 score:  0.8859\n",
      "Matthews correlation coefficient:  0.7301\n",
      "\n",
      "Model: KNeighborsClassifier(n_neighbors=7, weights='distance')\n",
      "Accuracy:  0.8604\n",
      "Precision:  0.8492\n",
      "Recall is:  0.8604\n",
      "F1 score:  0.8507\n",
      "Matthews correlation coefficient:  0.6415\n"
     ]
    }
   ],
   "execution_count": 480
  }
 ],
 "metadata": {
  "kernelspec": {
   "display_name": "Python 3",
   "language": "python",
   "name": "python3"
  },
  "language_info": {
   "codemirror_mode": {
    "name": "ipython",
    "version": 2
   },
   "file_extension": ".py",
   "mimetype": "text/x-python",
   "name": "python",
   "nbconvert_exporter": "python",
   "pygments_lexer": "ipython2",
   "version": "2.7.6"
  }
 },
 "nbformat": 4,
 "nbformat_minor": 5
}
