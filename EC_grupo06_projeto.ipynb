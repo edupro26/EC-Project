{
 "cells": [
  {
   "metadata": {},
   "cell_type": "markdown",
   "source": [
    "# Engenharia do Conhecimento 2023/2024\n",
    "\n",
    "## Project: Classification and Regression models with *Thyroid disease Data Set*\n",
    "\n",
    "#### Group 6:\n",
    "\n",
    "- Eduardo Proença 57551\n",
    "- Tiago Oliveira 54979\n",
    "- Bernardo Lopes 54386"
   ],
   "id": "37af115655e6ef16"
  },
  {
   "metadata": {},
   "cell_type": "markdown",
   "source": "### 1. Data Processing",
   "id": "7a3fe0f7bf074860"
  },
  {
   "metadata": {},
   "cell_type": "markdown",
   "source": "#### 1.1 Creating a Data Frame",
   "id": "79a91cdf41098297"
  },
  {
   "metadata": {
    "ExecuteTime": {
     "end_time": "2024-05-20T17:33:28.184190Z",
     "start_time": "2024-05-20T17:33:28.164657Z"
    }
   },
   "cell_type": "code",
   "source": [
    "import pandas as pd\n",
    "\n",
    "df_thyroid = pd.read_csv('proj-data.csv')\n",
    "df_thyroid.shape"
   ],
   "id": "f2edb1e685a0e2d5",
   "outputs": [
    {
     "data": {
      "text/plain": [
       "(7338, 31)"
      ]
     },
     "execution_count": 73,
     "metadata": {},
     "output_type": "execute_result"
    }
   ],
   "execution_count": 73
  },
  {
   "metadata": {},
   "cell_type": "markdown",
   "source": "#### 1.2 Data investigation",
   "id": "d58cfed3fb9fc2a3"
  },
  {
   "metadata": {
    "ExecuteTime": {
     "end_time": "2024-05-20T17:33:28.264840Z",
     "start_time": "2024-05-20T17:33:28.239824Z"
    }
   },
   "cell_type": "code",
   "source": [
    "import numpy as np\n",
    "\n",
    "df = df_thyroid.copy()\n",
    "df.replace('?', np.nan, inplace=True)\n",
    "df_cleaned = df.drop('[record identification]', axis = 1)\n",
    "df_cleaned.info()"
   ],
   "id": "d25207feac655236",
   "outputs": [
    {
     "name": "stdout",
     "output_type": "stream",
     "text": [
      "<class 'pandas.core.frame.DataFrame'>\n",
      "RangeIndex: 7338 entries, 0 to 7337\n",
      "Data columns (total 30 columns):\n",
      " #   Column                      Non-Null Count  Dtype \n",
      "---  ------                      --------------  ----- \n",
      " 0   age:                        7338 non-null   int64 \n",
      " 1   sex:                        7098 non-null   object\n",
      " 2   on thyroxine:               7338 non-null   object\n",
      " 3   query on thyroxine:         7338 non-null   object\n",
      " 4   on antithyroid medication:  7338 non-null   object\n",
      " 5   sick:                       7338 non-null   object\n",
      " 6   pregnant:                   7338 non-null   object\n",
      " 7   thyroid surgery:            7338 non-null   object\n",
      " 8   I131 treatment:             7338 non-null   object\n",
      " 9   query hypothyroid:          7338 non-null   object\n",
      " 10  query hyperthyroid:         7338 non-null   object\n",
      " 11  lithium:                    7338 non-null   object\n",
      " 12  goitre:                     7338 non-null   object\n",
      " 13  tumor:                      7338 non-null   object\n",
      " 14  hypopituitary:              7338 non-null   object\n",
      " 15  psych:                      7338 non-null   object\n",
      " 16  TSH measured:               7338 non-null   object\n",
      " 17  TSH:                        6667 non-null   object\n",
      " 18  T3 measured:                7338 non-null   object\n",
      " 19  T3:                         5270 non-null   object\n",
      " 20  TT4 measured:               7338 non-null   object\n",
      " 21  TT4:                        6976 non-null   object\n",
      " 22  T4U measured:               7338 non-null   object\n",
      " 23  T4U:                        6674 non-null   object\n",
      " 24  FTI measured:               7338 non-null   object\n",
      " 25  FTI:                        6680 non-null   object\n",
      " 26  TBG measured:               7338 non-null   object\n",
      " 27  TBG:                        284 non-null    object\n",
      " 28  referral source:            7338 non-null   object\n",
      " 29  diagnoses                   7338 non-null   object\n",
      "dtypes: int64(1), object(29)\n",
      "memory usage: 1.7+ MB\n"
     ]
    }
   ],
   "execution_count": 75
  },
  {
   "metadata": {},
   "cell_type": "markdown",
   "source": "#### 1.3 Encoding Data",
   "id": "b225a2e435e1a905"
  },
  {
   "metadata": {
    "ExecuteTime": {
     "end_time": "2024-05-20T17:33:28.336190Z",
     "start_time": "2024-05-20T17:33:28.265844Z"
    }
   },
   "cell_type": "code",
   "source": [
    "def encode_data(X):\n",
    "    encoded_values = {\n",
    "        'M': '0', 'F': '1',\n",
    "        'f': '0', 't': '1',\n",
    "        'WEST': '0', 'STMW': '1',\n",
    "        'SVHC': '2', 'SVI': '3',\n",
    "        'SVHD': '4', 'other': '5'\n",
    "    }\n",
    "    encoded = X.replace(encoded_values)\n",
    "    return pd.DataFrame(encoded, columns=X.columns)\n",
    "\n",
    "def encode_target(y):\n",
    "    target = 'diagnoses'\n",
    "    value_mapping = {\n",
    "        '-': 0,                          # healthy\n",
    "        'A': 1, 'B': 1, 'C': 1, 'D': 1,  # hyperthyroid conditions\n",
    "        'E': 2, 'F': 2, 'G': 2, 'H': 2,  # hypothyroid conditions\n",
    "        'I': 3, 'J': 3,                  # binding protein\n",
    "        'K': 4,                          # general health\n",
    "        'L': 5, 'M': 5, 'N': 5,          # replacement therapy\n",
    "        'R': 6,                          # discordant results\n",
    "    }\n",
    "    df_target = pd.DataFrame(y, columns=[target])\n",
    "    df_target[target] = df_target[target].map(value_mapping).fillna(7).astype(int)\n",
    "    return df_target\n",
    "\n",
    "X = df_cleaned.drop('diagnoses', axis='columns')\n",
    "y = df_cleaned['diagnoses']\n",
    "df_encoded = pd.concat([encode_data(X), encode_target(y)], axis=1)\n",
    "df_encoded.head()"
   ],
   "id": "5c5d778d1a1a0927",
   "outputs": [
    {
     "data": {
      "text/plain": [
       "   age: sex: on thyroxine: query on thyroxine: on antithyroid medication:  \\\n",
       "0    29    1             0                   0                          0   \n",
       "1    29    1             0                   0                          0   \n",
       "2    36    1             0                   0                          0   \n",
       "3    60    1             0                   0                          0   \n",
       "4    77    1             0                   0                          0   \n",
       "\n",
       "  sick: pregnant: thyroid surgery: I131 treatment: query hypothyroid:  ...  \\\n",
       "0     0         0                0               0                  1  ...   \n",
       "1     0         0                0               0                  0  ...   \n",
       "2     0         0                0               0                  0  ...   \n",
       "3     0         0                0               0                  0  ...   \n",
       "4     0         0                0               0                  0  ...   \n",
       "\n",
       "  TT4 measured: TT4: T4U measured: T4U: FTI measured: FTI: TBG measured: TBG:  \\\n",
       "0             0  NaN             0  NaN             0  NaN             0  NaN   \n",
       "1             1  128             0  NaN             0  NaN             0  NaN   \n",
       "2             0  NaN             0  NaN             0  NaN             1   26   \n",
       "3             0  NaN             0  NaN             0  NaN             1   26   \n",
       "4             0  NaN             0  NaN             0  NaN             1   21   \n",
       "\n",
       "  referral source: diagnoses  \n",
       "0                5         0  \n",
       "1                5         0  \n",
       "2                5         0  \n",
       "3                5         0  \n",
       "4                5         0  \n",
       "\n",
       "[5 rows x 30 columns]"
      ],
      "text/html": [
       "<div>\n",
       "<style scoped>\n",
       "    .dataframe tbody tr th:only-of-type {\n",
       "        vertical-align: middle;\n",
       "    }\n",
       "\n",
       "    .dataframe tbody tr th {\n",
       "        vertical-align: top;\n",
       "    }\n",
       "\n",
       "    .dataframe thead th {\n",
       "        text-align: right;\n",
       "    }\n",
       "</style>\n",
       "<table border=\"1\" class=\"dataframe\">\n",
       "  <thead>\n",
       "    <tr style=\"text-align: right;\">\n",
       "      <th></th>\n",
       "      <th>age:</th>\n",
       "      <th>sex:</th>\n",
       "      <th>on thyroxine:</th>\n",
       "      <th>query on thyroxine:</th>\n",
       "      <th>on antithyroid medication:</th>\n",
       "      <th>sick:</th>\n",
       "      <th>pregnant:</th>\n",
       "      <th>thyroid surgery:</th>\n",
       "      <th>I131 treatment:</th>\n",
       "      <th>query hypothyroid:</th>\n",
       "      <th>...</th>\n",
       "      <th>TT4 measured:</th>\n",
       "      <th>TT4:</th>\n",
       "      <th>T4U measured:</th>\n",
       "      <th>T4U:</th>\n",
       "      <th>FTI measured:</th>\n",
       "      <th>FTI:</th>\n",
       "      <th>TBG measured:</th>\n",
       "      <th>TBG:</th>\n",
       "      <th>referral source:</th>\n",
       "      <th>diagnoses</th>\n",
       "    </tr>\n",
       "  </thead>\n",
       "  <tbody>\n",
       "    <tr>\n",
       "      <th>0</th>\n",
       "      <td>29</td>\n",
       "      <td>1</td>\n",
       "      <td>0</td>\n",
       "      <td>0</td>\n",
       "      <td>0</td>\n",
       "      <td>0</td>\n",
       "      <td>0</td>\n",
       "      <td>0</td>\n",
       "      <td>0</td>\n",
       "      <td>1</td>\n",
       "      <td>...</td>\n",
       "      <td>0</td>\n",
       "      <td>NaN</td>\n",
       "      <td>0</td>\n",
       "      <td>NaN</td>\n",
       "      <td>0</td>\n",
       "      <td>NaN</td>\n",
       "      <td>0</td>\n",
       "      <td>NaN</td>\n",
       "      <td>5</td>\n",
       "      <td>0</td>\n",
       "    </tr>\n",
       "    <tr>\n",
       "      <th>1</th>\n",
       "      <td>29</td>\n",
       "      <td>1</td>\n",
       "      <td>0</td>\n",
       "      <td>0</td>\n",
       "      <td>0</td>\n",
       "      <td>0</td>\n",
       "      <td>0</td>\n",
       "      <td>0</td>\n",
       "      <td>0</td>\n",
       "      <td>0</td>\n",
       "      <td>...</td>\n",
       "      <td>1</td>\n",
       "      <td>128</td>\n",
       "      <td>0</td>\n",
       "      <td>NaN</td>\n",
       "      <td>0</td>\n",
       "      <td>NaN</td>\n",
       "      <td>0</td>\n",
       "      <td>NaN</td>\n",
       "      <td>5</td>\n",
       "      <td>0</td>\n",
       "    </tr>\n",
       "    <tr>\n",
       "      <th>2</th>\n",
       "      <td>36</td>\n",
       "      <td>1</td>\n",
       "      <td>0</td>\n",
       "      <td>0</td>\n",
       "      <td>0</td>\n",
       "      <td>0</td>\n",
       "      <td>0</td>\n",
       "      <td>0</td>\n",
       "      <td>0</td>\n",
       "      <td>0</td>\n",
       "      <td>...</td>\n",
       "      <td>0</td>\n",
       "      <td>NaN</td>\n",
       "      <td>0</td>\n",
       "      <td>NaN</td>\n",
       "      <td>0</td>\n",
       "      <td>NaN</td>\n",
       "      <td>1</td>\n",
       "      <td>26</td>\n",
       "      <td>5</td>\n",
       "      <td>0</td>\n",
       "    </tr>\n",
       "    <tr>\n",
       "      <th>3</th>\n",
       "      <td>60</td>\n",
       "      <td>1</td>\n",
       "      <td>0</td>\n",
       "      <td>0</td>\n",
       "      <td>0</td>\n",
       "      <td>0</td>\n",
       "      <td>0</td>\n",
       "      <td>0</td>\n",
       "      <td>0</td>\n",
       "      <td>0</td>\n",
       "      <td>...</td>\n",
       "      <td>0</td>\n",
       "      <td>NaN</td>\n",
       "      <td>0</td>\n",
       "      <td>NaN</td>\n",
       "      <td>0</td>\n",
       "      <td>NaN</td>\n",
       "      <td>1</td>\n",
       "      <td>26</td>\n",
       "      <td>5</td>\n",
       "      <td>0</td>\n",
       "    </tr>\n",
       "    <tr>\n",
       "      <th>4</th>\n",
       "      <td>77</td>\n",
       "      <td>1</td>\n",
       "      <td>0</td>\n",
       "      <td>0</td>\n",
       "      <td>0</td>\n",
       "      <td>0</td>\n",
       "      <td>0</td>\n",
       "      <td>0</td>\n",
       "      <td>0</td>\n",
       "      <td>0</td>\n",
       "      <td>...</td>\n",
       "      <td>0</td>\n",
       "      <td>NaN</td>\n",
       "      <td>0</td>\n",
       "      <td>NaN</td>\n",
       "      <td>0</td>\n",
       "      <td>NaN</td>\n",
       "      <td>1</td>\n",
       "      <td>21</td>\n",
       "      <td>5</td>\n",
       "      <td>0</td>\n",
       "    </tr>\n",
       "  </tbody>\n",
       "</table>\n",
       "<p>5 rows × 30 columns</p>\n",
       "</div>"
      ]
     },
     "execution_count": 76,
     "metadata": {},
     "output_type": "execute_result"
    }
   ],
   "execution_count": 76
  },
  {
   "metadata": {},
   "cell_type": "markdown",
   "source": "### 1.4 Splitting into training and testing set",
   "id": "17c92ab69ddb4cab"
  },
  {
   "metadata": {
    "ExecuteTime": {
     "end_time": "2024-05-20T17:33:28.344528Z",
     "start_time": "2024-05-20T17:33:28.337195Z"
    }
   },
   "cell_type": "code",
   "source": [
    "from sklearn.model_selection import train_test_split\n",
    "\n",
    "X = df_encoded.drop('diagnoses', axis='columns')\n",
    "y = df_encoded['diagnoses']\n",
    "X_TRAIN, X_TEST, y_TRAIN, y_TEST = train_test_split(X, y, test_size=0.2)\n",
    "print('Training set shape:', X_TRAIN.shape, y_TRAIN.shape)\n",
    "print('Testing set shape:', X_TEST.shape, y_TEST.shape)"
   ],
   "id": "84054ef19a46bc36",
   "outputs": [
    {
     "name": "stdout",
     "output_type": "stream",
     "text": [
      "Training set shape: (5870, 29) (5870,)\n",
      "Testing set shape: (1468, 29) (1468,)\n"
     ]
    }
   ],
   "execution_count": 77
  },
  {
   "metadata": {},
   "cell_type": "markdown",
   "source": "### 1.5 Scaling Data",
   "id": "5a8b40e0871be938"
  },
  {
   "metadata": {
    "ExecuteTime": {
     "end_time": "2024-05-20T17:33:28.397698Z",
     "start_time": "2024-05-20T17:33:28.345534Z"
    }
   },
   "cell_type": "code",
   "source": [
    "from sklearn.preprocessing import StandardScaler\n",
    "\n",
    "def scale_data(X_train, X_test):\n",
    "    scaler = StandardScaler()\n",
    "    scaler.fit(X_train)\n",
    "    return scaler.transform(X_train), scaler.transform(X_test)\n",
    "\n",
    "X_train_scl, X_test_scl = scale_data(X_TRAIN, X_TEST)"
   ],
   "id": "588e36dc53b771f7",
   "outputs": [],
   "execution_count": 78
  },
  {
   "metadata": {},
   "cell_type": "markdown",
   "source": "### 1.6 Imputing missing values",
   "id": "c3b56e64c29f54aa"
  },
  {
   "metadata": {
    "ExecuteTime": {
     "end_time": "2024-05-20T17:33:28.410153Z",
     "start_time": "2024-05-20T17:33:28.398703Z"
    }
   },
   "cell_type": "code",
   "source": [
    "from sklearn.impute import SimpleImputer\n",
    "\n",
    "def impute_data(X_train, X_test):\n",
    "    imputer = SimpleImputer(strategy='mean')\n",
    "    imputer.fit(X_train)\n",
    "    return imputer.transform(X_train), imputer.transform(X_test)\n",
    "\n",
    "X_train_imp, X_test_imp = impute_data(X_train_scl, X_test_scl)\n",
    "X_TRAIN = pd.DataFrame(X_train_imp, columns=X_TRAIN.columns)\n",
    "X_TEST = pd.DataFrame(X_test_imp, columns=X_TEST.columns)\n",
    "X_TRAIN.info()"
   ],
   "id": "e8524c87fdb9b95e",
   "outputs": [
    {
     "name": "stdout",
     "output_type": "stream",
     "text": [
      "<class 'pandas.core.frame.DataFrame'>\n",
      "RangeIndex: 5870 entries, 0 to 5869\n",
      "Data columns (total 29 columns):\n",
      " #   Column                      Non-Null Count  Dtype  \n",
      "---  ------                      --------------  -----  \n",
      " 0   age:                        5870 non-null   float64\n",
      " 1   sex:                        5870 non-null   float64\n",
      " 2   on thyroxine:               5870 non-null   float64\n",
      " 3   query on thyroxine:         5870 non-null   float64\n",
      " 4   on antithyroid medication:  5870 non-null   float64\n",
      " 5   sick:                       5870 non-null   float64\n",
      " 6   pregnant:                   5870 non-null   float64\n",
      " 7   thyroid surgery:            5870 non-null   float64\n",
      " 8   I131 treatment:             5870 non-null   float64\n",
      " 9   query hypothyroid:          5870 non-null   float64\n",
      " 10  query hyperthyroid:         5870 non-null   float64\n",
      " 11  lithium:                    5870 non-null   float64\n",
      " 12  goitre:                     5870 non-null   float64\n",
      " 13  tumor:                      5870 non-null   float64\n",
      " 14  hypopituitary:              5870 non-null   float64\n",
      " 15  psych:                      5870 non-null   float64\n",
      " 16  TSH measured:               5870 non-null   float64\n",
      " 17  TSH:                        5870 non-null   float64\n",
      " 18  T3 measured:                5870 non-null   float64\n",
      " 19  T3:                         5870 non-null   float64\n",
      " 20  TT4 measured:               5870 non-null   float64\n",
      " 21  TT4:                        5870 non-null   float64\n",
      " 22  T4U measured:               5870 non-null   float64\n",
      " 23  T4U:                        5870 non-null   float64\n",
      " 24  FTI measured:               5870 non-null   float64\n",
      " 25  FTI:                        5870 non-null   float64\n",
      " 26  TBG measured:               5870 non-null   float64\n",
      " 27  TBG:                        5870 non-null   float64\n",
      " 28  referral source:            5870 non-null   float64\n",
      "dtypes: float64(29)\n",
      "memory usage: 1.3 MB\n"
     ]
    }
   ],
   "execution_count": 79
  },
  {
   "metadata": {},
   "cell_type": "markdown",
   "source": "### 2. Classification Models",
   "id": "e70738c62e106345"
  },
  {
   "metadata": {},
   "cell_type": "markdown",
   "source": "#### 2.1 Feature Selection",
   "id": "b61e2db8481d56a2"
  },
  {
   "metadata": {
    "ExecuteTime": {
     "end_time": "2024-05-20T17:33:32.248311Z",
     "start_time": "2024-05-20T17:33:28.411159Z"
    }
   },
   "cell_type": "code",
   "source": [
    "# TODO feature selection needs tuning\n",
    "from sklearn.feature_selection import SequentialFeatureSelector as SFS\n",
    "from sklearn.linear_model import LinearRegression\n",
    "\n",
    "def feature_selection(X_train, y_train, X_test, verbose=False): \n",
    "    selector = SFS(LinearRegression(), \n",
    "                   n_features_to_select=13, \n",
    "                   direction='forward',\n",
    "                   n_jobs=-1)\n",
    "    selector.fit(X_train, y_train)\n",
    "    if verbose:\n",
    "        N, M = X_train.shape\n",
    "        features=selector.get_support()\n",
    "        features_selected = np.arange(M)[features]\n",
    "        print(\"The features selected are columns: \", features_selected)\n",
    "    return selector.transform(X_train), selector.transform(X_test)\n",
    "\n",
    "X_TRAIN, X_TEST = feature_selection(X_TRAIN, y_TRAIN, X_TEST, True)"
   ],
   "id": "34d5b40cf1d9af3b",
   "outputs": [
    {
     "name": "stdout",
     "output_type": "stream",
     "text": [
      "The features selected are columns:  [ 1  2  4  6 15 16 17 18 19 21 25 26 27]\n"
     ]
    }
   ],
   "execution_count": 80
  },
  {
   "metadata": {},
   "cell_type": "markdown",
   "source": "#### 2.2 KFold Cross Validation",
   "id": "4d1cd5a9bbb0f86b"
  },
  {
   "metadata": {
    "ExecuteTime": {
     "end_time": "2024-05-20T17:33:32.253054Z",
     "start_time": "2024-05-20T17:33:32.249319Z"
    }
   },
   "cell_type": "code",
   "source": [
    "from sklearn.model_selection import KFold\n",
    "from sklearn.metrics import accuracy_score, precision_score, recall_score, f1_score, matthews_corrcoef\n",
    "\n",
    "def cross_validation(model, X, y):\n",
    "    TRUTH = None\n",
    "    PREDS = None\n",
    "    kf = KFold(n_splits=5, shuffle=True)\n",
    "    for train_index, test_index in kf.split(X):\n",
    "        X_train, y_train = X[train_index], y.to_numpy()[train_index]\n",
    "        X_test, y_test = X[test_index], y.to_numpy()[test_index]\n",
    "        \n",
    "        model.fit(X_train, y_train)\n",
    "        preds = model.predict(X_test)\n",
    "        if TRUTH is None:\n",
    "            PREDS = preds\n",
    "            TRUTH = y_test\n",
    "        else:\n",
    "            PREDS = np.hstack((PREDS, preds))\n",
    "            TRUTH = np.hstack((TRUTH, y_test))\n",
    "    return TRUTH, PREDS"
   ],
   "id": "dc8b24eb7dc939cb",
   "outputs": [],
   "execution_count": 81
  },
  {
   "metadata": {
    "ExecuteTime": {
     "end_time": "2024-05-20T17:33:32.258960Z",
     "start_time": "2024-05-20T17:33:32.254059Z"
    }
   },
   "cell_type": "code",
   "source": [
    "def evaluate(model, X, y, n_iter=10):\n",
    "    acc, pre, rec, f1, mcc = [], [], [], [], []\n",
    "    for _ in range(n_iter):\n",
    "        truth, preds = cross_validation(model, X, y)\n",
    "        acc.append(accuracy_score(truth, preds))\n",
    "        pre.append(precision_score(truth, preds, average='weighted', zero_division=1))\n",
    "        rec.append(recall_score(truth, preds, average='weighted'))\n",
    "        f1.append(f1_score(truth, preds, average='weighted'))\n",
    "        mcc.append(matthews_corrcoef(truth, preds)) \n",
    "    return {\n",
    "        'Model': model,\n",
    "        'Accuracy': np.mean(acc),\n",
    "        'Precision': np.mean(pre),\n",
    "        'Recall': np.mean(rec),\n",
    "        'F1-Score': np.mean(f1),\n",
    "        'MCC': np.mean(mcc)\n",
    "    }"
   ],
   "id": "fe276d9166c129c2",
   "outputs": [],
   "execution_count": 82
  },
  {
   "metadata": {},
   "cell_type": "markdown",
   "source": "#### 2.3 Model Evaluation",
   "id": "5218522c6999b051"
  },
  {
   "metadata": {
    "ExecuteTime": {
     "end_time": "2024-05-20T17:34:00.598929Z",
     "start_time": "2024-05-20T17:33:32.259965Z"
    }
   },
   "cell_type": "code",
   "source": [
    "from sklearn.tree import DecisionTreeClassifier\n",
    "from sklearn.linear_model import LogisticRegression\n",
    "from sklearn.naive_bayes import GaussianNB\n",
    "from sklearn.neighbors import KNeighborsClassifier\n",
    "from sklearn.svm import SVC\n",
    "\n",
    "eval_metrics = ['Model', 'Accuracy', 'Precision', 'Recall', 'F1-Score', 'MCC']\n",
    "tree = evaluate(DecisionTreeClassifier(), X_TRAIN, y_TRAIN)\n",
    "lgr = evaluate(LogisticRegression(), X_TRAIN, y_TRAIN)\n",
    "naive_bayes = evaluate(GaussianNB(), X_TRAIN, y_TRAIN)\n",
    "knn = evaluate(KNeighborsClassifier(), X_TRAIN, y_TRAIN)\n",
    "svm = evaluate(SVC(), X_TRAIN, y_TRAIN)\n",
    "pd.DataFrame([tree, lgr, naive_bayes, knn, svm], columns=eval_metrics)"
   ],
   "id": "13d2e9541e1d907b",
   "outputs": [
    {
     "data": {
      "text/plain": [
       "                      Model  Accuracy  Precision    Recall  F1-Score       MCC\n",
       "0  DecisionTreeClassifier()  0.916235   0.915809  0.916235  0.915919  0.807176\n",
       "1      LogisticRegression()  0.850017   0.835240  0.850017  0.831655  0.615044\n",
       "2              GaussianNB()  0.141380   0.783655  0.141380  0.096341  0.178979\n",
       "3    KNeighborsClassifier()  0.867240   0.861467  0.867240  0.856477  0.667480\n",
       "4                     SVC()  0.845077   0.837942  0.845077  0.822671  0.597788"
      ],
      "text/html": [
       "<div>\n",
       "<style scoped>\n",
       "    .dataframe tbody tr th:only-of-type {\n",
       "        vertical-align: middle;\n",
       "    }\n",
       "\n",
       "    .dataframe tbody tr th {\n",
       "        vertical-align: top;\n",
       "    }\n",
       "\n",
       "    .dataframe thead th {\n",
       "        text-align: right;\n",
       "    }\n",
       "</style>\n",
       "<table border=\"1\" class=\"dataframe\">\n",
       "  <thead>\n",
       "    <tr style=\"text-align: right;\">\n",
       "      <th></th>\n",
       "      <th>Model</th>\n",
       "      <th>Accuracy</th>\n",
       "      <th>Precision</th>\n",
       "      <th>Recall</th>\n",
       "      <th>F1-Score</th>\n",
       "      <th>MCC</th>\n",
       "    </tr>\n",
       "  </thead>\n",
       "  <tbody>\n",
       "    <tr>\n",
       "      <th>0</th>\n",
       "      <td>DecisionTreeClassifier()</td>\n",
       "      <td>0.916235</td>\n",
       "      <td>0.915809</td>\n",
       "      <td>0.916235</td>\n",
       "      <td>0.915919</td>\n",
       "      <td>0.807176</td>\n",
       "    </tr>\n",
       "    <tr>\n",
       "      <th>1</th>\n",
       "      <td>LogisticRegression()</td>\n",
       "      <td>0.850017</td>\n",
       "      <td>0.835240</td>\n",
       "      <td>0.850017</td>\n",
       "      <td>0.831655</td>\n",
       "      <td>0.615044</td>\n",
       "    </tr>\n",
       "    <tr>\n",
       "      <th>2</th>\n",
       "      <td>GaussianNB()</td>\n",
       "      <td>0.141380</td>\n",
       "      <td>0.783655</td>\n",
       "      <td>0.141380</td>\n",
       "      <td>0.096341</td>\n",
       "      <td>0.178979</td>\n",
       "    </tr>\n",
       "    <tr>\n",
       "      <th>3</th>\n",
       "      <td>KNeighborsClassifier()</td>\n",
       "      <td>0.867240</td>\n",
       "      <td>0.861467</td>\n",
       "      <td>0.867240</td>\n",
       "      <td>0.856477</td>\n",
       "      <td>0.667480</td>\n",
       "    </tr>\n",
       "    <tr>\n",
       "      <th>4</th>\n",
       "      <td>SVC()</td>\n",
       "      <td>0.845077</td>\n",
       "      <td>0.837942</td>\n",
       "      <td>0.845077</td>\n",
       "      <td>0.822671</td>\n",
       "      <td>0.597788</td>\n",
       "    </tr>\n",
       "  </tbody>\n",
       "</table>\n",
       "</div>"
      ]
     },
     "execution_count": 83,
     "metadata": {},
     "output_type": "execute_result"
    }
   ],
   "execution_count": 83
  },
  {
   "metadata": {},
   "cell_type": "markdown",
   "source": "#### 2.4 Hyperparameter Tuning",
   "id": "2eb5fadc77b4e4d0"
  },
  {
   "metadata": {
    "ExecuteTime": {
     "end_time": "2024-05-20T17:34:00.603954Z",
     "start_time": "2024-05-20T17:34:00.599988Z"
    }
   },
   "cell_type": "code",
   "source": [
    "model_params = {\n",
    "    'Decision Tree': {\n",
    "        'model': DecisionTreeClassifier(),\n",
    "        'params': {\n",
    "            'max_depth': [2, 3, 5, 10, 20],\n",
    "            'min_samples_split': [2, 3, 5, 10, 15],\n",
    "            'min_samples_leaf': [2, 3, 5, 10, 15],\n",
    "            'criterion': ['gini', 'entropy', 'log_loss']\n",
    "        }\n",
    "    },\n",
    "    'KNN': {\n",
    "        'model': KNeighborsClassifier(),\n",
    "        'params': {\n",
    "            'n_neighbors' : [3, 5, 7, 9, 11],\n",
    "            'weights' : ['uniform', 'distance'],\n",
    "            'metric' : ['minkowski', 'euclidean', 'manhattan']\n",
    "        }\n",
    "    },\n",
    "    'SVC': {\n",
    "        'model': SVC(),\n",
    "        'params': {\n",
    "            'C': [0.1, 1, 10, 100],  \n",
    "            'gamma': [1, 0.1, 0.01, 0.001], \n",
    "            'kernel': ['rbf', 'linear'] \n",
    "        }\n",
    "    }\n",
    "}"
   ],
   "id": "3ff3238a4ef5c21c",
   "outputs": [],
   "execution_count": 84
  },
  {
   "metadata": {
    "ExecuteTime": {
     "end_time": "2024-05-20T17:34:53.599048Z",
     "start_time": "2024-05-20T17:34:00.605959Z"
    }
   },
   "cell_type": "code",
   "source": [
    "from sklearn.model_selection import GridSearchCV\n",
    "\n",
    "scores = []\n",
    "for name, model in model_params.items():\n",
    "    grid_search = GridSearchCV(model['model'], model['params'], cv=5, n_jobs=-1)\n",
    "    grid_search.fit(X_TRAIN, y_TRAIN)\n",
    "    scores.append({\n",
    "        'Best Estimator': grid_search.best_estimator_,\n",
    "        'Best Score': grid_search.best_score_,\n",
    "        'Best Params': grid_search.best_params_\n",
    "    })\n",
    "df_tuning = pd.DataFrame(scores, columns=['Best Estimator', 'Best Score', 'Best Params'])\n",
    "df_tuning"
   ],
   "id": "1c996b4bb720017c",
   "outputs": [
    {
     "data": {
      "text/plain": [
       "                                      Best Estimator  Best Score  \\\n",
       "0  DecisionTreeClassifier(criterion='log_loss', m...    0.925383   \n",
       "1  KNeighborsClassifier(n_neighbors=3, weights='d...    0.873424   \n",
       "2                              SVC(C=100, gamma=0.1)    0.889097   \n",
       "\n",
       "                                         Best Params  \n",
       "0  {'criterion': 'log_loss', 'max_depth': 10, 'mi...  \n",
       "1  {'metric': 'minkowski', 'n_neighbors': 3, 'wei...  \n",
       "2          {'C': 100, 'gamma': 0.1, 'kernel': 'rbf'}  "
      ],
      "text/html": [
       "<div>\n",
       "<style scoped>\n",
       "    .dataframe tbody tr th:only-of-type {\n",
       "        vertical-align: middle;\n",
       "    }\n",
       "\n",
       "    .dataframe tbody tr th {\n",
       "        vertical-align: top;\n",
       "    }\n",
       "\n",
       "    .dataframe thead th {\n",
       "        text-align: right;\n",
       "    }\n",
       "</style>\n",
       "<table border=\"1\" class=\"dataframe\">\n",
       "  <thead>\n",
       "    <tr style=\"text-align: right;\">\n",
       "      <th></th>\n",
       "      <th>Best Estimator</th>\n",
       "      <th>Best Score</th>\n",
       "      <th>Best Params</th>\n",
       "    </tr>\n",
       "  </thead>\n",
       "  <tbody>\n",
       "    <tr>\n",
       "      <th>0</th>\n",
       "      <td>DecisionTreeClassifier(criterion='log_loss', m...</td>\n",
       "      <td>0.925383</td>\n",
       "      <td>{'criterion': 'log_loss', 'max_depth': 10, 'mi...</td>\n",
       "    </tr>\n",
       "    <tr>\n",
       "      <th>1</th>\n",
       "      <td>KNeighborsClassifier(n_neighbors=3, weights='d...</td>\n",
       "      <td>0.873424</td>\n",
       "      <td>{'metric': 'minkowski', 'n_neighbors': 3, 'wei...</td>\n",
       "    </tr>\n",
       "    <tr>\n",
       "      <th>2</th>\n",
       "      <td>SVC(C=100, gamma=0.1)</td>\n",
       "      <td>0.889097</td>\n",
       "      <td>{'C': 100, 'gamma': 0.1, 'kernel': 'rbf'}</td>\n",
       "    </tr>\n",
       "  </tbody>\n",
       "</table>\n",
       "</div>"
      ]
     },
     "execution_count": 85,
     "metadata": {},
     "output_type": "execute_result"
    }
   ],
   "execution_count": 85
  },
  {
   "metadata": {},
   "cell_type": "markdown",
   "source": "#### 2.5 Model Selection",
   "id": "2c580f6d30a643e3"
  },
  {
   "metadata": {
    "ExecuteTime": {
     "end_time": "2024-05-20T17:34:53.603615Z",
     "start_time": "2024-05-20T17:34:53.600092Z"
    }
   },
   "cell_type": "code",
   "source": [
    "best_classification_model = df_tuning.at[df_tuning['Best Score'].idxmax(), 'Best Estimator']\n",
    "print(\"-------------- Best Classification Model: -------------- \\n\")\n",
    "print(best_classification_model)"
   ],
   "id": "4ce22c6c0a46ae57",
   "outputs": [
    {
     "name": "stdout",
     "output_type": "stream",
     "text": [
      "-------------- Best Classification Model: -------------- \n",
      "\n",
      "DecisionTreeClassifier(criterion='log_loss', max_depth=10, min_samples_leaf=3)\n"
     ]
    }
   ],
   "execution_count": 86
  },
  {
   "metadata": {
    "ExecuteTime": {
     "end_time": "2024-05-20T17:34:54.349235Z",
     "start_time": "2024-05-20T17:34:53.604661Z"
    }
   },
   "cell_type": "code",
   "source": [
    "evaluation = pd.DataFrame([evaluate(best_classification_model, X_TRAIN, y_TRAIN)], columns=eval_metrics)\n",
    "evaluation"
   ],
   "id": "94d83621839d879b",
   "outputs": [
    {
     "data": {
      "text/plain": [
       "                                               Model  Accuracy  Precision  \\\n",
       "0  DecisionTreeClassifier(criterion='log_loss', m...  0.922964   0.921552   \n",
       "\n",
       "     Recall  F1-Score       MCC  \n",
       "0  0.922964  0.921775  0.822473  "
      ],
      "text/html": [
       "<div>\n",
       "<style scoped>\n",
       "    .dataframe tbody tr th:only-of-type {\n",
       "        vertical-align: middle;\n",
       "    }\n",
       "\n",
       "    .dataframe tbody tr th {\n",
       "        vertical-align: top;\n",
       "    }\n",
       "\n",
       "    .dataframe thead th {\n",
       "        text-align: right;\n",
       "    }\n",
       "</style>\n",
       "<table border=\"1\" class=\"dataframe\">\n",
       "  <thead>\n",
       "    <tr style=\"text-align: right;\">\n",
       "      <th></th>\n",
       "      <th>Model</th>\n",
       "      <th>Accuracy</th>\n",
       "      <th>Precision</th>\n",
       "      <th>Recall</th>\n",
       "      <th>F1-Score</th>\n",
       "      <th>MCC</th>\n",
       "    </tr>\n",
       "  </thead>\n",
       "  <tbody>\n",
       "    <tr>\n",
       "      <th>0</th>\n",
       "      <td>DecisionTreeClassifier(criterion='log_loss', m...</td>\n",
       "      <td>0.922964</td>\n",
       "      <td>0.921552</td>\n",
       "      <td>0.922964</td>\n",
       "      <td>0.921775</td>\n",
       "      <td>0.822473</td>\n",
       "    </tr>\n",
       "  </tbody>\n",
       "</table>\n",
       "</div>"
      ]
     },
     "execution_count": 87,
     "metadata": {},
     "output_type": "execute_result"
    }
   ],
   "execution_count": 87
  },
  {
   "metadata": {
    "ExecuteTime": {
     "end_time": "2024-05-20T17:34:54.376362Z",
     "start_time": "2024-05-20T17:34:54.350238Z"
    }
   },
   "cell_type": "code",
   "source": [
    "best_classification_model.fit(X_TRAIN, y_TRAIN)\n",
    "preds = best_classification_model.predict(X_TEST)\n",
    "test_report = {\n",
    "    'Model': best_classification_model,\n",
    "    'Accuracy': accuracy_score(y_TEST, preds),\n",
    "    'Precision': precision_score(y_TEST, preds, average='weighted', zero_division=1),\n",
    "    'Recall': recall_score(y_TEST, preds, average='weighted'),\n",
    "    'F1-Score': f1_score(y_TEST, preds, average='weighted'),\n",
    "    'MCC': matthews_corrcoef(y_TEST, preds)\n",
    "}\n",
    "best_model_test = pd.DataFrame([test_report], columns=eval_metrics)\n",
    "best_model_test"
   ],
   "id": "c987f6eec25db32e",
   "outputs": [
    {
     "data": {
      "text/plain": [
       "                                               Model  Accuracy  Precision  \\\n",
       "0  DecisionTreeClassifier(criterion='log_loss', m...  0.928474   0.927943   \n",
       "\n",
       "     Recall  F1-Score       MCC  \n",
       "0  0.928474  0.927714  0.846581  "
      ],
      "text/html": [
       "<div>\n",
       "<style scoped>\n",
       "    .dataframe tbody tr th:only-of-type {\n",
       "        vertical-align: middle;\n",
       "    }\n",
       "\n",
       "    .dataframe tbody tr th {\n",
       "        vertical-align: top;\n",
       "    }\n",
       "\n",
       "    .dataframe thead th {\n",
       "        text-align: right;\n",
       "    }\n",
       "</style>\n",
       "<table border=\"1\" class=\"dataframe\">\n",
       "  <thead>\n",
       "    <tr style=\"text-align: right;\">\n",
       "      <th></th>\n",
       "      <th>Model</th>\n",
       "      <th>Accuracy</th>\n",
       "      <th>Precision</th>\n",
       "      <th>Recall</th>\n",
       "      <th>F1-Score</th>\n",
       "      <th>MCC</th>\n",
       "    </tr>\n",
       "  </thead>\n",
       "  <tbody>\n",
       "    <tr>\n",
       "      <th>0</th>\n",
       "      <td>DecisionTreeClassifier(criterion='log_loss', m...</td>\n",
       "      <td>0.928474</td>\n",
       "      <td>0.927943</td>\n",
       "      <td>0.928474</td>\n",
       "      <td>0.927714</td>\n",
       "      <td>0.846581</td>\n",
       "    </tr>\n",
       "  </tbody>\n",
       "</table>\n",
       "</div>"
      ]
     },
     "execution_count": 88,
     "metadata": {},
     "output_type": "execute_result"
    }
   ],
   "execution_count": 88
  },
  {
   "metadata": {},
   "cell_type": "markdown",
   "source": "### 3. Regression Models",
   "id": "669442d819cd0bce"
  },
  {
   "metadata": {},
   "cell_type": "markdown",
   "source": "### 4. IVS Model Testing",
   "id": "b2e79d8a45d2cea0"
  },
  {
   "metadata": {
    "ExecuteTime": {
     "end_time": "2024-05-20T17:34:54.381711Z",
     "start_time": "2024-05-20T17:34:54.377366Z"
    }
   },
   "cell_type": "code",
   "source": [
    "# import pandas as pd\n",
    "# import numpy as np\n",
    "# from sklearn.model_selection import train_test_split\n",
    "# from sklearn.preprocessing import StandardScaler\n",
    "# from sklearn.impute import SimpleImputer\n",
    "# from sklearn.feature_selection import SequentialFeatureSelector as SFS\n",
    "# from sklearn.linear_model import LinearRegression\n",
    "# from sklearn.model_selection import KFold\n",
    "# from sklearn.metrics import accuracy_score, precision_score, recall_score, f1_score, matthews_corrcoef\n",
    "# from sklearn.tree import DecisionTreeClassifier\n",
    "# \n",
    "# eval_metrics = ['Model', 'Accuracy', 'Precision', 'Recall', 'F1-Score', 'MCC']\n",
    "# \n",
    "# def encode_data(X):\n",
    "#     encoded_values = {\n",
    "#         'M': '0', 'F': '1',\n",
    "#         'f': '0', 't': '1',\n",
    "#         'WEST': '0', 'STMW': '1',\n",
    "#         'SVHC': '2', 'SVI': '3',\n",
    "#         'SVHD': '4', 'other': '5'\n",
    "#     }\n",
    "#     encoded = X.replace(encoded_values)\n",
    "#     return pd.DataFrame(encoded, columns=X.columns)\n",
    "# \n",
    "# def encode_target(y):\n",
    "#     target = 'diagnoses'\n",
    "#     value_mapping = {\n",
    "#         '-': 0,                          # healthy\n",
    "#         'A': 1, 'B': 1, 'C': 1, 'D': 1,  # hyperthyroid conditions\n",
    "#         'E': 2, 'F': 2, 'G': 2, 'H': 2,  # hypothyroid conditions\n",
    "#         'I': 3, 'J': 3,                  # binding protein\n",
    "#         'K': 4,                          # general health\n",
    "#         'L': 5, 'M': 5, 'N': 5,          # replacement therapy\n",
    "#         'R': 6,                          # discordant results\n",
    "#     }\n",
    "#     df_target = pd.DataFrame(y, columns=[target])\n",
    "#     df_target[target] = df_target[target].map(value_mapping).fillna(7).astype(int)\n",
    "#     return df_target\n",
    "# \n",
    "# def scale_data(X_train, X_test):\n",
    "#     scaler = StandardScaler()\n",
    "#     scaler.fit(X_train)\n",
    "#     return scaler.transform(X_train), scaler.transform(X_test)\n",
    "# \n",
    "# def impute_data(X_train, X_test):\n",
    "#     imputer = SimpleImputer(strategy='mean')\n",
    "#     imputer.fit(X_train)\n",
    "#     return imputer.transform(X_train), imputer.transform(X_test)\n",
    "# \n",
    "# def feature_selection(X_train, y_train, X_test, verbose=False): \n",
    "#     selector = SFS(LinearRegression(), \n",
    "#                    n_features_to_select=13, \n",
    "#                    direction='forward',\n",
    "#                    n_jobs=-1)\n",
    "#     selector.fit(X_train, y_train)\n",
    "#     if verbose:\n",
    "#         N, M = X_train.shape\n",
    "#         features=selector.get_support()\n",
    "#         features_selected = np.arange(M)[features]\n",
    "#         print(\"The features selected are columns: \", features_selected)\n",
    "#     return selector.transform(X_train), selector.transform(X_test)\n",
    "# \n",
    "# df_copy = pd.read_csv('proj-data.csv')\n",
    "# df_X_IVS = pd.read_csv('proj-test-data.csv') # Replace with the complete IVS set !\n",
    "# df_y_IVS = pd.read_csv('proj-test-class.csv') # Replace with the complete IVS set !\n",
    "# \n",
    "# df_copy.replace('?', np.nan, inplace=True)\n",
    "# df_X_IVS.replace('?', np.nan, inplace=True)\n",
    "# df_test = df_copy.drop('[record identification]', axis = 1)\n",
    "# X_IVS = df_X_IVS.drop('[record identification]', axis = 1)\n",
    "# \n",
    "# X = encode_data(df_test.drop('diagnoses', axis = 1))\n",
    "# y = encode_target(df_test['diagnoses'])\n",
    "# X_IVS = encode_data(X_IVS)\n",
    "# y_IVS = encode_target(df_y_IVS['diagnoses'])\n",
    "# X_train, _, y_train, _ = train_test_split(X, y, test_size=0.2)\n",
    "# \n",
    "# X_train_scl, X_ivs_scl = scale_data(X_train, X_IVS)\n",
    "# X_train_imp, X_ivs_imp = impute_data(X_train_scl, X_ivs_scl)\n",
    "# \n",
    "# X_train_processed = pd.DataFrame(X_train_imp, columns=X_train.columns)\n",
    "# X_ivs_processed = pd.DataFrame(X_ivs_imp, columns=X_IVS.columns)\n",
    "# X_train, X_IVS = feature_selection(X_train_processed, y_train, X_ivs_processed)\n",
    "# \n",
    "# ##### Define the best classification model here ######\n",
    "# classification_model = DecisionTreeClassifier(criterion='entropy', max_depth=20, min_samples_leaf=2,\n",
    "#                        min_samples_split=5)\n",
    "# classification_model.fit(X_train, y_train)\n",
    "# preds = classification_model.predict(X_IVS)\n",
    "# results = {\n",
    "#     'Model': classification_model,\n",
    "#     'Accuracy': accuracy_score(y_IVS, preds),\n",
    "#     'Precision': precision_score(y_IVS, preds, average='weighted', zero_division=1),\n",
    "#     'Recall': recall_score(y_IVS, preds, average='weighted'),\n",
    "#     'F1-Score': f1_score(y_IVS, preds, average='weighted'),\n",
    "#     'MCC': matthews_corrcoef(y_IVS, preds)\n",
    "# }\n",
    "# ##### Remove comment to show results ######\n",
    "# # ivs_testing = pd.DataFrame([results], columns=eval_metrics)\n",
    "# # ivs_testing"
   ],
   "id": "114ee452afa929c5",
   "outputs": [],
   "execution_count": 89
  }
 ],
 "metadata": {
  "kernelspec": {
   "display_name": "Python 3",
   "language": "python",
   "name": "python3"
  },
  "language_info": {
   "codemirror_mode": {
    "name": "ipython",
    "version": 2
   },
   "file_extension": ".py",
   "mimetype": "text/x-python",
   "name": "python",
   "nbconvert_exporter": "python",
   "pygments_lexer": "ipython2",
   "version": "2.7.6"
  }
 },
 "nbformat": 4,
 "nbformat_minor": 5
}
