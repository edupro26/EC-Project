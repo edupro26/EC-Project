{
 "cells": [
  {
   "metadata": {},
   "cell_type": "markdown",
   "source": [
    "# Engenharia do Conhecimento 2023/2024\n",
    "\n",
    "## Project: Classification and Regression models with *Thyroid disease Data Set*\n",
    "\n",
    "#### Group 6:\n",
    "\n",
    "- Eduardo Proença 57551\n",
    "- Tiago Oliveira 54979\n",
    "- Bernardo Lopes 54386"
   ],
   "id": "37af115655e6ef16"
  },
  {
   "metadata": {},
   "cell_type": "markdown",
   "source": [
    "### 1. Data Processing\n",
    "\n",
    "When constructing a machine learning model, data processing is an important step. We need to ensure that our data set is properly processed so that it can be used in the best possible way by diferent classification models."
   ],
   "id": "7a3fe0f7bf074860"
  },
  {
   "metadata": {},
   "cell_type": "markdown",
   "source": [
    "#### 1.1 Creating a Data Frame\n",
    "The first step is load our data set. For that, we can use the [Pandas](https://pandas.pydata.org) Python Library, to read the file \"proj-data.csv\", which contains the data set we will be using in this project and build a DataFrame"
   ],
   "id": "79a91cdf41098297"
  },
  {
   "metadata": {
    "ExecuteTime": {
     "end_time": "2024-05-20T17:08:16.781833Z",
     "start_time": "2024-05-20T17:08:16.764785Z"
    }
   },
   "cell_type": "code",
   "source": [
    "import pandas as pd\n",
    "\n",
    "# Load data set\n",
    "df_thyroid = pd.read_csv('proj-data.csv')\n",
    "df_thyroid.shape"
   ],
   "id": "f2edb1e685a0e2d5",
   "outputs": [
    {
     "data": {
      "text/plain": [
       "(7338, 31)"
      ]
     },
     "execution_count": 32,
     "metadata": {},
     "output_type": "execute_result"
    }
   ],
   "execution_count": 32
  },
  {
   "metadata": {
    "ExecuteTime": {
     "end_time": "2024-05-20T17:08:16.911162Z",
     "start_time": "2024-05-20T17:08:16.899549Z"
    }
   },
   "cell_type": "code",
   "source": "df_thyroid.head()",
   "id": "3b1ab9a330192af9",
   "outputs": [
    {
     "data": {
      "text/plain": [
       "   age: sex: on thyroxine: query on thyroxine: on antithyroid medication:  \\\n",
       "0    29    F             f                   f                          f   \n",
       "1    29    F             f                   f                          f   \n",
       "2    36    F             f                   f                          f   \n",
       "3    60    F             f                   f                          f   \n",
       "4    77    F             f                   f                          f   \n",
       "\n",
       "  sick: pregnant: thyroid surgery: I131 treatment: query hypothyroid:  ...  \\\n",
       "0     f         f                f               f                  t  ...   \n",
       "1     f         f                f               f                  f  ...   \n",
       "2     f         f                f               f                  f  ...   \n",
       "3     f         f                f               f                  f  ...   \n",
       "4     f         f                f               f                  f  ...   \n",
       "\n",
       "  TT4: T4U measured: T4U: FTI measured: FTI: TBG measured: TBG:  \\\n",
       "0    ?             f    ?             f    ?             f    ?   \n",
       "1  128             f    ?             f    ?             f    ?   \n",
       "2    ?             f    ?             f    ?             t   26   \n",
       "3    ?             f    ?             f    ?             t   26   \n",
       "4    ?             f    ?             f    ?             t   21   \n",
       "\n",
       "  referral source: diagnoses [record identification]  \n",
       "0            other         -             [861106018]  \n",
       "1            other         -             [860916073]  \n",
       "2            other         -             [850726049]  \n",
       "3            other         -             [861010020]  \n",
       "4            other         -             [860324074]  \n",
       "\n",
       "[5 rows x 31 columns]"
      ],
      "text/html": [
       "<div>\n",
       "<style scoped>\n",
       "    .dataframe tbody tr th:only-of-type {\n",
       "        vertical-align: middle;\n",
       "    }\n",
       "\n",
       "    .dataframe tbody tr th {\n",
       "        vertical-align: top;\n",
       "    }\n",
       "\n",
       "    .dataframe thead th {\n",
       "        text-align: right;\n",
       "    }\n",
       "</style>\n",
       "<table border=\"1\" class=\"dataframe\">\n",
       "  <thead>\n",
       "    <tr style=\"text-align: right;\">\n",
       "      <th></th>\n",
       "      <th>age:</th>\n",
       "      <th>sex:</th>\n",
       "      <th>on thyroxine:</th>\n",
       "      <th>query on thyroxine:</th>\n",
       "      <th>on antithyroid medication:</th>\n",
       "      <th>sick:</th>\n",
       "      <th>pregnant:</th>\n",
       "      <th>thyroid surgery:</th>\n",
       "      <th>I131 treatment:</th>\n",
       "      <th>query hypothyroid:</th>\n",
       "      <th>...</th>\n",
       "      <th>TT4:</th>\n",
       "      <th>T4U measured:</th>\n",
       "      <th>T4U:</th>\n",
       "      <th>FTI measured:</th>\n",
       "      <th>FTI:</th>\n",
       "      <th>TBG measured:</th>\n",
       "      <th>TBG:</th>\n",
       "      <th>referral source:</th>\n",
       "      <th>diagnoses</th>\n",
       "      <th>[record identification]</th>\n",
       "    </tr>\n",
       "  </thead>\n",
       "  <tbody>\n",
       "    <tr>\n",
       "      <th>0</th>\n",
       "      <td>29</td>\n",
       "      <td>F</td>\n",
       "      <td>f</td>\n",
       "      <td>f</td>\n",
       "      <td>f</td>\n",
       "      <td>f</td>\n",
       "      <td>f</td>\n",
       "      <td>f</td>\n",
       "      <td>f</td>\n",
       "      <td>t</td>\n",
       "      <td>...</td>\n",
       "      <td>?</td>\n",
       "      <td>f</td>\n",
       "      <td>?</td>\n",
       "      <td>f</td>\n",
       "      <td>?</td>\n",
       "      <td>f</td>\n",
       "      <td>?</td>\n",
       "      <td>other</td>\n",
       "      <td>-</td>\n",
       "      <td>[861106018]</td>\n",
       "    </tr>\n",
       "    <tr>\n",
       "      <th>1</th>\n",
       "      <td>29</td>\n",
       "      <td>F</td>\n",
       "      <td>f</td>\n",
       "      <td>f</td>\n",
       "      <td>f</td>\n",
       "      <td>f</td>\n",
       "      <td>f</td>\n",
       "      <td>f</td>\n",
       "      <td>f</td>\n",
       "      <td>f</td>\n",
       "      <td>...</td>\n",
       "      <td>128</td>\n",
       "      <td>f</td>\n",
       "      <td>?</td>\n",
       "      <td>f</td>\n",
       "      <td>?</td>\n",
       "      <td>f</td>\n",
       "      <td>?</td>\n",
       "      <td>other</td>\n",
       "      <td>-</td>\n",
       "      <td>[860916073]</td>\n",
       "    </tr>\n",
       "    <tr>\n",
       "      <th>2</th>\n",
       "      <td>36</td>\n",
       "      <td>F</td>\n",
       "      <td>f</td>\n",
       "      <td>f</td>\n",
       "      <td>f</td>\n",
       "      <td>f</td>\n",
       "      <td>f</td>\n",
       "      <td>f</td>\n",
       "      <td>f</td>\n",
       "      <td>f</td>\n",
       "      <td>...</td>\n",
       "      <td>?</td>\n",
       "      <td>f</td>\n",
       "      <td>?</td>\n",
       "      <td>f</td>\n",
       "      <td>?</td>\n",
       "      <td>t</td>\n",
       "      <td>26</td>\n",
       "      <td>other</td>\n",
       "      <td>-</td>\n",
       "      <td>[850726049]</td>\n",
       "    </tr>\n",
       "    <tr>\n",
       "      <th>3</th>\n",
       "      <td>60</td>\n",
       "      <td>F</td>\n",
       "      <td>f</td>\n",
       "      <td>f</td>\n",
       "      <td>f</td>\n",
       "      <td>f</td>\n",
       "      <td>f</td>\n",
       "      <td>f</td>\n",
       "      <td>f</td>\n",
       "      <td>f</td>\n",
       "      <td>...</td>\n",
       "      <td>?</td>\n",
       "      <td>f</td>\n",
       "      <td>?</td>\n",
       "      <td>f</td>\n",
       "      <td>?</td>\n",
       "      <td>t</td>\n",
       "      <td>26</td>\n",
       "      <td>other</td>\n",
       "      <td>-</td>\n",
       "      <td>[861010020]</td>\n",
       "    </tr>\n",
       "    <tr>\n",
       "      <th>4</th>\n",
       "      <td>77</td>\n",
       "      <td>F</td>\n",
       "      <td>f</td>\n",
       "      <td>f</td>\n",
       "      <td>f</td>\n",
       "      <td>f</td>\n",
       "      <td>f</td>\n",
       "      <td>f</td>\n",
       "      <td>f</td>\n",
       "      <td>f</td>\n",
       "      <td>...</td>\n",
       "      <td>?</td>\n",
       "      <td>f</td>\n",
       "      <td>?</td>\n",
       "      <td>f</td>\n",
       "      <td>?</td>\n",
       "      <td>t</td>\n",
       "      <td>21</td>\n",
       "      <td>other</td>\n",
       "      <td>-</td>\n",
       "      <td>[860324074]</td>\n",
       "    </tr>\n",
       "  </tbody>\n",
       "</table>\n",
       "<p>5 rows × 31 columns</p>\n",
       "</div>"
      ]
     },
     "execution_count": 33,
     "metadata": {},
     "output_type": "execute_result"
    }
   ],
   "execution_count": 33
  },
  {
   "metadata": {},
   "cell_type": "markdown",
   "source": [
    "#### 1.2 Data investigation\n",
    "After building our DataFrame, it's important to do some investigation, so we can gain a better understanding of our data.\n",
    "\n",
    "The first detail we notice is that there are missing values represented by '?'. These will be handled later in this notebook, for now\n",
    "we will just replace them with NaN, so they can be identified."
   ],
   "id": "d58cfed3fb9fc2a3"
  },
  {
   "metadata": {
    "ExecuteTime": {
     "end_time": "2024-05-20T17:08:16.935822Z",
     "start_time": "2024-05-20T17:08:16.912168Z"
    }
   },
   "cell_type": "code",
   "source": [
    "import numpy as np\n",
    "\n",
    "# Replace missing values with NaN\n",
    "df = df_thyroid.copy()\n",
    "df.replace('?', np.nan, inplace=True)\n",
    "\n",
    "df.info()"
   ],
   "id": "d25207feac655236",
   "outputs": [
    {
     "name": "stdout",
     "output_type": "stream",
     "text": [
      "<class 'pandas.core.frame.DataFrame'>\n",
      "RangeIndex: 7338 entries, 0 to 7337\n",
      "Data columns (total 31 columns):\n",
      " #   Column                      Non-Null Count  Dtype \n",
      "---  ------                      --------------  ----- \n",
      " 0   age:                        7338 non-null   int64 \n",
      " 1   sex:                        7098 non-null   object\n",
      " 2   on thyroxine:               7338 non-null   object\n",
      " 3   query on thyroxine:         7338 non-null   object\n",
      " 4   on antithyroid medication:  7338 non-null   object\n",
      " 5   sick:                       7338 non-null   object\n",
      " 6   pregnant:                   7338 non-null   object\n",
      " 7   thyroid surgery:            7338 non-null   object\n",
      " 8   I131 treatment:             7338 non-null   object\n",
      " 9   query hypothyroid:          7338 non-null   object\n",
      " 10  query hyperthyroid:         7338 non-null   object\n",
      " 11  lithium:                    7338 non-null   object\n",
      " 12  goitre:                     7338 non-null   object\n",
      " 13  tumor:                      7338 non-null   object\n",
      " 14  hypopituitary:              7338 non-null   object\n",
      " 15  psych:                      7338 non-null   object\n",
      " 16  TSH measured:               7338 non-null   object\n",
      " 17  TSH:                        6667 non-null   object\n",
      " 18  T3 measured:                7338 non-null   object\n",
      " 19  T3:                         5270 non-null   object\n",
      " 20  TT4 measured:               7338 non-null   object\n",
      " 21  TT4:                        6976 non-null   object\n",
      " 22  T4U measured:               7338 non-null   object\n",
      " 23  T4U:                        6674 non-null   object\n",
      " 24  FTI measured:               7338 non-null   object\n",
      " 25  FTI:                        6680 non-null   object\n",
      " 26  TBG measured:               7338 non-null   object\n",
      " 27  TBG:                        284 non-null    object\n",
      " 28  referral source:            7338 non-null   object\n",
      " 29  diagnoses                   7338 non-null   object\n",
      " 30  [record identification]     7338 non-null   object\n",
      "dtypes: int64(1), object(30)\n",
      "memory usage: 1.7+ MB\n"
     ]
    }
   ],
   "execution_count": 34
  },
  {
   "metadata": {},
   "cell_type": "markdown",
   "source": "Looking at the number of different values of each column.",
   "id": "1be6aba230088054"
  },
  {
   "metadata": {
    "ExecuteTime": {
     "end_time": "2024-05-20T17:08:16.948859Z",
     "start_time": "2024-05-20T17:08:16.937828Z"
    }
   },
   "cell_type": "code",
   "source": [
    "print(\"Uniques values:\")\n",
    "for col in df_thyroid.columns:\n",
    "    unique_vals = df_thyroid[col].nunique()\n",
    "    print(f'{col} = ', unique_vals)"
   ],
   "id": "b917f0b00d08f6bf",
   "outputs": [
    {
     "name": "stdout",
     "output_type": "stream",
     "text": [
      "Uniques values:\n",
      "age: =  98\n",
      "sex: =  3\n",
      "on thyroxine: =  2\n",
      "query on thyroxine: =  2\n",
      "on antithyroid medication: =  2\n",
      "sick: =  2\n",
      "pregnant: =  2\n",
      "thyroid surgery: =  2\n",
      "I131 treatment: =  2\n",
      "query hypothyroid: =  2\n",
      "query hyperthyroid: =  2\n",
      "lithium: =  2\n",
      "goitre: =  2\n",
      "tumor: =  2\n",
      "hypopituitary: =  2\n",
      "psych: =  2\n",
      "TSH measured: =  2\n",
      "TSH: =  351\n",
      "T3 measured: =  2\n",
      "T3: =  82\n",
      "TT4 measured: =  2\n",
      "TT4: =  278\n",
      "T4U measured: =  2\n",
      "T4U: =  167\n",
      "FTI measured: =  2\n",
      "FTI: =  303\n",
      "TBG measured: =  2\n",
      "TBG: =  61\n",
      "referral source: =  6\n",
      "diagnoses =  32\n",
      "[record identification] =  7338\n"
     ]
    }
   ],
   "execution_count": 35
  },
  {
   "metadata": {},
   "cell_type": "markdown",
   "source": "Let's look at the number of missing values of each column.",
   "id": "8beed41a0ebdb11"
  },
  {
   "metadata": {
    "ExecuteTime": {
     "end_time": "2024-05-20T17:08:16.989027Z",
     "start_time": "2024-05-20T17:08:16.978865Z"
    }
   },
   "cell_type": "code",
   "source": "df.isna().sum()",
   "id": "6f21aa7626f43110",
   "outputs": [
    {
     "data": {
      "text/plain": [
       "age:                             0\n",
       "sex:                           240\n",
       "on thyroxine:                    0\n",
       "query on thyroxine:              0\n",
       "on antithyroid medication:       0\n",
       "sick:                            0\n",
       "pregnant:                        0\n",
       "thyroid surgery:                 0\n",
       "I131 treatment:                  0\n",
       "query hypothyroid:               0\n",
       "query hyperthyroid:              0\n",
       "lithium:                         0\n",
       "goitre:                          0\n",
       "tumor:                           0\n",
       "hypopituitary:                   0\n",
       "psych:                           0\n",
       "TSH measured:                    0\n",
       "TSH:                           671\n",
       "T3 measured:                     0\n",
       "T3:                           2068\n",
       "TT4 measured:                    0\n",
       "TT4:                           362\n",
       "T4U measured:                    0\n",
       "T4U:                           664\n",
       "FTI measured:                    0\n",
       "FTI:                           658\n",
       "TBG measured:                    0\n",
       "TBG:                          7054\n",
       "referral source:                 0\n",
       "diagnoses                        0\n",
       "[record identification]          0\n",
       "dtype: int64"
      ]
     },
     "execution_count": 36,
     "metadata": {},
     "output_type": "execute_result"
    }
   ],
   "execution_count": 36
  },
  {
   "metadata": {},
   "cell_type": "markdown",
   "source": [
    "After some investegation we know that our data set has two types of columns: binary columns which have only two possible non-numeric values\n",
    "and numeric columns which contain different numeric values. It also has three more columns, the referral source that can have six different values,\n",
    "the diagnoses our target variable, and the record information representing only a unique identifier, so this column can be dropped.\n",
    "\n",
    "As to the missing values we will impute them later instead of deleting them, because they represent measures that where not taken, and\n",
    "not values that are truly missing."
   ],
   "id": "fa8740cab57e3e98"
  },
  {
   "metadata": {
    "ExecuteTime": {
     "end_time": "2024-05-20T17:08:17.044718Z",
     "start_time": "2024-05-20T17:08:17.031268Z"
    }
   },
   "cell_type": "code",
   "source": [
    "# Dropping the [record identification] column\n",
    "df_cleaned = df.drop('[record identification]', axis = 1)\n",
    "df_cleaned.info()"
   ],
   "id": "52483fdee69777d3",
   "outputs": [
    {
     "name": "stdout",
     "output_type": "stream",
     "text": [
      "<class 'pandas.core.frame.DataFrame'>\n",
      "RangeIndex: 7338 entries, 0 to 7337\n",
      "Data columns (total 30 columns):\n",
      " #   Column                      Non-Null Count  Dtype \n",
      "---  ------                      --------------  ----- \n",
      " 0   age:                        7338 non-null   int64 \n",
      " 1   sex:                        7098 non-null   object\n",
      " 2   on thyroxine:               7338 non-null   object\n",
      " 3   query on thyroxine:         7338 non-null   object\n",
      " 4   on antithyroid medication:  7338 non-null   object\n",
      " 5   sick:                       7338 non-null   object\n",
      " 6   pregnant:                   7338 non-null   object\n",
      " 7   thyroid surgery:            7338 non-null   object\n",
      " 8   I131 treatment:             7338 non-null   object\n",
      " 9   query hypothyroid:          7338 non-null   object\n",
      " 10  query hyperthyroid:         7338 non-null   object\n",
      " 11  lithium:                    7338 non-null   object\n",
      " 12  goitre:                     7338 non-null   object\n",
      " 13  tumor:                      7338 non-null   object\n",
      " 14  hypopituitary:              7338 non-null   object\n",
      " 15  psych:                      7338 non-null   object\n",
      " 16  TSH measured:               7338 non-null   object\n",
      " 17  TSH:                        6667 non-null   object\n",
      " 18  T3 measured:                7338 non-null   object\n",
      " 19  T3:                         5270 non-null   object\n",
      " 20  TT4 measured:               7338 non-null   object\n",
      " 21  TT4:                        6976 non-null   object\n",
      " 22  T4U measured:               7338 non-null   object\n",
      " 23  T4U:                        6674 non-null   object\n",
      " 24  FTI measured:               7338 non-null   object\n",
      " 25  FTI:                        6680 non-null   object\n",
      " 26  TBG measured:               7338 non-null   object\n",
      " 27  TBG:                        284 non-null    object\n",
      " 28  referral source:            7338 non-null   object\n",
      " 29  diagnoses                   7338 non-null   object\n",
      "dtypes: int64(1), object(29)\n",
      "memory usage: 1.7+ MB\n"
     ]
    }
   ],
   "execution_count": 37
  },
  {
   "metadata": {},
   "cell_type": "markdown",
   "source": [
    "#### 1.3 Encoding Data\n",
    "Now our data set is ready to be encoded. In this process, all the binary columns will be transformed\n",
    "into two 0's and 1's. The \"referral source\" column will be encoded using the method get_dummies from [Pandas](https://pandas.pydata.org).\n",
    "\n",
    "As for the target variable, it will be encoded according to 8 classes given to us in the file \"data.names\"."
   ],
   "id": "b225a2e435e1a905"
  },
  {
   "metadata": {
    "ExecuteTime": {
     "end_time": "2024-05-20T17:08:17.255510Z",
     "start_time": "2024-05-20T17:08:17.186247Z"
    }
   },
   "cell_type": "code",
   "source": [
    "def encode_data(X):\n",
    "    encoded_values = {\n",
    "        'M': '0', 'F': '1',\n",
    "        'f': '0', 't': '1',\n",
    "        'WEST': '0', 'STMW': '1',\n",
    "        'SVHC': '2', 'SVI': '3',\n",
    "        'SVHD': '4', 'other': '5'\n",
    "    }\n",
    "    encoded = X.replace(encoded_values)\n",
    "    return pd.DataFrame(encoded, columns=X.columns)\n",
    "\n",
    "def encode_target(y):\n",
    "    target = 'diagnoses'\n",
    "    value_mapping = {\n",
    "        '-': 0,                          # healthy\n",
    "        'A': 1, 'B': 1, 'C': 1, 'D': 1,  # hyperthyroid conditions\n",
    "        'E': 2, 'F': 2, 'G': 2, 'H': 2,  # hypothyroid conditions\n",
    "        'I': 3, 'J': 3,                  # binding protein\n",
    "        'K': 4,                          # general health\n",
    "        'L': 5, 'M': 5, 'N': 5,          # replacement therapy\n",
    "        'R': 6,                          # discordant results\n",
    "    }\n",
    "    df_target = pd.DataFrame(y, columns=[target])\n",
    "    df_target[target] = df_target[target].map(value_mapping).fillna(7).astype(int)\n",
    "    return df_target\n",
    "\n",
    "X = df_cleaned.drop('diagnoses', axis='columns')\n",
    "y = df_cleaned['diagnoses']\n",
    "df_encoded = pd.concat([encode_data(X), encode_target(y)], axis=1)\n",
    "df_encoded.head()"
   ],
   "id": "5c5d778d1a1a0927",
   "outputs": [
    {
     "data": {
      "text/plain": [
       "   age: sex: on thyroxine: query on thyroxine: on antithyroid medication:  \\\n",
       "0    29    1             0                   0                          0   \n",
       "1    29    1             0                   0                          0   \n",
       "2    36    1             0                   0                          0   \n",
       "3    60    1             0                   0                          0   \n",
       "4    77    1             0                   0                          0   \n",
       "\n",
       "  sick: pregnant: thyroid surgery: I131 treatment: query hypothyroid:  ...  \\\n",
       "0     0         0                0               0                  1  ...   \n",
       "1     0         0                0               0                  0  ...   \n",
       "2     0         0                0               0                  0  ...   \n",
       "3     0         0                0               0                  0  ...   \n",
       "4     0         0                0               0                  0  ...   \n",
       "\n",
       "  TT4 measured: TT4: T4U measured: T4U: FTI measured: FTI: TBG measured: TBG:  \\\n",
       "0             0  NaN             0  NaN             0  NaN             0  NaN   \n",
       "1             1  128             0  NaN             0  NaN             0  NaN   \n",
       "2             0  NaN             0  NaN             0  NaN             1   26   \n",
       "3             0  NaN             0  NaN             0  NaN             1   26   \n",
       "4             0  NaN             0  NaN             0  NaN             1   21   \n",
       "\n",
       "  referral source: diagnoses  \n",
       "0                5         0  \n",
       "1                5         0  \n",
       "2                5         0  \n",
       "3                5         0  \n",
       "4                5         0  \n",
       "\n",
       "[5 rows x 30 columns]"
      ],
      "text/html": [
       "<div>\n",
       "<style scoped>\n",
       "    .dataframe tbody tr th:only-of-type {\n",
       "        vertical-align: middle;\n",
       "    }\n",
       "\n",
       "    .dataframe tbody tr th {\n",
       "        vertical-align: top;\n",
       "    }\n",
       "\n",
       "    .dataframe thead th {\n",
       "        text-align: right;\n",
       "    }\n",
       "</style>\n",
       "<table border=\"1\" class=\"dataframe\">\n",
       "  <thead>\n",
       "    <tr style=\"text-align: right;\">\n",
       "      <th></th>\n",
       "      <th>age:</th>\n",
       "      <th>sex:</th>\n",
       "      <th>on thyroxine:</th>\n",
       "      <th>query on thyroxine:</th>\n",
       "      <th>on antithyroid medication:</th>\n",
       "      <th>sick:</th>\n",
       "      <th>pregnant:</th>\n",
       "      <th>thyroid surgery:</th>\n",
       "      <th>I131 treatment:</th>\n",
       "      <th>query hypothyroid:</th>\n",
       "      <th>...</th>\n",
       "      <th>TT4 measured:</th>\n",
       "      <th>TT4:</th>\n",
       "      <th>T4U measured:</th>\n",
       "      <th>T4U:</th>\n",
       "      <th>FTI measured:</th>\n",
       "      <th>FTI:</th>\n",
       "      <th>TBG measured:</th>\n",
       "      <th>TBG:</th>\n",
       "      <th>referral source:</th>\n",
       "      <th>diagnoses</th>\n",
       "    </tr>\n",
       "  </thead>\n",
       "  <tbody>\n",
       "    <tr>\n",
       "      <th>0</th>\n",
       "      <td>29</td>\n",
       "      <td>1</td>\n",
       "      <td>0</td>\n",
       "      <td>0</td>\n",
       "      <td>0</td>\n",
       "      <td>0</td>\n",
       "      <td>0</td>\n",
       "      <td>0</td>\n",
       "      <td>0</td>\n",
       "      <td>1</td>\n",
       "      <td>...</td>\n",
       "      <td>0</td>\n",
       "      <td>NaN</td>\n",
       "      <td>0</td>\n",
       "      <td>NaN</td>\n",
       "      <td>0</td>\n",
       "      <td>NaN</td>\n",
       "      <td>0</td>\n",
       "      <td>NaN</td>\n",
       "      <td>5</td>\n",
       "      <td>0</td>\n",
       "    </tr>\n",
       "    <tr>\n",
       "      <th>1</th>\n",
       "      <td>29</td>\n",
       "      <td>1</td>\n",
       "      <td>0</td>\n",
       "      <td>0</td>\n",
       "      <td>0</td>\n",
       "      <td>0</td>\n",
       "      <td>0</td>\n",
       "      <td>0</td>\n",
       "      <td>0</td>\n",
       "      <td>0</td>\n",
       "      <td>...</td>\n",
       "      <td>1</td>\n",
       "      <td>128</td>\n",
       "      <td>0</td>\n",
       "      <td>NaN</td>\n",
       "      <td>0</td>\n",
       "      <td>NaN</td>\n",
       "      <td>0</td>\n",
       "      <td>NaN</td>\n",
       "      <td>5</td>\n",
       "      <td>0</td>\n",
       "    </tr>\n",
       "    <tr>\n",
       "      <th>2</th>\n",
       "      <td>36</td>\n",
       "      <td>1</td>\n",
       "      <td>0</td>\n",
       "      <td>0</td>\n",
       "      <td>0</td>\n",
       "      <td>0</td>\n",
       "      <td>0</td>\n",
       "      <td>0</td>\n",
       "      <td>0</td>\n",
       "      <td>0</td>\n",
       "      <td>...</td>\n",
       "      <td>0</td>\n",
       "      <td>NaN</td>\n",
       "      <td>0</td>\n",
       "      <td>NaN</td>\n",
       "      <td>0</td>\n",
       "      <td>NaN</td>\n",
       "      <td>1</td>\n",
       "      <td>26</td>\n",
       "      <td>5</td>\n",
       "      <td>0</td>\n",
       "    </tr>\n",
       "    <tr>\n",
       "      <th>3</th>\n",
       "      <td>60</td>\n",
       "      <td>1</td>\n",
       "      <td>0</td>\n",
       "      <td>0</td>\n",
       "      <td>0</td>\n",
       "      <td>0</td>\n",
       "      <td>0</td>\n",
       "      <td>0</td>\n",
       "      <td>0</td>\n",
       "      <td>0</td>\n",
       "      <td>...</td>\n",
       "      <td>0</td>\n",
       "      <td>NaN</td>\n",
       "      <td>0</td>\n",
       "      <td>NaN</td>\n",
       "      <td>0</td>\n",
       "      <td>NaN</td>\n",
       "      <td>1</td>\n",
       "      <td>26</td>\n",
       "      <td>5</td>\n",
       "      <td>0</td>\n",
       "    </tr>\n",
       "    <tr>\n",
       "      <th>4</th>\n",
       "      <td>77</td>\n",
       "      <td>1</td>\n",
       "      <td>0</td>\n",
       "      <td>0</td>\n",
       "      <td>0</td>\n",
       "      <td>0</td>\n",
       "      <td>0</td>\n",
       "      <td>0</td>\n",
       "      <td>0</td>\n",
       "      <td>0</td>\n",
       "      <td>...</td>\n",
       "      <td>0</td>\n",
       "      <td>NaN</td>\n",
       "      <td>0</td>\n",
       "      <td>NaN</td>\n",
       "      <td>0</td>\n",
       "      <td>NaN</td>\n",
       "      <td>1</td>\n",
       "      <td>21</td>\n",
       "      <td>5</td>\n",
       "      <td>0</td>\n",
       "    </tr>\n",
       "  </tbody>\n",
       "</table>\n",
       "<p>5 rows × 30 columns</p>\n",
       "</div>"
      ]
     },
     "execution_count": 38,
     "metadata": {},
     "output_type": "execute_result"
    }
   ],
   "execution_count": 38
  },
  {
   "metadata": {},
   "cell_type": "markdown",
   "source": [
    "### 1.4 Splitting into training and testing set\n",
    "With our data encoded, we are ready to split it into a training and testing sets.\n",
    "The training set will be used to train our classification model and the testing set will be used to test it."
   ],
   "id": "17c92ab69ddb4cab"
  },
  {
   "metadata": {
    "ExecuteTime": {
     "end_time": "2024-05-20T17:08:17.263994Z",
     "start_time": "2024-05-20T17:08:17.256517Z"
    }
   },
   "cell_type": "code",
   "source": [
    "from sklearn.model_selection import train_test_split\n",
    "\n",
    "X = df_encoded.drop('diagnoses', axis='columns')\n",
    "y = df_encoded['diagnoses']\n",
    "\n",
    "X_TRAIN, X_TEST, y_TRAIN, y_TEST = train_test_split(X, y, test_size=0.2)\n",
    "\n",
    "# Print the shapes of the training and testing sets\n",
    "print('Training set shape:', X_TRAIN.shape, y_TRAIN.shape)\n",
    "print('Testing set shape:', X_TEST.shape, y_TEST.shape)"
   ],
   "id": "84054ef19a46bc36",
   "outputs": [
    {
     "name": "stdout",
     "output_type": "stream",
     "text": [
      "Training set shape: (5870, 29) (5870,)\n",
      "Testing set shape: (1468, 29) (1468,)\n"
     ]
    }
   ],
   "execution_count": 39
  },
  {
   "metadata": {},
   "cell_type": "markdown",
   "source": [
    "### 1.5 Scaling Data\n",
    "Because there are classification models that are based it the distance between the data, like KNN, \n",
    "it is important to normalize our training and testing sets."
   ],
   "id": "5a8b40e0871be938"
  },
  {
   "metadata": {
    "ExecuteTime": {
     "end_time": "2024-05-20T17:08:17.317567Z",
     "start_time": "2024-05-20T17:08:17.265Z"
    }
   },
   "cell_type": "code",
   "source": [
    "from sklearn.preprocessing import StandardScaler\n",
    "\n",
    "def scale_data(X_train, X_test):\n",
    "    scaler = StandardScaler()\n",
    "    scaler.fit(X_train)\n",
    "    return scaler.transform(X_train), scaler.transform(X_test)\n",
    "\n",
    "X_train_scl, X_test_scl = scale_data(X_TRAIN, X_TEST)"
   ],
   "id": "588e36dc53b771f7",
   "outputs": [],
   "execution_count": 40
  },
  {
   "metadata": {},
   "cell_type": "markdown",
   "source": [
    "### 1.6 Imputing missing values\n",
    "Again, because there are classification models that can not handle missing values, like KNN, \n",
    "we need to make the imputation of our NaN values."
   ],
   "id": "c3b56e64c29f54aa"
  },
  {
   "metadata": {
    "ExecuteTime": {
     "end_time": "2024-05-20T17:08:17.325556Z",
     "start_time": "2024-05-20T17:08:17.318571Z"
    }
   },
   "cell_type": "code",
   "source": [
    "from sklearn.impute import SimpleImputer\n",
    "\n",
    "def impute_data(X_train, X_test):\n",
    "    imputer = SimpleImputer(strategy='mean')\n",
    "    imputer.fit(X_train)\n",
    "    return imputer.transform(X_train), imputer.transform(X_test)\n",
    "\n",
    "X_train_imp, X_test_imp = impute_data(X_train_scl, X_test_scl)"
   ],
   "id": "e8524c87fdb9b95e",
   "outputs": [],
   "execution_count": 41
  },
  {
   "metadata": {
    "ExecuteTime": {
     "end_time": "2024-05-20T17:08:17.332936Z",
     "start_time": "2024-05-20T17:08:17.326561Z"
    }
   },
   "cell_type": "code",
   "source": [
    "X_TRAIN = pd.DataFrame(X_train_imp, columns=X_TRAIN.columns)\n",
    "X_TEST = pd.DataFrame(X_test_imp, columns=X_TEST.columns)\n",
    "X_TRAIN.info()"
   ],
   "id": "1e827d2de45053c7",
   "outputs": [
    {
     "name": "stdout",
     "output_type": "stream",
     "text": [
      "<class 'pandas.core.frame.DataFrame'>\n",
      "RangeIndex: 5870 entries, 0 to 5869\n",
      "Data columns (total 29 columns):\n",
      " #   Column                      Non-Null Count  Dtype  \n",
      "---  ------                      --------------  -----  \n",
      " 0   age:                        5870 non-null   float64\n",
      " 1   sex:                        5870 non-null   float64\n",
      " 2   on thyroxine:               5870 non-null   float64\n",
      " 3   query on thyroxine:         5870 non-null   float64\n",
      " 4   on antithyroid medication:  5870 non-null   float64\n",
      " 5   sick:                       5870 non-null   float64\n",
      " 6   pregnant:                   5870 non-null   float64\n",
      " 7   thyroid surgery:            5870 non-null   float64\n",
      " 8   I131 treatment:             5870 non-null   float64\n",
      " 9   query hypothyroid:          5870 non-null   float64\n",
      " 10  query hyperthyroid:         5870 non-null   float64\n",
      " 11  lithium:                    5870 non-null   float64\n",
      " 12  goitre:                     5870 non-null   float64\n",
      " 13  tumor:                      5870 non-null   float64\n",
      " 14  hypopituitary:              5870 non-null   float64\n",
      " 15  psych:                      5870 non-null   float64\n",
      " 16  TSH measured:               5870 non-null   float64\n",
      " 17  TSH:                        5870 non-null   float64\n",
      " 18  T3 measured:                5870 non-null   float64\n",
      " 19  T3:                         5870 non-null   float64\n",
      " 20  TT4 measured:               5870 non-null   float64\n",
      " 21  TT4:                        5870 non-null   float64\n",
      " 22  T4U measured:               5870 non-null   float64\n",
      " 23  T4U:                        5870 non-null   float64\n",
      " 24  FTI measured:               5870 non-null   float64\n",
      " 25  FTI:                        5870 non-null   float64\n",
      " 26  TBG measured:               5870 non-null   float64\n",
      " 27  TBG:                        5870 non-null   float64\n",
      " 28  referral source:            5870 non-null   float64\n",
      "dtypes: float64(29)\n",
      "memory usage: 1.3 MB\n"
     ]
    }
   ],
   "execution_count": 42
  },
  {
   "metadata": {},
   "cell_type": "markdown",
   "source": "### 2. Classification Models",
   "id": "e70738c62e106345"
  },
  {
   "metadata": {},
   "cell_type": "markdown",
   "source": "#### 2.1 Feature Selection",
   "id": "b61e2db8481d56a2"
  },
  {
   "metadata": {
    "ExecuteTime": {
     "end_time": "2024-05-20T17:08:23.289507Z",
     "start_time": "2024-05-20T17:08:17.332936Z"
    }
   },
   "cell_type": "code",
   "source": [
    "# TODO feature selection needs tuning\n",
    "from sklearn.feature_selection import SequentialFeatureSelector as SFS\n",
    "from sklearn.linear_model import LinearRegression\n",
    "\n",
    "def feature_selection(X_train, y_train, X_test, verbose=False): \n",
    "    selector = SFS(LinearRegression(), \n",
    "                   n_features_to_select=13, \n",
    "                   direction='forward',\n",
    "                   n_jobs=-1)\n",
    "    selector.fit(X_train, y_train)\n",
    "    if verbose:\n",
    "        N, M = X_train.shape\n",
    "        features=selector.get_support()\n",
    "        features_selected = np.arange(M)[features]\n",
    "        print(\"The features selected are columns: \", features_selected)\n",
    "    return selector.transform(X_train), selector.transform(X_test)\n",
    "\n",
    "X_TRAIN, X_TEST = feature_selection(X_TRAIN, y_TRAIN, X_TEST, True)"
   ],
   "id": "34d5b40cf1d9af3b",
   "outputs": [
    {
     "name": "stdout",
     "output_type": "stream",
     "text": [
      "The features selected are columns:  [ 2  4  6 15 16 17 18 19 21 25 26 27 28]\n"
     ]
    }
   ],
   "execution_count": 43
  },
  {
   "metadata": {},
   "cell_type": "markdown",
   "source": "#### 2.2 KFold Cross Validation",
   "id": "4d1cd5a9bbb0f86b"
  },
  {
   "metadata": {
    "ExecuteTime": {
     "end_time": "2024-05-20T17:08:23.294606Z",
     "start_time": "2024-05-20T17:08:23.290547Z"
    }
   },
   "cell_type": "code",
   "source": [
    "from sklearn.model_selection import KFold\n",
    "from sklearn.metrics import accuracy_score, precision_score, recall_score, f1_score, matthews_corrcoef\n",
    "\n",
    "def cross_validation(model, X, y):\n",
    "    TRUTH = None\n",
    "    PREDS = None\n",
    "    kf = KFold(n_splits=5, shuffle=True)\n",
    "    for train_index, test_index in kf.split(X):\n",
    "        X_train, y_train = X[train_index], y.to_numpy()[train_index]\n",
    "        X_test, y_test = X[test_index], y.to_numpy()[test_index]\n",
    "        \n",
    "        model.fit(X_train, y_train)\n",
    "        preds = model.predict(X_test)\n",
    "        if TRUTH is None:\n",
    "            PREDS = preds\n",
    "            TRUTH = y_test\n",
    "        else:\n",
    "            PREDS = np.hstack((PREDS, preds))\n",
    "            TRUTH = np.hstack((TRUTH, y_test))\n",
    "    return TRUTH, PREDS"
   ],
   "id": "dc8b24eb7dc939cb",
   "outputs": [],
   "execution_count": 44
  },
  {
   "metadata": {
    "ExecuteTime": {
     "end_time": "2024-05-20T17:08:23.301889Z",
     "start_time": "2024-05-20T17:08:23.294606Z"
    }
   },
   "cell_type": "code",
   "source": [
    "def evaluate(model, X, y, n_iter=10):\n",
    "    accuracy = []\n",
    "    precision = []\n",
    "    recall = []\n",
    "    f1 = []\n",
    "    mcc = []\n",
    "    \n",
    "    for _ in range(n_iter):\n",
    "        truth, preds = cross_validation(model, X, y)\n",
    "        accuracy.append(accuracy_score(truth, preds))\n",
    "        precision.append(precision_score(truth, preds, average='weighted', zero_division=1))\n",
    "        recall.append(recall_score(truth, preds, average='weighted'))\n",
    "        f1.append(f1_score(truth, preds, average='weighted'))\n",
    "        mcc.append(matthews_corrcoef(truth, preds))\n",
    "        \n",
    "    return {\n",
    "        'Model': model,\n",
    "        'Accuracy': np.mean(accuracy),\n",
    "        'Precision': np.mean(precision),\n",
    "        'Recall': np.mean(recall),\n",
    "        'F1-Score': np.mean(f1),\n",
    "        'MCC': np.mean(mcc)\n",
    "    }"
   ],
   "id": "fe276d9166c129c2",
   "outputs": [],
   "execution_count": 45
  },
  {
   "metadata": {},
   "cell_type": "markdown",
   "source": "#### 2.3 Model Evaluation",
   "id": "5218522c6999b051"
  },
  {
   "metadata": {
    "ExecuteTime": {
     "end_time": "2024-05-20T17:08:51.416827Z",
     "start_time": "2024-05-20T17:08:23.302894Z"
    }
   },
   "cell_type": "code",
   "source": [
    "from sklearn.tree import DecisionTreeClassifier\n",
    "from sklearn.linear_model import LogisticRegression\n",
    "from sklearn.naive_bayes import GaussianNB\n",
    "from sklearn.neighbors import KNeighborsClassifier\n",
    "from sklearn.svm import SVC\n",
    "\n",
    "eval_metrics = ['Model', 'Accuracy', 'Precision', 'Recall', 'F1-Score', 'MCC']\n",
    "\n",
    "tree = evaluate(DecisionTreeClassifier(), X_TRAIN, y_TRAIN)\n",
    "lgr = evaluate(LogisticRegression(), X_TRAIN, y_TRAIN)\n",
    "naive_bayes = evaluate(GaussianNB(), X_TRAIN, y_TRAIN)\n",
    "knn = evaluate(KNeighborsClassifier(), X_TRAIN, y_TRAIN)\n",
    "svm = evaluate(SVC(), X_TRAIN, y_TRAIN)\n",
    "\n",
    "pd.DataFrame([tree, lgr, naive_bayes, knn, svm], columns=eval_metrics)"
   ],
   "id": "13d2e9541e1d907b",
   "outputs": [
    {
     "data": {
      "text/plain": [
       "                      Model  Accuracy  Precision    Recall  F1-Score       MCC\n",
       "0  DecisionTreeClassifier()  0.927291   0.927105  0.927291  0.927110  0.833424\n",
       "1      LogisticRegression()  0.854787   0.841162  0.854787  0.837894  0.631219\n",
       "2              GaussianNB()  0.111124   0.756112  0.111124  0.085231  0.173496\n",
       "3    KNeighborsClassifier()  0.871635   0.864517  0.871635  0.860306  0.680187\n",
       "4                     SVC()  0.853526   0.846762  0.853526  0.831302  0.623934"
      ],
      "text/html": [
       "<div>\n",
       "<style scoped>\n",
       "    .dataframe tbody tr th:only-of-type {\n",
       "        vertical-align: middle;\n",
       "    }\n",
       "\n",
       "    .dataframe tbody tr th {\n",
       "        vertical-align: top;\n",
       "    }\n",
       "\n",
       "    .dataframe thead th {\n",
       "        text-align: right;\n",
       "    }\n",
       "</style>\n",
       "<table border=\"1\" class=\"dataframe\">\n",
       "  <thead>\n",
       "    <tr style=\"text-align: right;\">\n",
       "      <th></th>\n",
       "      <th>Model</th>\n",
       "      <th>Accuracy</th>\n",
       "      <th>Precision</th>\n",
       "      <th>Recall</th>\n",
       "      <th>F1-Score</th>\n",
       "      <th>MCC</th>\n",
       "    </tr>\n",
       "  </thead>\n",
       "  <tbody>\n",
       "    <tr>\n",
       "      <th>0</th>\n",
       "      <td>DecisionTreeClassifier()</td>\n",
       "      <td>0.927291</td>\n",
       "      <td>0.927105</td>\n",
       "      <td>0.927291</td>\n",
       "      <td>0.927110</td>\n",
       "      <td>0.833424</td>\n",
       "    </tr>\n",
       "    <tr>\n",
       "      <th>1</th>\n",
       "      <td>LogisticRegression()</td>\n",
       "      <td>0.854787</td>\n",
       "      <td>0.841162</td>\n",
       "      <td>0.854787</td>\n",
       "      <td>0.837894</td>\n",
       "      <td>0.631219</td>\n",
       "    </tr>\n",
       "    <tr>\n",
       "      <th>2</th>\n",
       "      <td>GaussianNB()</td>\n",
       "      <td>0.111124</td>\n",
       "      <td>0.756112</td>\n",
       "      <td>0.111124</td>\n",
       "      <td>0.085231</td>\n",
       "      <td>0.173496</td>\n",
       "    </tr>\n",
       "    <tr>\n",
       "      <th>3</th>\n",
       "      <td>KNeighborsClassifier()</td>\n",
       "      <td>0.871635</td>\n",
       "      <td>0.864517</td>\n",
       "      <td>0.871635</td>\n",
       "      <td>0.860306</td>\n",
       "      <td>0.680187</td>\n",
       "    </tr>\n",
       "    <tr>\n",
       "      <th>4</th>\n",
       "      <td>SVC()</td>\n",
       "      <td>0.853526</td>\n",
       "      <td>0.846762</td>\n",
       "      <td>0.853526</td>\n",
       "      <td>0.831302</td>\n",
       "      <td>0.623934</td>\n",
       "    </tr>\n",
       "  </tbody>\n",
       "</table>\n",
       "</div>"
      ]
     },
     "execution_count": 46,
     "metadata": {},
     "output_type": "execute_result"
    }
   ],
   "execution_count": 46
  },
  {
   "metadata": {},
   "cell_type": "markdown",
   "source": "#### 2.4 Hyperparameter Tuning",
   "id": "2eb5fadc77b4e4d0"
  },
  {
   "metadata": {
    "ExecuteTime": {
     "end_time": "2024-05-20T17:08:51.421876Z",
     "start_time": "2024-05-20T17:08:51.417873Z"
    }
   },
   "cell_type": "code",
   "source": [
    "model_params = {\n",
    "    'Decision Tree': {\n",
    "        'model': DecisionTreeClassifier(),\n",
    "        'params': {\n",
    "            'max_depth': [2, 3, 5, 10, 20],\n",
    "            'min_samples_split': [2, 3, 5, 10, 15],\n",
    "            'min_samples_leaf': [2, 3, 5, 10, 15],\n",
    "            'criterion': ['gini', 'entropy', 'log_loss']\n",
    "        }\n",
    "    },\n",
    "    'KNN': {\n",
    "        'model': KNeighborsClassifier(),\n",
    "        'params': {\n",
    "            'n_neighbors' : [3, 5, 7, 9, 11],\n",
    "            'weights' : ['uniform', 'distance'],\n",
    "            'metric' : ['minkowski', 'euclidean', 'manhattan']\n",
    "        }\n",
    "    },\n",
    "    'SVC': {\n",
    "        'model': SVC(),\n",
    "        'params': {\n",
    "            'C': [0.1, 1, 10, 100],  \n",
    "            'gamma': [1, 0.1, 0.01, 0.001], \n",
    "            'kernel': ['rbf', 'linear'] \n",
    "        }\n",
    "    }\n",
    "}"
   ],
   "id": "3ff3238a4ef5c21c",
   "outputs": [],
   "execution_count": 47
  },
  {
   "metadata": {
    "ExecuteTime": {
     "end_time": "2024-05-20T17:10:01.756121Z",
     "start_time": "2024-05-20T17:08:51.422924Z"
    }
   },
   "cell_type": "code",
   "source": [
    "from sklearn.model_selection import GridSearchCV\n",
    "\n",
    "scores = []\n",
    "for name, model in model_params.items():\n",
    "    grid_search = GridSearchCV(model['model'], model['params'], cv=5, n_jobs=-1)\n",
    "    grid_search.fit(X_TRAIN, y_TRAIN)\n",
    "    scores.append({\n",
    "        'Best Estimator': grid_search.best_estimator_,\n",
    "        'Best Score': grid_search.best_score_,\n",
    "        'Best Params': grid_search.best_params_\n",
    "    })\n",
    "    \n",
    "df_tuning = pd.DataFrame(scores, columns=['Best Estimator', 'Best Score', 'Best Params'])\n",
    "df_tuning"
   ],
   "id": "1c996b4bb720017c",
   "outputs": [
    {
     "data": {
      "text/plain": [
       "                                      Best Estimator  Best Score  \\\n",
       "0  DecisionTreeClassifier(criterion='entropy', ma...    0.935945   \n",
       "1  KNeighborsClassifier(metric='manhattan', n_nei...    0.884327   \n",
       "2                              SVC(C=100, gamma=0.1)    0.903918   \n",
       "\n",
       "                                         Best Params  \n",
       "0  {'criterion': 'entropy', 'max_depth': 20, 'min...  \n",
       "1  {'metric': 'manhattan', 'n_neighbors': 3, 'wei...  \n",
       "2          {'C': 100, 'gamma': 0.1, 'kernel': 'rbf'}  "
      ],
      "text/html": [
       "<div>\n",
       "<style scoped>\n",
       "    .dataframe tbody tr th:only-of-type {\n",
       "        vertical-align: middle;\n",
       "    }\n",
       "\n",
       "    .dataframe tbody tr th {\n",
       "        vertical-align: top;\n",
       "    }\n",
       "\n",
       "    .dataframe thead th {\n",
       "        text-align: right;\n",
       "    }\n",
       "</style>\n",
       "<table border=\"1\" class=\"dataframe\">\n",
       "  <thead>\n",
       "    <tr style=\"text-align: right;\">\n",
       "      <th></th>\n",
       "      <th>Best Estimator</th>\n",
       "      <th>Best Score</th>\n",
       "      <th>Best Params</th>\n",
       "    </tr>\n",
       "  </thead>\n",
       "  <tbody>\n",
       "    <tr>\n",
       "      <th>0</th>\n",
       "      <td>DecisionTreeClassifier(criterion='entropy', ma...</td>\n",
       "      <td>0.935945</td>\n",
       "      <td>{'criterion': 'entropy', 'max_depth': 20, 'min...</td>\n",
       "    </tr>\n",
       "    <tr>\n",
       "      <th>1</th>\n",
       "      <td>KNeighborsClassifier(metric='manhattan', n_nei...</td>\n",
       "      <td>0.884327</td>\n",
       "      <td>{'metric': 'manhattan', 'n_neighbors': 3, 'wei...</td>\n",
       "    </tr>\n",
       "    <tr>\n",
       "      <th>2</th>\n",
       "      <td>SVC(C=100, gamma=0.1)</td>\n",
       "      <td>0.903918</td>\n",
       "      <td>{'C': 100, 'gamma': 0.1, 'kernel': 'rbf'}</td>\n",
       "    </tr>\n",
       "  </tbody>\n",
       "</table>\n",
       "</div>"
      ]
     },
     "execution_count": 48,
     "metadata": {},
     "output_type": "execute_result"
    }
   ],
   "execution_count": 48
  },
  {
   "metadata": {},
   "cell_type": "markdown",
   "source": "#### 2.5 Model Selection",
   "id": "2c580f6d30a643e3"
  },
  {
   "metadata": {
    "ExecuteTime": {
     "end_time": "2024-05-20T17:10:01.760281Z",
     "start_time": "2024-05-20T17:10:01.757128Z"
    }
   },
   "cell_type": "code",
   "source": [
    "best_classification_model = df_tuning.at[df_tuning['Best Score'].idxmax(), 'Best Estimator']\n",
    "print(\"-------------- Best Classification Model: -------------- \\n\")\n",
    "print(best_classification_model)"
   ],
   "id": "4ce22c6c0a46ae57",
   "outputs": [
    {
     "name": "stdout",
     "output_type": "stream",
     "text": [
      "-------------- Best Classification Model: -------------- \n",
      "\n",
      "DecisionTreeClassifier(criterion='entropy', max_depth=20, min_samples_leaf=2,\n",
      "                       min_samples_split=5)\n"
     ]
    }
   ],
   "execution_count": 49
  },
  {
   "metadata": {
    "ExecuteTime": {
     "end_time": "2024-05-20T17:10:02.500360Z",
     "start_time": "2024-05-20T17:10:01.761287Z"
    }
   },
   "cell_type": "code",
   "source": [
    "evaluation = pd.DataFrame(\n",
    "    [evaluate(best_classification_model, X_TRAIN, y_TRAIN)],\n",
    "    columns=eval_metrics\n",
    ")\n",
    "evaluation"
   ],
   "id": "94d83621839d879b",
   "outputs": [
    {
     "data": {
      "text/plain": [
       "                                               Model  Accuracy  Precision  \\\n",
       "0  DecisionTreeClassifier(criterion='entropy', ma...  0.929779    0.92764   \n",
       "\n",
       "     Recall  F1-Score       MCC  \n",
       "0  0.929779  0.928426  0.836995  "
      ],
      "text/html": [
       "<div>\n",
       "<style scoped>\n",
       "    .dataframe tbody tr th:only-of-type {\n",
       "        vertical-align: middle;\n",
       "    }\n",
       "\n",
       "    .dataframe tbody tr th {\n",
       "        vertical-align: top;\n",
       "    }\n",
       "\n",
       "    .dataframe thead th {\n",
       "        text-align: right;\n",
       "    }\n",
       "</style>\n",
       "<table border=\"1\" class=\"dataframe\">\n",
       "  <thead>\n",
       "    <tr style=\"text-align: right;\">\n",
       "      <th></th>\n",
       "      <th>Model</th>\n",
       "      <th>Accuracy</th>\n",
       "      <th>Precision</th>\n",
       "      <th>Recall</th>\n",
       "      <th>F1-Score</th>\n",
       "      <th>MCC</th>\n",
       "    </tr>\n",
       "  </thead>\n",
       "  <tbody>\n",
       "    <tr>\n",
       "      <th>0</th>\n",
       "      <td>DecisionTreeClassifier(criterion='entropy', ma...</td>\n",
       "      <td>0.929779</td>\n",
       "      <td>0.92764</td>\n",
       "      <td>0.929779</td>\n",
       "      <td>0.928426</td>\n",
       "      <td>0.836995</td>\n",
       "    </tr>\n",
       "  </tbody>\n",
       "</table>\n",
       "</div>"
      ]
     },
     "execution_count": 50,
     "metadata": {},
     "output_type": "execute_result"
    }
   ],
   "execution_count": 50
  },
  {
   "metadata": {
    "ExecuteTime": {
     "end_time": "2024-05-20T17:10:02.529399Z",
     "start_time": "2024-05-20T17:10:02.501364Z"
    }
   },
   "cell_type": "code",
   "source": [
    "best_classification_model.fit(X_TRAIN, y_TRAIN)\n",
    "preds = best_classification_model.predict(X_TEST)\n",
    "test_report = {\n",
    "    'Model': best_classification_model,\n",
    "    'Accuracy': accuracy_score(y_TEST, preds),\n",
    "    'Precision': precision_score(y_TEST, preds, average='weighted', zero_division=1),\n",
    "    'Recall': recall_score(y_TEST, preds, average='weighted'),\n",
    "    'F1-Score': f1_score(y_TEST, preds, average='weighted'),\n",
    "    'MCC': matthews_corrcoef(y_TEST, preds)\n",
    "}\n",
    "\n",
    "best_model_test = pd.DataFrame([test_report], columns=eval_metrics)\n",
    "best_model_test"
   ],
   "id": "c987f6eec25db32e",
   "outputs": [
    {
     "data": {
      "text/plain": [
       "                                               Model  Accuracy  Precision  \\\n",
       "0  DecisionTreeClassifier(criterion='entropy', ma...  0.927112   0.925394   \n",
       "\n",
       "     Recall  F1-Score      MCC  \n",
       "0  0.927112  0.925911  0.83888  "
      ],
      "text/html": [
       "<div>\n",
       "<style scoped>\n",
       "    .dataframe tbody tr th:only-of-type {\n",
       "        vertical-align: middle;\n",
       "    }\n",
       "\n",
       "    .dataframe tbody tr th {\n",
       "        vertical-align: top;\n",
       "    }\n",
       "\n",
       "    .dataframe thead th {\n",
       "        text-align: right;\n",
       "    }\n",
       "</style>\n",
       "<table border=\"1\" class=\"dataframe\">\n",
       "  <thead>\n",
       "    <tr style=\"text-align: right;\">\n",
       "      <th></th>\n",
       "      <th>Model</th>\n",
       "      <th>Accuracy</th>\n",
       "      <th>Precision</th>\n",
       "      <th>Recall</th>\n",
       "      <th>F1-Score</th>\n",
       "      <th>MCC</th>\n",
       "    </tr>\n",
       "  </thead>\n",
       "  <tbody>\n",
       "    <tr>\n",
       "      <th>0</th>\n",
       "      <td>DecisionTreeClassifier(criterion='entropy', ma...</td>\n",
       "      <td>0.927112</td>\n",
       "      <td>0.925394</td>\n",
       "      <td>0.927112</td>\n",
       "      <td>0.925911</td>\n",
       "      <td>0.83888</td>\n",
       "    </tr>\n",
       "  </tbody>\n",
       "</table>\n",
       "</div>"
      ]
     },
     "execution_count": 51,
     "metadata": {},
     "output_type": "execute_result"
    }
   ],
   "execution_count": 51
  },
  {
   "metadata": {},
   "cell_type": "markdown",
   "source": "### 3. Regression Models",
   "id": "669442d819cd0bce"
  },
  {
   "metadata": {},
   "cell_type": "markdown",
   "source": "### 4. IVS Model Testing",
   "id": "b2e79d8a45d2cea0"
  },
  {
   "metadata": {
    "ExecuteTime": {
     "end_time": "2024-05-20T17:10:02.534697Z",
     "start_time": "2024-05-20T17:10:02.530403Z"
    }
   },
   "cell_type": "code",
   "source": [
    "# import pandas as pd\n",
    "# import numpy as np\n",
    "# from sklearn.model_selection import train_test_split\n",
    "# from sklearn.preprocessing import StandardScaler\n",
    "# from sklearn.impute import SimpleImputer\n",
    "# from sklearn.feature_selection import SequentialFeatureSelector as SFS\n",
    "# from sklearn.linear_model import LinearRegression\n",
    "# from sklearn.model_selection import KFold\n",
    "# from sklearn.metrics import accuracy_score, precision_score, recall_score, f1_score, matthews_corrcoef\n",
    "# from sklearn.tree import DecisionTreeClassifier\n",
    "# \n",
    "# eval_metrics = ['Model', 'Accuracy', 'Precision', 'Recall', 'F1-Score', 'MCC']\n",
    "# \n",
    "# def encode_data(X):\n",
    "#     encoded_values = {\n",
    "#         'M': '0', 'F': '1',\n",
    "#         'f': '0', 't': '1',\n",
    "#         'WEST': '0', 'STMW': '1',\n",
    "#         'SVHC': '2', 'SVI': '3',\n",
    "#         'SVHD': '4', 'other': '5'\n",
    "#     }\n",
    "#     encoded = X.replace(encoded_values)\n",
    "#     return pd.DataFrame(encoded, columns=X.columns)\n",
    "# \n",
    "# def encode_target(y):\n",
    "#     target = 'diagnoses'\n",
    "#     value_mapping = {\n",
    "#         '-': 0,                          # healthy\n",
    "#         'A': 1, 'B': 1, 'C': 1, 'D': 1,  # hyperthyroid conditions\n",
    "#         'E': 2, 'F': 2, 'G': 2, 'H': 2,  # hypothyroid conditions\n",
    "#         'I': 3, 'J': 3,                  # binding protein\n",
    "#         'K': 4,                          # general health\n",
    "#         'L': 5, 'M': 5, 'N': 5,          # replacement therapy\n",
    "#         'R': 6,                          # discordant results\n",
    "#     }\n",
    "#     df_target = pd.DataFrame(y, columns=[target])\n",
    "#     df_target[target] = df_target[target].map(value_mapping).fillna(7).astype(int)\n",
    "#     return df_target\n",
    "# \n",
    "# def scale_data(X_train, X_test):\n",
    "#     scaler = StandardScaler()\n",
    "#     scaler.fit(X_train)\n",
    "#     return scaler.transform(X_train), scaler.transform(X_test)\n",
    "# \n",
    "# def impute_data(X_train, X_test):\n",
    "#     imputer = SimpleImputer(strategy='mean')\n",
    "#     imputer.fit(X_train)\n",
    "#     return imputer.transform(X_train), imputer.transform(X_test)\n",
    "# \n",
    "# def feature_selection(X_train, y_train, X_test, verbose=False): \n",
    "#     selector = SFS(LinearRegression(), \n",
    "#                    n_features_to_select=13, \n",
    "#                    direction='forward',\n",
    "#                    n_jobs=-1)\n",
    "#     selector.fit(X_train, y_train)\n",
    "#     if verbose:\n",
    "#         N, M = X_train.shape\n",
    "#         features=selector.get_support()\n",
    "#         features_selected = np.arange(M)[features]\n",
    "#         print(\"The features selected are columns: \", features_selected)\n",
    "#     return selector.transform(X_train), selector.transform(X_test)\n",
    "# \n",
    "# df_copy = pd.read_csv('proj-data.csv')\n",
    "# df_X_IVS = pd.read_csv('proj-test-data.csv') # Replace with the complete IVS set !\n",
    "# df_y_IVS = pd.read_csv('proj-test-class.csv') # Replace with the complete IVS set !\n",
    "# \n",
    "# df_copy.replace('?', np.nan, inplace=True)\n",
    "# df_X_IVS.replace('?', np.nan, inplace=True)\n",
    "# df_test = df_copy.drop('[record identification]', axis = 1)\n",
    "# X_IVS = df_X_IVS.drop('[record identification]', axis = 1)\n",
    "# \n",
    "# X = encode_data(df_test.drop('diagnoses', axis = 1))\n",
    "# y = encode_target(df_test['diagnoses'])\n",
    "# X_IVS = encode_data(X_IVS)\n",
    "# y_IVS = encode_target(df_y_IVS['diagnoses'])\n",
    "# X_train, _, y_train, _ = train_test_split(X, y, test_size=0.2)\n",
    "# \n",
    "# X_train_scl, X_ivs_scl = scale_data(X_train, X_IVS)\n",
    "# X_train_imp, X_ivs_imp = impute_data(X_train_scl, X_ivs_scl)\n",
    "# \n",
    "# X_train_processed = pd.DataFrame(X_train_imp, columns=X_train.columns)\n",
    "# X_ivs_processed = pd.DataFrame(X_ivs_imp, columns=X_IVS.columns)\n",
    "# X_train, X_IVS = feature_selection(X_train_processed, y_train, X_ivs_processed)\n",
    "# \n",
    "# ##### Define the best classification model here ######\n",
    "# classification_model = DecisionTreeClassifier(criterion='entropy', max_depth=20, min_samples_leaf=2,\n",
    "#                        min_samples_split=5)\n",
    "# classification_model.fit(X_train, y_train)\n",
    "# preds = classification_model.predict(X_IVS)\n",
    "# results = {\n",
    "#     'Model': classification_model,\n",
    "#     'Accuracy': accuracy_score(y_IVS, preds),\n",
    "#     'Precision': precision_score(y_IVS, preds, average='weighted', zero_division=1),\n",
    "#     'Recall': recall_score(y_IVS, preds, average='weighted'),\n",
    "#     'F1-Score': f1_score(y_IVS, preds, average='weighted'),\n",
    "#     'MCC': matthews_corrcoef(y_IVS, preds)\n",
    "# }\n",
    "# ##### Remove comment to show results ######\n",
    "# # ivs_testing = pd.DataFrame([results], columns=eval_metrics)\n",
    "# # ivs_testing"
   ],
   "id": "114ee452afa929c5",
   "outputs": [],
   "execution_count": 52
  }
 ],
 "metadata": {
  "kernelspec": {
   "display_name": "Python 3",
   "language": "python",
   "name": "python3"
  },
  "language_info": {
   "codemirror_mode": {
    "name": "ipython",
    "version": 2
   },
   "file_extension": ".py",
   "mimetype": "text/x-python",
   "name": "python",
   "nbconvert_exporter": "python",
   "pygments_lexer": "ipython2",
   "version": "2.7.6"
  }
 },
 "nbformat": 4,
 "nbformat_minor": 5
}
