{
 "cells": [
  {
   "metadata": {},
   "cell_type": "markdown",
   "source": [
    "# Engenharia do Conhecimento 2023/2024\n",
    "\n",
    "## Project: *Thyroid disease Data Set*\n",
    "\n",
    "#### Group 6:\n",
    "\n",
    "- Eduardo Proença 57551\n",
    "- Tiago Oliveira 54979\n",
    "- Bernardo Lopes 54386"
   ],
   "id": "37af115655e6ef16"
  },
  {
   "metadata": {},
   "cell_type": "markdown",
   "source": [
    "### Summary\n",
    "\n",
    "1. Data Processing\n",
    "\n",
    "    1. Creating a Data Frame\n",
    "    2. Data investigation\n",
    "    3. Encoding Data\n",
    "    4. Splitting into training and testing set\n",
    "    5. Imputing missing values\n",
    "    6. Scaling Data\n",
    "    \n",
    "2. Classification\n",
    "\n",
    "    1. Feature Selection\n",
    "    2. KFold Cross validation\n",
    "    3. Classification models\n",
    "       \n",
    "3. Model Selection\n",
    "\n",
    "    1. Hyperparameter tuning\n",
    "    2. Model Testing\n",
    "\n",
    "4. Conclusion"
   ],
   "id": "8735b013813cf85e"
  },
  {
   "metadata": {},
   "cell_type": "markdown",
   "source": [
    "## 1. Data Processing\n",
    "\n",
    "When constructing a machine learning model, data processing is an important step. We need to ensure that our data set is properly processed so that it can be used in the best possible way by diferent classification models."
   ],
   "id": "7a3fe0f7bf074860"
  },
  {
   "metadata": {},
   "cell_type": "markdown",
   "source": [
    "### 1.1 Creating a Data Frame\n",
    "\n",
    "The first step is load our data set. For that, we can use the [Pandas](https://pandas.pydata.org) Python Library, to read the file \"proj-data.csv\", which contains the data set we will be using in this project and build a DataFrame"
   ],
   "id": "79a91cdf41098297"
  },
  {
   "metadata": {
    "ExecuteTime": {
     "end_time": "2024-05-09T19:27:54.044098Z",
     "start_time": "2024-05-09T19:27:53.688709Z"
    }
   },
   "cell_type": "code",
   "source": [
    "import pandas as pd\n",
    "\n",
    "# Load data set\n",
    "df_thyroid = pd.read_csv('proj-data.csv')\n",
    "df_thyroid.shape"
   ],
   "id": "f2edb1e685a0e2d5",
   "outputs": [
    {
     "data": {
      "text/plain": [
       "(7338, 31)"
      ]
     },
     "execution_count": 1,
     "metadata": {},
     "output_type": "execute_result"
    }
   ],
   "execution_count": 1
  },
  {
   "metadata": {
    "ExecuteTime": {
     "end_time": "2024-05-09T19:27:54.057898Z",
     "start_time": "2024-05-09T19:27:54.045104Z"
    }
   },
   "cell_type": "code",
   "source": "df_thyroid.head()",
   "id": "3b1ab9a330192af9",
   "outputs": [
    {
     "data": {
      "text/plain": [
       "   age: sex: on thyroxine: query on thyroxine: on antithyroid medication:  \\\n",
       "0    29    F             f                   f                          f   \n",
       "1    29    F             f                   f                          f   \n",
       "2    36    F             f                   f                          f   \n",
       "3    60    F             f                   f                          f   \n",
       "4    77    F             f                   f                          f   \n",
       "\n",
       "  sick: pregnant: thyroid surgery: I131 treatment: query hypothyroid:  ...  \\\n",
       "0     f         f                f               f                  t  ...   \n",
       "1     f         f                f               f                  f  ...   \n",
       "2     f         f                f               f                  f  ...   \n",
       "3     f         f                f               f                  f  ...   \n",
       "4     f         f                f               f                  f  ...   \n",
       "\n",
       "  TT4: T4U measured: T4U: FTI measured: FTI: TBG measured: TBG:  \\\n",
       "0    ?             f    ?             f    ?             f    ?   \n",
       "1  128             f    ?             f    ?             f    ?   \n",
       "2    ?             f    ?             f    ?             t   26   \n",
       "3    ?             f    ?             f    ?             t   26   \n",
       "4    ?             f    ?             f    ?             t   21   \n",
       "\n",
       "  referral source: diagnoses [record identification]  \n",
       "0            other         -             [861106018]  \n",
       "1            other         -             [860916073]  \n",
       "2            other         -             [850726049]  \n",
       "3            other         -             [861010020]  \n",
       "4            other         -             [860324074]  \n",
       "\n",
       "[5 rows x 31 columns]"
      ],
      "text/html": [
       "<div>\n",
       "<style scoped>\n",
       "    .dataframe tbody tr th:only-of-type {\n",
       "        vertical-align: middle;\n",
       "    }\n",
       "\n",
       "    .dataframe tbody tr th {\n",
       "        vertical-align: top;\n",
       "    }\n",
       "\n",
       "    .dataframe thead th {\n",
       "        text-align: right;\n",
       "    }\n",
       "</style>\n",
       "<table border=\"1\" class=\"dataframe\">\n",
       "  <thead>\n",
       "    <tr style=\"text-align: right;\">\n",
       "      <th></th>\n",
       "      <th>age:</th>\n",
       "      <th>sex:</th>\n",
       "      <th>on thyroxine:</th>\n",
       "      <th>query on thyroxine:</th>\n",
       "      <th>on antithyroid medication:</th>\n",
       "      <th>sick:</th>\n",
       "      <th>pregnant:</th>\n",
       "      <th>thyroid surgery:</th>\n",
       "      <th>I131 treatment:</th>\n",
       "      <th>query hypothyroid:</th>\n",
       "      <th>...</th>\n",
       "      <th>TT4:</th>\n",
       "      <th>T4U measured:</th>\n",
       "      <th>T4U:</th>\n",
       "      <th>FTI measured:</th>\n",
       "      <th>FTI:</th>\n",
       "      <th>TBG measured:</th>\n",
       "      <th>TBG:</th>\n",
       "      <th>referral source:</th>\n",
       "      <th>diagnoses</th>\n",
       "      <th>[record identification]</th>\n",
       "    </tr>\n",
       "  </thead>\n",
       "  <tbody>\n",
       "    <tr>\n",
       "      <th>0</th>\n",
       "      <td>29</td>\n",
       "      <td>F</td>\n",
       "      <td>f</td>\n",
       "      <td>f</td>\n",
       "      <td>f</td>\n",
       "      <td>f</td>\n",
       "      <td>f</td>\n",
       "      <td>f</td>\n",
       "      <td>f</td>\n",
       "      <td>t</td>\n",
       "      <td>...</td>\n",
       "      <td>?</td>\n",
       "      <td>f</td>\n",
       "      <td>?</td>\n",
       "      <td>f</td>\n",
       "      <td>?</td>\n",
       "      <td>f</td>\n",
       "      <td>?</td>\n",
       "      <td>other</td>\n",
       "      <td>-</td>\n",
       "      <td>[861106018]</td>\n",
       "    </tr>\n",
       "    <tr>\n",
       "      <th>1</th>\n",
       "      <td>29</td>\n",
       "      <td>F</td>\n",
       "      <td>f</td>\n",
       "      <td>f</td>\n",
       "      <td>f</td>\n",
       "      <td>f</td>\n",
       "      <td>f</td>\n",
       "      <td>f</td>\n",
       "      <td>f</td>\n",
       "      <td>f</td>\n",
       "      <td>...</td>\n",
       "      <td>128</td>\n",
       "      <td>f</td>\n",
       "      <td>?</td>\n",
       "      <td>f</td>\n",
       "      <td>?</td>\n",
       "      <td>f</td>\n",
       "      <td>?</td>\n",
       "      <td>other</td>\n",
       "      <td>-</td>\n",
       "      <td>[860916073]</td>\n",
       "    </tr>\n",
       "    <tr>\n",
       "      <th>2</th>\n",
       "      <td>36</td>\n",
       "      <td>F</td>\n",
       "      <td>f</td>\n",
       "      <td>f</td>\n",
       "      <td>f</td>\n",
       "      <td>f</td>\n",
       "      <td>f</td>\n",
       "      <td>f</td>\n",
       "      <td>f</td>\n",
       "      <td>f</td>\n",
       "      <td>...</td>\n",
       "      <td>?</td>\n",
       "      <td>f</td>\n",
       "      <td>?</td>\n",
       "      <td>f</td>\n",
       "      <td>?</td>\n",
       "      <td>t</td>\n",
       "      <td>26</td>\n",
       "      <td>other</td>\n",
       "      <td>-</td>\n",
       "      <td>[850726049]</td>\n",
       "    </tr>\n",
       "    <tr>\n",
       "      <th>3</th>\n",
       "      <td>60</td>\n",
       "      <td>F</td>\n",
       "      <td>f</td>\n",
       "      <td>f</td>\n",
       "      <td>f</td>\n",
       "      <td>f</td>\n",
       "      <td>f</td>\n",
       "      <td>f</td>\n",
       "      <td>f</td>\n",
       "      <td>f</td>\n",
       "      <td>...</td>\n",
       "      <td>?</td>\n",
       "      <td>f</td>\n",
       "      <td>?</td>\n",
       "      <td>f</td>\n",
       "      <td>?</td>\n",
       "      <td>t</td>\n",
       "      <td>26</td>\n",
       "      <td>other</td>\n",
       "      <td>-</td>\n",
       "      <td>[861010020]</td>\n",
       "    </tr>\n",
       "    <tr>\n",
       "      <th>4</th>\n",
       "      <td>77</td>\n",
       "      <td>F</td>\n",
       "      <td>f</td>\n",
       "      <td>f</td>\n",
       "      <td>f</td>\n",
       "      <td>f</td>\n",
       "      <td>f</td>\n",
       "      <td>f</td>\n",
       "      <td>f</td>\n",
       "      <td>f</td>\n",
       "      <td>...</td>\n",
       "      <td>?</td>\n",
       "      <td>f</td>\n",
       "      <td>?</td>\n",
       "      <td>f</td>\n",
       "      <td>?</td>\n",
       "      <td>t</td>\n",
       "      <td>21</td>\n",
       "      <td>other</td>\n",
       "      <td>-</td>\n",
       "      <td>[860324074]</td>\n",
       "    </tr>\n",
       "  </tbody>\n",
       "</table>\n",
       "<p>5 rows × 31 columns</p>\n",
       "</div>"
      ]
     },
     "execution_count": 2,
     "metadata": {},
     "output_type": "execute_result"
    }
   ],
   "execution_count": 2
  },
  {
   "metadata": {},
   "cell_type": "markdown",
   "source": [
    "### 1.2 Data investigation\n",
    "\n",
    "After building our DataFrame, it's important to do some investigation, so we can gain a better understanding of our data."
   ],
   "id": "d58cfed3fb9fc2a3"
  },
  {
   "metadata": {
    "ExecuteTime": {
     "end_time": "2024-05-09T19:27:54.080641Z",
     "start_time": "2024-05-09T19:27:54.057898Z"
    }
   },
   "cell_type": "code",
   "source": [
    "import numpy as np\n",
    "\n",
    "df = df_thyroid.copy()\n",
    "df.replace('?', np.nan, inplace=True)\n",
    "df.info()"
   ],
   "id": "d25207feac655236",
   "outputs": [
    {
     "name": "stdout",
     "output_type": "stream",
     "text": [
      "<class 'pandas.core.frame.DataFrame'>\n",
      "RangeIndex: 7338 entries, 0 to 7337\n",
      "Data columns (total 31 columns):\n",
      " #   Column                      Non-Null Count  Dtype \n",
      "---  ------                      --------------  ----- \n",
      " 0   age:                        7338 non-null   int64 \n",
      " 1   sex:                        7098 non-null   object\n",
      " 2   on thyroxine:               7338 non-null   object\n",
      " 3   query on thyroxine:         7338 non-null   object\n",
      " 4   on antithyroid medication:  7338 non-null   object\n",
      " 5   sick:                       7338 non-null   object\n",
      " 6   pregnant:                   7338 non-null   object\n",
      " 7   thyroid surgery:            7338 non-null   object\n",
      " 8   I131 treatment:             7338 non-null   object\n",
      " 9   query hypothyroid:          7338 non-null   object\n",
      " 10  query hyperthyroid:         7338 non-null   object\n",
      " 11  lithium:                    7338 non-null   object\n",
      " 12  goitre:                     7338 non-null   object\n",
      " 13  tumor:                      7338 non-null   object\n",
      " 14  hypopituitary:              7338 non-null   object\n",
      " 15  psych:                      7338 non-null   object\n",
      " 16  TSH measured:               7338 non-null   object\n",
      " 17  TSH:                        6667 non-null   object\n",
      " 18  T3 measured:                7338 non-null   object\n",
      " 19  T3:                         5270 non-null   object\n",
      " 20  TT4 measured:               7338 non-null   object\n",
      " 21  TT4:                        6976 non-null   object\n",
      " 22  T4U measured:               7338 non-null   object\n",
      " 23  T4U:                        6674 non-null   object\n",
      " 24  FTI measured:               7338 non-null   object\n",
      " 25  FTI:                        6680 non-null   object\n",
      " 26  TBG measured:               7338 non-null   object\n",
      " 27  TBG:                        284 non-null    object\n",
      " 28  referral source:            7338 non-null   object\n",
      " 29  diagnoses                   7338 non-null   object\n",
      " 30  [record identification]     7338 non-null   object\n",
      "dtypes: int64(1), object(30)\n",
      "memory usage: 1.7+ MB\n"
     ]
    }
   ],
   "execution_count": 3
  },
  {
   "metadata": {
    "ExecuteTime": {
     "end_time": "2024-05-09T19:27:54.092622Z",
     "start_time": "2024-05-09T19:27:54.080641Z"
    }
   },
   "cell_type": "code",
   "source": [
    "print(\"Uniques values:\")\n",
    "for col in df_thyroid.columns:\n",
    "    unique_vals = df_thyroid[col].nunique()\n",
    "    print(f'{col} = ', unique_vals)"
   ],
   "id": "b917f0b00d08f6bf",
   "outputs": [
    {
     "name": "stdout",
     "output_type": "stream",
     "text": [
      "Uniques values:\n",
      "age: =  98\n",
      "sex: =  3\n",
      "on thyroxine: =  2\n",
      "query on thyroxine: =  2\n",
      "on antithyroid medication: =  2\n",
      "sick: =  2\n",
      "pregnant: =  2\n",
      "thyroid surgery: =  2\n",
      "I131 treatment: =  2\n",
      "query hypothyroid: =  2\n",
      "query hyperthyroid: =  2\n",
      "lithium: =  2\n",
      "goitre: =  2\n",
      "tumor: =  2\n",
      "hypopituitary: =  2\n",
      "psych: =  2\n",
      "TSH measured: =  2\n",
      "TSH: =  351\n",
      "T3 measured: =  2\n",
      "T3: =  82\n",
      "TT4 measured: =  2\n",
      "TT4: =  278\n",
      "T4U measured: =  2\n",
      "T4U: =  167\n",
      "FTI measured: =  2\n",
      "FTI: =  303\n",
      "TBG measured: =  2\n",
      "TBG: =  61\n",
      "referral source: =  6\n",
      "diagnoses =  32\n",
      "[record identification] =  7338\n"
     ]
    }
   ],
   "execution_count": 4
  },
  {
   "metadata": {
    "ExecuteTime": {
     "end_time": "2024-05-09T19:27:54.103317Z",
     "start_time": "2024-05-09T19:27:54.093627Z"
    }
   },
   "cell_type": "code",
   "source": "df.isna().sum()",
   "id": "6f21aa7626f43110",
   "outputs": [
    {
     "data": {
      "text/plain": [
       "age:                             0\n",
       "sex:                           240\n",
       "on thyroxine:                    0\n",
       "query on thyroxine:              0\n",
       "on antithyroid medication:       0\n",
       "sick:                            0\n",
       "pregnant:                        0\n",
       "thyroid surgery:                 0\n",
       "I131 treatment:                  0\n",
       "query hypothyroid:               0\n",
       "query hyperthyroid:              0\n",
       "lithium:                         0\n",
       "goitre:                          0\n",
       "tumor:                           0\n",
       "hypopituitary:                   0\n",
       "psych:                           0\n",
       "TSH measured:                    0\n",
       "TSH:                           671\n",
       "T3 measured:                     0\n",
       "T3:                           2068\n",
       "TT4 measured:                    0\n",
       "TT4:                           362\n",
       "T4U measured:                    0\n",
       "T4U:                           664\n",
       "FTI measured:                    0\n",
       "FTI:                           658\n",
       "TBG measured:                    0\n",
       "TBG:                          7054\n",
       "referral source:                 0\n",
       "diagnoses                        0\n",
       "[record identification]          0\n",
       "dtype: int64"
      ]
     },
     "execution_count": 5,
     "metadata": {},
     "output_type": "execute_result"
    }
   ],
   "execution_count": 5
  },
  {
   "metadata": {
    "ExecuteTime": {
     "end_time": "2024-05-09T19:27:54.116734Z",
     "start_time": "2024-05-09T19:27:54.103317Z"
    }
   },
   "cell_type": "code",
   "source": [
    "#df_cleaned = df.drop(['TBG measured:', 'TBG:', '[record identification]'], axis = 1)\n",
    "\n",
    "# temp = df.drop('[record identification]', axis = 1)\n",
    "# df_cleaned = temp.dropna(subset=['T3:'])\n",
    "# TODO have another look at this issue\n",
    "df_cleaned = df.drop('[record identification]', axis = 1)\n",
    "df_cleaned.info()"
   ],
   "id": "52483fdee69777d3",
   "outputs": [
    {
     "name": "stdout",
     "output_type": "stream",
     "text": [
      "<class 'pandas.core.frame.DataFrame'>\n",
      "RangeIndex: 7338 entries, 0 to 7337\n",
      "Data columns (total 30 columns):\n",
      " #   Column                      Non-Null Count  Dtype \n",
      "---  ------                      --------------  ----- \n",
      " 0   age:                        7338 non-null   int64 \n",
      " 1   sex:                        7098 non-null   object\n",
      " 2   on thyroxine:               7338 non-null   object\n",
      " 3   query on thyroxine:         7338 non-null   object\n",
      " 4   on antithyroid medication:  7338 non-null   object\n",
      " 5   sick:                       7338 non-null   object\n",
      " 6   pregnant:                   7338 non-null   object\n",
      " 7   thyroid surgery:            7338 non-null   object\n",
      " 8   I131 treatment:             7338 non-null   object\n",
      " 9   query hypothyroid:          7338 non-null   object\n",
      " 10  query hyperthyroid:         7338 non-null   object\n",
      " 11  lithium:                    7338 non-null   object\n",
      " 12  goitre:                     7338 non-null   object\n",
      " 13  tumor:                      7338 non-null   object\n",
      " 14  hypopituitary:              7338 non-null   object\n",
      " 15  psych:                      7338 non-null   object\n",
      " 16  TSH measured:               7338 non-null   object\n",
      " 17  TSH:                        6667 non-null   object\n",
      " 18  T3 measured:                7338 non-null   object\n",
      " 19  T3:                         5270 non-null   object\n",
      " 20  TT4 measured:               7338 non-null   object\n",
      " 21  TT4:                        6976 non-null   object\n",
      " 22  T4U measured:               7338 non-null   object\n",
      " 23  T4U:                        6674 non-null   object\n",
      " 24  FTI measured:               7338 non-null   object\n",
      " 25  FTI:                        6680 non-null   object\n",
      " 26  TBG measured:               7338 non-null   object\n",
      " 27  TBG:                        284 non-null    object\n",
      " 28  referral source:            7338 non-null   object\n",
      " 29  diagnoses                   7338 non-null   object\n",
      "dtypes: int64(1), object(29)\n",
      "memory usage: 1.7+ MB\n"
     ]
    }
   ],
   "execution_count": 6
  },
  {
   "metadata": {},
   "cell_type": "markdown",
   "source": [
    "### 1.3 Encoding Data\n",
    "\n",
    "In machine learning, there are classification models that can not handle object type values. For this reason we need to transform our DataFrame so that it is onlu composed od numeric types, this process is refered to as data enconding."
   ],
   "id": "b225a2e435e1a905"
  },
  {
   "metadata": {
    "ExecuteTime": {
     "end_time": "2024-05-09T19:27:54.153945Z",
     "start_time": "2024-05-09T19:27:54.117739Z"
    }
   },
   "cell_type": "code",
   "source": [
    "target = 'diagnoses'\n",
    "encoded_values = {\n",
    "    'M': '0', 'F': '1',\n",
    "    'f': '0', 't': '1'\n",
    "}\n",
    "\n",
    "df_target = pd.DataFrame(df_cleaned[target], columns=[target])\n",
    "encoded = df_cleaned.drop(target, axis=1).replace(encoded_values)\n",
    "df_encoded = pd.get_dummies(encoded, columns=['referral source:'], dtype='int')"
   ],
   "id": "5c5d778d1a1a0927",
   "outputs": [],
   "execution_count": 7
  },
  {
   "metadata": {
    "ExecuteTime": {
     "end_time": "2024-05-09T19:27:54.159766Z",
     "start_time": "2024-05-09T19:27:54.153945Z"
    }
   },
   "cell_type": "code",
   "source": [
    "value_mapping = {\n",
    "    '-': 0,                          # healthy\n",
    "    'A': 1, 'B': 1, 'C': 1, 'D': 1,  # hyperthyroid conditions\n",
    "    'E': 2, 'F': 2, 'G': 2, 'H': 2,  # hypothyroid conditions\n",
    "    'I': 3, 'J': 3,                  # binding protein\n",
    "    'K': 4,                          # general health\n",
    "    'L': 5, 'M': 5, 'N': 5,          # replacement therapy\n",
    "    'R': 6,                          # discordant results\n",
    "}\n",
    "df_target[target] = df_target[target].map(value_mapping).fillna(7).astype(int)\n",
    "df_target[target].unique()"
   ],
   "id": "8bf89df76da8a4b3",
   "outputs": [
    {
     "data": {
      "text/plain": [
       "array([0, 6, 5, 2, 4, 3, 1, 7])"
      ]
     },
     "execution_count": 8,
     "metadata": {},
     "output_type": "execute_result"
    }
   ],
   "execution_count": 8
  },
  {
   "metadata": {
    "ExecuteTime": {
     "end_time": "2024-05-09T19:27:54.172720Z",
     "start_time": "2024-05-09T19:27:54.159766Z"
    }
   },
   "cell_type": "code",
   "source": [
    "df = pd.concat([df_encoded, df_target], axis=1)\n",
    "df.head()"
   ],
   "id": "ccac642a0fd480de",
   "outputs": [
    {
     "data": {
      "text/plain": [
       "   age: sex: on thyroxine: query on thyroxine: on antithyroid medication:  \\\n",
       "0    29    1             0                   0                          0   \n",
       "1    29    1             0                   0                          0   \n",
       "2    36    1             0                   0                          0   \n",
       "3    60    1             0                   0                          0   \n",
       "4    77    1             0                   0                          0   \n",
       "\n",
       "  sick: pregnant: thyroid surgery: I131 treatment: query hypothyroid:  ...  \\\n",
       "0     0         0                0               0                  1  ...   \n",
       "1     0         0                0               0                  0  ...   \n",
       "2     0         0                0               0                  0  ...   \n",
       "3     0         0                0               0                  0  ...   \n",
       "4     0         0                0               0                  0  ...   \n",
       "\n",
       "  FTI: TBG measured: TBG: referral source:_STMW referral source:_SVHC  \\\n",
       "0  NaN             0  NaN                     0                     0   \n",
       "1  NaN             0  NaN                     0                     0   \n",
       "2  NaN             1   26                     0                     0   \n",
       "3  NaN             1   26                     0                     0   \n",
       "4  NaN             1   21                     0                     0   \n",
       "\n",
       "  referral source:_SVHD referral source:_SVI referral source:_WEST  \\\n",
       "0                     0                    0                     0   \n",
       "1                     0                    0                     0   \n",
       "2                     0                    0                     0   \n",
       "3                     0                    0                     0   \n",
       "4                     0                    0                     0   \n",
       "\n",
       "  referral source:_other diagnoses  \n",
       "0                      1         0  \n",
       "1                      1         0  \n",
       "2                      1         0  \n",
       "3                      1         0  \n",
       "4                      1         0  \n",
       "\n",
       "[5 rows x 35 columns]"
      ],
      "text/html": [
       "<div>\n",
       "<style scoped>\n",
       "    .dataframe tbody tr th:only-of-type {\n",
       "        vertical-align: middle;\n",
       "    }\n",
       "\n",
       "    .dataframe tbody tr th {\n",
       "        vertical-align: top;\n",
       "    }\n",
       "\n",
       "    .dataframe thead th {\n",
       "        text-align: right;\n",
       "    }\n",
       "</style>\n",
       "<table border=\"1\" class=\"dataframe\">\n",
       "  <thead>\n",
       "    <tr style=\"text-align: right;\">\n",
       "      <th></th>\n",
       "      <th>age:</th>\n",
       "      <th>sex:</th>\n",
       "      <th>on thyroxine:</th>\n",
       "      <th>query on thyroxine:</th>\n",
       "      <th>on antithyroid medication:</th>\n",
       "      <th>sick:</th>\n",
       "      <th>pregnant:</th>\n",
       "      <th>thyroid surgery:</th>\n",
       "      <th>I131 treatment:</th>\n",
       "      <th>query hypothyroid:</th>\n",
       "      <th>...</th>\n",
       "      <th>FTI:</th>\n",
       "      <th>TBG measured:</th>\n",
       "      <th>TBG:</th>\n",
       "      <th>referral source:_STMW</th>\n",
       "      <th>referral source:_SVHC</th>\n",
       "      <th>referral source:_SVHD</th>\n",
       "      <th>referral source:_SVI</th>\n",
       "      <th>referral source:_WEST</th>\n",
       "      <th>referral source:_other</th>\n",
       "      <th>diagnoses</th>\n",
       "    </tr>\n",
       "  </thead>\n",
       "  <tbody>\n",
       "    <tr>\n",
       "      <th>0</th>\n",
       "      <td>29</td>\n",
       "      <td>1</td>\n",
       "      <td>0</td>\n",
       "      <td>0</td>\n",
       "      <td>0</td>\n",
       "      <td>0</td>\n",
       "      <td>0</td>\n",
       "      <td>0</td>\n",
       "      <td>0</td>\n",
       "      <td>1</td>\n",
       "      <td>...</td>\n",
       "      <td>NaN</td>\n",
       "      <td>0</td>\n",
       "      <td>NaN</td>\n",
       "      <td>0</td>\n",
       "      <td>0</td>\n",
       "      <td>0</td>\n",
       "      <td>0</td>\n",
       "      <td>0</td>\n",
       "      <td>1</td>\n",
       "      <td>0</td>\n",
       "    </tr>\n",
       "    <tr>\n",
       "      <th>1</th>\n",
       "      <td>29</td>\n",
       "      <td>1</td>\n",
       "      <td>0</td>\n",
       "      <td>0</td>\n",
       "      <td>0</td>\n",
       "      <td>0</td>\n",
       "      <td>0</td>\n",
       "      <td>0</td>\n",
       "      <td>0</td>\n",
       "      <td>0</td>\n",
       "      <td>...</td>\n",
       "      <td>NaN</td>\n",
       "      <td>0</td>\n",
       "      <td>NaN</td>\n",
       "      <td>0</td>\n",
       "      <td>0</td>\n",
       "      <td>0</td>\n",
       "      <td>0</td>\n",
       "      <td>0</td>\n",
       "      <td>1</td>\n",
       "      <td>0</td>\n",
       "    </tr>\n",
       "    <tr>\n",
       "      <th>2</th>\n",
       "      <td>36</td>\n",
       "      <td>1</td>\n",
       "      <td>0</td>\n",
       "      <td>0</td>\n",
       "      <td>0</td>\n",
       "      <td>0</td>\n",
       "      <td>0</td>\n",
       "      <td>0</td>\n",
       "      <td>0</td>\n",
       "      <td>0</td>\n",
       "      <td>...</td>\n",
       "      <td>NaN</td>\n",
       "      <td>1</td>\n",
       "      <td>26</td>\n",
       "      <td>0</td>\n",
       "      <td>0</td>\n",
       "      <td>0</td>\n",
       "      <td>0</td>\n",
       "      <td>0</td>\n",
       "      <td>1</td>\n",
       "      <td>0</td>\n",
       "    </tr>\n",
       "    <tr>\n",
       "      <th>3</th>\n",
       "      <td>60</td>\n",
       "      <td>1</td>\n",
       "      <td>0</td>\n",
       "      <td>0</td>\n",
       "      <td>0</td>\n",
       "      <td>0</td>\n",
       "      <td>0</td>\n",
       "      <td>0</td>\n",
       "      <td>0</td>\n",
       "      <td>0</td>\n",
       "      <td>...</td>\n",
       "      <td>NaN</td>\n",
       "      <td>1</td>\n",
       "      <td>26</td>\n",
       "      <td>0</td>\n",
       "      <td>0</td>\n",
       "      <td>0</td>\n",
       "      <td>0</td>\n",
       "      <td>0</td>\n",
       "      <td>1</td>\n",
       "      <td>0</td>\n",
       "    </tr>\n",
       "    <tr>\n",
       "      <th>4</th>\n",
       "      <td>77</td>\n",
       "      <td>1</td>\n",
       "      <td>0</td>\n",
       "      <td>0</td>\n",
       "      <td>0</td>\n",
       "      <td>0</td>\n",
       "      <td>0</td>\n",
       "      <td>0</td>\n",
       "      <td>0</td>\n",
       "      <td>0</td>\n",
       "      <td>...</td>\n",
       "      <td>NaN</td>\n",
       "      <td>1</td>\n",
       "      <td>21</td>\n",
       "      <td>0</td>\n",
       "      <td>0</td>\n",
       "      <td>0</td>\n",
       "      <td>0</td>\n",
       "      <td>0</td>\n",
       "      <td>1</td>\n",
       "      <td>0</td>\n",
       "    </tr>\n",
       "  </tbody>\n",
       "</table>\n",
       "<p>5 rows × 35 columns</p>\n",
       "</div>"
      ]
     },
     "execution_count": 9,
     "metadata": {},
     "output_type": "execute_result"
    }
   ],
   "execution_count": 9
  },
  {
   "metadata": {},
   "cell_type": "markdown",
   "source": "### 1.4 Splitting into training and testing set",
   "id": "17c92ab69ddb4cab"
  },
  {
   "metadata": {
    "ExecuteTime": {
     "end_time": "2024-05-09T19:27:54.664242Z",
     "start_time": "2024-05-09T19:27:54.172720Z"
    }
   },
   "cell_type": "code",
   "source": [
    "from sklearn.model_selection import train_test_split\n",
    "\n",
    "X = df.drop(target, axis='columns')\n",
    "y = df[target]\n",
    "\n",
    "X_TRAIN, X_IVS, y_TRAIN, y_IVS = train_test_split(X, y, test_size=0.2)\n",
    "\n",
    "# Print the shapes of the training and testing sets\n",
    "print('Training set shape:', X_TRAIN.shape, y_TRAIN.shape)\n",
    "print('Testing set shape:', X_IVS.shape, y_IVS.shape)"
   ],
   "id": "84054ef19a46bc36",
   "outputs": [
    {
     "name": "stdout",
     "output_type": "stream",
     "text": [
      "Training set shape: (5870, 34) (5870,)\n",
      "Testing set shape: (1468, 34) (1468,)\n"
     ]
    }
   ],
   "execution_count": 10
  },
  {
   "metadata": {},
   "cell_type": "markdown",
   "source": "### 1.5 Scaling Data",
   "id": "5a8b40e0871be938"
  },
  {
   "metadata": {
    "ExecuteTime": {
     "end_time": "2024-05-09T19:27:54.720173Z",
     "start_time": "2024-05-09T19:27:54.664242Z"
    }
   },
   "cell_type": "code",
   "source": [
    "from sklearn.preprocessing import StandardScaler\n",
    "\n",
    "scaler = StandardScaler()\n",
    "scaler.fit(X_TRAIN)\n",
    "\n",
    "X_train_scl = scaler.transform(X_TRAIN)\n",
    "X_ivs_scl = scaler.transform(X_IVS)"
   ],
   "id": "588e36dc53b771f7",
   "outputs": [],
   "execution_count": 11
  },
  {
   "metadata": {},
   "cell_type": "markdown",
   "source": "### 1.6 Imputing missing values",
   "id": "c3b56e64c29f54aa"
  },
  {
   "metadata": {
    "ExecuteTime": {
     "end_time": "2024-05-09T19:27:54.784942Z",
     "start_time": "2024-05-09T19:27:54.721178Z"
    }
   },
   "cell_type": "code",
   "source": [
    "from sklearn.impute import SimpleImputer\n",
    "\n",
    "imputer = SimpleImputer(missing_values=np.nan, strategy='mean')\n",
    "\n",
    "X_train_imp = imputer.fit_transform(X_train_scl)\n",
    "X_ivs_imp = imputer.transform(X_ivs_scl)\n",
    "\n",
    "X_TRAIN = pd.DataFrame(X_train_imp, columns=X_TRAIN.columns)\n",
    "X_IVS = pd.DataFrame(X_ivs_imp, columns=X_IVS.columns)\n",
    "\n",
    "missing_values = X_TRAIN.isna().sum().sum() + X_IVS.isna().sum().sum()\n",
    "print(f\"Missing values count: {missing_values}\")"
   ],
   "id": "e8524c87fdb9b95e",
   "outputs": [
    {
     "name": "stdout",
     "output_type": "stream",
     "text": [
      "Missing values count: 0\n"
     ]
    }
   ],
   "execution_count": 12
  },
  {
   "metadata": {
    "ExecuteTime": {
     "end_time": "2024-05-09T19:27:54.792466Z",
     "start_time": "2024-05-09T19:27:54.784942Z"
    }
   },
   "cell_type": "code",
   "source": "X_TRAIN.info()",
   "id": "cc90c9f31cbe7700",
   "outputs": [
    {
     "name": "stdout",
     "output_type": "stream",
     "text": [
      "<class 'pandas.core.frame.DataFrame'>\n",
      "RangeIndex: 5870 entries, 0 to 5869\n",
      "Data columns (total 34 columns):\n",
      " #   Column                      Non-Null Count  Dtype  \n",
      "---  ------                      --------------  -----  \n",
      " 0   age:                        5870 non-null   float64\n",
      " 1   sex:                        5870 non-null   float64\n",
      " 2   on thyroxine:               5870 non-null   float64\n",
      " 3   query on thyroxine:         5870 non-null   float64\n",
      " 4   on antithyroid medication:  5870 non-null   float64\n",
      " 5   sick:                       5870 non-null   float64\n",
      " 6   pregnant:                   5870 non-null   float64\n",
      " 7   thyroid surgery:            5870 non-null   float64\n",
      " 8   I131 treatment:             5870 non-null   float64\n",
      " 9   query hypothyroid:          5870 non-null   float64\n",
      " 10  query hyperthyroid:         5870 non-null   float64\n",
      " 11  lithium:                    5870 non-null   float64\n",
      " 12  goitre:                     5870 non-null   float64\n",
      " 13  tumor:                      5870 non-null   float64\n",
      " 14  hypopituitary:              5870 non-null   float64\n",
      " 15  psych:                      5870 non-null   float64\n",
      " 16  TSH measured:               5870 non-null   float64\n",
      " 17  TSH:                        5870 non-null   float64\n",
      " 18  T3 measured:                5870 non-null   float64\n",
      " 19  T3:                         5870 non-null   float64\n",
      " 20  TT4 measured:               5870 non-null   float64\n",
      " 21  TT4:                        5870 non-null   float64\n",
      " 22  T4U measured:               5870 non-null   float64\n",
      " 23  T4U:                        5870 non-null   float64\n",
      " 24  FTI measured:               5870 non-null   float64\n",
      " 25  FTI:                        5870 non-null   float64\n",
      " 26  TBG measured:               5870 non-null   float64\n",
      " 27  TBG:                        5870 non-null   float64\n",
      " 28  referral source:_STMW       5870 non-null   float64\n",
      " 29  referral source:_SVHC       5870 non-null   float64\n",
      " 30  referral source:_SVHD       5870 non-null   float64\n",
      " 31  referral source:_SVI        5870 non-null   float64\n",
      " 32  referral source:_WEST       5870 non-null   float64\n",
      " 33  referral source:_other      5870 non-null   float64\n",
      "dtypes: float64(34)\n",
      "memory usage: 1.5 MB\n"
     ]
    }
   ],
   "execution_count": 13
  },
  {
   "metadata": {},
   "cell_type": "markdown",
   "source": "## 2. Classification Models",
   "id": "e70738c62e106345"
  },
  {
   "metadata": {},
   "cell_type": "markdown",
   "source": "### 2.1 Feature Selection",
   "id": "b61e2db8481d56a2"
  },
  {
   "metadata": {
    "ExecuteTime": {
     "end_time": "2024-05-09T19:28:01.394715Z",
     "start_time": "2024-05-09T19:27:54.794471Z"
    }
   },
   "cell_type": "code",
   "source": [
    "# TODO feature selection needs tuning\n",
    "from sklearn.feature_selection import SequentialFeatureSelector as SFS\n",
    "from sklearn.linear_model import LinearRegression\n",
    "\n",
    "selector = SFS(LinearRegression(), \n",
    "               n_features_to_select=13, \n",
    "               direction='forward',\n",
    "               n_jobs=-1)\n",
    "selector.fit(X_TRAIN, y_TRAIN)\n",
    "\n",
    "N, M = X_TRAIN.shape\n",
    "features=selector.get_support()\n",
    "features_selected = np.arange(M)[features]\n",
    "print(\"The features selected are columns: \", features_selected)\n",
    "\n",
    "X_TRAIN = selector.transform(X_TRAIN)\n",
    "X_IVS = selector.transform(X_IVS)"
   ],
   "id": "34d5b40cf1d9af3b",
   "outputs": [
    {
     "name": "stdout",
     "output_type": "stream",
     "text": [
      "The features selected are columns:  [ 2  6 16 17 18 19 21 25 26 27 28 29 31]\n"
     ]
    }
   ],
   "execution_count": 14
  },
  {
   "metadata": {},
   "cell_type": "markdown",
   "source": "### 2.2 KFold Cross validation",
   "id": "4d1cd5a9bbb0f86b"
  },
  {
   "metadata": {
    "ExecuteTime": {
     "end_time": "2024-05-09T19:28:01.399035Z",
     "start_time": "2024-05-09T19:28:01.394715Z"
    }
   },
   "cell_type": "code",
   "source": [
    "from sklearn.model_selection import KFold\n",
    "from sklearn.metrics import accuracy_score, precision_score, recall_score, f1_score, matthews_corrcoef\n",
    "\n",
    "def cross_validation(model, X, y):\n",
    "    TRUTH = None\n",
    "    PREDS = None\n",
    "    kf = KFold(n_splits=5, shuffle=True)\n",
    "    for train_index, test_index in kf.split(X):\n",
    "        X_train, y_train = X[train_index], y.to_numpy()[train_index]\n",
    "        X_test, y_test = X[test_index], y.to_numpy()[test_index]\n",
    "        \n",
    "        model.fit(X_train, y_train)\n",
    "        preds = model.predict(X_test)\n",
    "        if TRUTH is None:\n",
    "            PREDS = preds\n",
    "            TRUTH = y_test\n",
    "        else:\n",
    "            PREDS = np.hstack((PREDS, preds))\n",
    "            TRUTH = np.hstack((TRUTH, y_test))\n",
    "    return TRUTH, PREDS"
   ],
   "id": "dc8b24eb7dc939cb",
   "outputs": [],
   "execution_count": 15
  },
  {
   "metadata": {
    "ExecuteTime": {
     "end_time": "2024-05-09T19:28:01.406292Z",
     "start_time": "2024-05-09T19:28:01.400040Z"
    }
   },
   "cell_type": "code",
   "source": [
    "def evaluate(model, X, y, n_iter=10):\n",
    "    accuracy = []\n",
    "    precision = []\n",
    "    recall = []\n",
    "    f1 = []\n",
    "    mcc = []\n",
    "    \n",
    "    for _ in range(n_iter):\n",
    "        truth, preds = cross_validation(model, X, y)\n",
    "        accuracy.append(accuracy_score(truth, preds))\n",
    "        precision.append(precision_score(truth, preds, average='weighted', zero_division=1))\n",
    "        recall.append(recall_score(truth, preds, average='weighted'))\n",
    "        f1.append(f1_score(truth, preds, average='weighted'))\n",
    "        mcc.append(matthews_corrcoef(truth, preds))\n",
    "        \n",
    "    return {\n",
    "        'Model': model,\n",
    "        'Accuracy': np.mean(accuracy),\n",
    "        'Precision': np.mean(precision),\n",
    "        'Recall': np.mean(recall),\n",
    "        'F1-Score': np.mean(f1),\n",
    "        'MCC': np.mean(mcc)\n",
    "    }"
   ],
   "id": "fe276d9166c129c2",
   "outputs": [],
   "execution_count": 16
  },
  {
   "metadata": {},
   "cell_type": "markdown",
   "source": "### 2.3 Classification models",
   "id": "5218522c6999b051"
  },
  {
   "metadata": {
    "ExecuteTime": {
     "end_time": "2024-05-09T19:28:30.178560Z",
     "start_time": "2024-05-09T19:28:01.406292Z"
    }
   },
   "cell_type": "code",
   "source": [
    "from sklearn.tree import DecisionTreeClassifier\n",
    "from sklearn.linear_model import LogisticRegression\n",
    "from sklearn.naive_bayes import GaussianNB\n",
    "from sklearn.neighbors import KNeighborsClassifier\n",
    "from sklearn.svm import SVC\n",
    "\n",
    "cols = ['Model', 'Accuracy', 'Precision', 'Recall', 'F1-Score', 'MCC']\n",
    "\n",
    "tree = evaluate(DecisionTreeClassifier(), X_TRAIN, y_TRAIN)\n",
    "lgr = evaluate(LogisticRegression(), X_TRAIN, y_TRAIN)\n",
    "naive_bayes = evaluate(GaussianNB(), X_TRAIN, y_TRAIN)\n",
    "knn = evaluate(KNeighborsClassifier(), X_TRAIN, y_TRAIN)\n",
    "svm = evaluate(SVC(), X_TRAIN, y_TRAIN)\n",
    "\n",
    "pd.DataFrame([tree, lgr, naive_bayes, knn, svm], columns=cols)"
   ],
   "id": "13d2e9541e1d907b",
   "outputs": [
    {
     "data": {
      "text/plain": [
       "                      Model  Accuracy  Precision    Recall  F1-Score       MCC\n",
       "0  DecisionTreeClassifier()  0.925111   0.925136  0.925111  0.925046  0.831904\n",
       "1      LogisticRegression()  0.855826   0.842755  0.855826  0.838627  0.641889\n",
       "2              GaussianNB()  0.153833   0.804914  0.153833  0.133193  0.186626\n",
       "3    KNeighborsClassifier()  0.864787   0.857604  0.864787  0.852912  0.668688\n",
       "4                     SVC()  0.844157   0.837282  0.844157  0.819210  0.604965"
      ],
      "text/html": [
       "<div>\n",
       "<style scoped>\n",
       "    .dataframe tbody tr th:only-of-type {\n",
       "        vertical-align: middle;\n",
       "    }\n",
       "\n",
       "    .dataframe tbody tr th {\n",
       "        vertical-align: top;\n",
       "    }\n",
       "\n",
       "    .dataframe thead th {\n",
       "        text-align: right;\n",
       "    }\n",
       "</style>\n",
       "<table border=\"1\" class=\"dataframe\">\n",
       "  <thead>\n",
       "    <tr style=\"text-align: right;\">\n",
       "      <th></th>\n",
       "      <th>Model</th>\n",
       "      <th>Accuracy</th>\n",
       "      <th>Precision</th>\n",
       "      <th>Recall</th>\n",
       "      <th>F1-Score</th>\n",
       "      <th>MCC</th>\n",
       "    </tr>\n",
       "  </thead>\n",
       "  <tbody>\n",
       "    <tr>\n",
       "      <th>0</th>\n",
       "      <td>DecisionTreeClassifier()</td>\n",
       "      <td>0.925111</td>\n",
       "      <td>0.925136</td>\n",
       "      <td>0.925111</td>\n",
       "      <td>0.925046</td>\n",
       "      <td>0.831904</td>\n",
       "    </tr>\n",
       "    <tr>\n",
       "      <th>1</th>\n",
       "      <td>LogisticRegression()</td>\n",
       "      <td>0.855826</td>\n",
       "      <td>0.842755</td>\n",
       "      <td>0.855826</td>\n",
       "      <td>0.838627</td>\n",
       "      <td>0.641889</td>\n",
       "    </tr>\n",
       "    <tr>\n",
       "      <th>2</th>\n",
       "      <td>GaussianNB()</td>\n",
       "      <td>0.153833</td>\n",
       "      <td>0.804914</td>\n",
       "      <td>0.153833</td>\n",
       "      <td>0.133193</td>\n",
       "      <td>0.186626</td>\n",
       "    </tr>\n",
       "    <tr>\n",
       "      <th>3</th>\n",
       "      <td>KNeighborsClassifier()</td>\n",
       "      <td>0.864787</td>\n",
       "      <td>0.857604</td>\n",
       "      <td>0.864787</td>\n",
       "      <td>0.852912</td>\n",
       "      <td>0.668688</td>\n",
       "    </tr>\n",
       "    <tr>\n",
       "      <th>4</th>\n",
       "      <td>SVC()</td>\n",
       "      <td>0.844157</td>\n",
       "      <td>0.837282</td>\n",
       "      <td>0.844157</td>\n",
       "      <td>0.819210</td>\n",
       "      <td>0.604965</td>\n",
       "    </tr>\n",
       "  </tbody>\n",
       "</table>\n",
       "</div>"
      ]
     },
     "execution_count": 17,
     "metadata": {},
     "output_type": "execute_result"
    }
   ],
   "execution_count": 17
  },
  {
   "metadata": {},
   "cell_type": "markdown",
   "source": "## 3. Model Selection",
   "id": "f0e8c74fd37bd507"
  },
  {
   "metadata": {},
   "cell_type": "markdown",
   "source": "### 3.1 Hyperparameter tuning",
   "id": "2eb5fadc77b4e4d0"
  },
  {
   "metadata": {
    "ExecuteTime": {
     "end_time": "2024-05-09T19:28:30.183448Z",
     "start_time": "2024-05-09T19:28:30.179582Z"
    }
   },
   "cell_type": "code",
   "source": [
    "model_params = {\n",
    "    'Decision Tree': {\n",
    "        'model': DecisionTreeClassifier(),\n",
    "        'params': {\n",
    "            'max_depth': [2, 3, 5, 10, 20],\n",
    "            'min_samples_split': [2, 3, 5, 10, 15],\n",
    "            'min_samples_leaf': [2, 3, 5, 10, 15],\n",
    "            'criterion': ['gini', 'entropy', 'log_loss']\n",
    "        }\n",
    "    },\n",
    "    'KNN': {\n",
    "        'model': KNeighborsClassifier(),\n",
    "        'params': {\n",
    "            'n_neighbors' : [3, 5, 7, 9, 11],\n",
    "            'weights' : ['uniform', 'distance'],\n",
    "            'metric' : ['minkowski', 'euclidean', 'manhattan']\n",
    "        }\n",
    "    },\n",
    "    'SVC': {\n",
    "        'model': SVC(),\n",
    "        'params': {\n",
    "            'C': [0.1, 1, 10, 100],  \n",
    "            'gamma': [1, 0.1, 0.01, 0.001], \n",
    "            'kernel': ['rbf', 'linear'] \n",
    "        }\n",
    "    }\n",
    "}"
   ],
   "id": "3ff3238a4ef5c21c",
   "outputs": [],
   "execution_count": 18
  },
  {
   "metadata": {
    "ExecuteTime": {
     "end_time": "2024-05-09T19:29:06.526139Z",
     "start_time": "2024-05-09T19:28:30.184471Z"
    }
   },
   "cell_type": "code",
   "source": [
    "import time\n",
    "from sklearn.model_selection import GridSearchCV\n",
    "\n",
    "scores = []\n",
    "start_time = time.time()\n",
    "for name, model in model_params.items():\n",
    "    grid_search = GridSearchCV(model['model'], model['params'], cv=5, n_jobs=-1)\n",
    "    grid_search.fit(X_TRAIN, y_TRAIN)\n",
    "    scores.append({\n",
    "        'Model': name,\n",
    "        'Best Score': grid_search.best_score_,\n",
    "        'Best Estimator': grid_search.best_estimator_\n",
    "    })\n",
    "    \n",
    "print('Computation time: %.2f' % (time.time() - start_time))"
   ],
   "id": "1c996b4bb720017c",
   "outputs": [
    {
     "name": "stdout",
     "output_type": "stream",
     "text": [
      "Computation time: 36.34\n"
     ]
    }
   ],
   "execution_count": 19
  },
  {
   "metadata": {
    "ExecuteTime": {
     "end_time": "2024-05-09T19:29:06.534562Z",
     "start_time": "2024-05-09T19:29:06.527165Z"
    }
   },
   "cell_type": "code",
   "source": [
    "df_tuning = pd.DataFrame(scores, columns=['Model', 'Best Score', 'Best Estimator'])\n",
    "df_tuning"
   ],
   "id": "94a18f9b726f75af",
   "outputs": [
    {
     "data": {
      "text/plain": [
       "           Model  Best Score  \\\n",
       "0  Decision Tree    0.935775   \n",
       "1            KNN    0.881261   \n",
       "2            SVC    0.897445   \n",
       "\n",
       "                                      Best Estimator  \n",
       "0  DecisionTreeClassifier(criterion='entropy', ma...  \n",
       "1  KNeighborsClassifier(metric='manhattan', n_nei...  \n",
       "2                              SVC(C=100, gamma=0.1)  "
      ],
      "text/html": [
       "<div>\n",
       "<style scoped>\n",
       "    .dataframe tbody tr th:only-of-type {\n",
       "        vertical-align: middle;\n",
       "    }\n",
       "\n",
       "    .dataframe tbody tr th {\n",
       "        vertical-align: top;\n",
       "    }\n",
       "\n",
       "    .dataframe thead th {\n",
       "        text-align: right;\n",
       "    }\n",
       "</style>\n",
       "<table border=\"1\" class=\"dataframe\">\n",
       "  <thead>\n",
       "    <tr style=\"text-align: right;\">\n",
       "      <th></th>\n",
       "      <th>Model</th>\n",
       "      <th>Best Score</th>\n",
       "      <th>Best Estimator</th>\n",
       "    </tr>\n",
       "  </thead>\n",
       "  <tbody>\n",
       "    <tr>\n",
       "      <th>0</th>\n",
       "      <td>Decision Tree</td>\n",
       "      <td>0.935775</td>\n",
       "      <td>DecisionTreeClassifier(criterion='entropy', ma...</td>\n",
       "    </tr>\n",
       "    <tr>\n",
       "      <th>1</th>\n",
       "      <td>KNN</td>\n",
       "      <td>0.881261</td>\n",
       "      <td>KNeighborsClassifier(metric='manhattan', n_nei...</td>\n",
       "    </tr>\n",
       "    <tr>\n",
       "      <th>2</th>\n",
       "      <td>SVC</td>\n",
       "      <td>0.897445</td>\n",
       "      <td>SVC(C=100, gamma=0.1)</td>\n",
       "    </tr>\n",
       "  </tbody>\n",
       "</table>\n",
       "</div>"
      ]
     },
     "execution_count": 20,
     "metadata": {},
     "output_type": "execute_result"
    }
   ],
   "execution_count": 20
  },
  {
   "metadata": {
    "ExecuteTime": {
     "end_time": "2024-05-09T19:30:12.781969Z",
     "start_time": "2024-05-09T19:29:06.535568Z"
    }
   },
   "cell_type": "code",
   "source": [
    "tuned_reports = []\n",
    "for index, row in df_tuning.iterrows():\n",
    "    tuned_reports.append(evaluate(row['Best Estimator'], X_TRAIN, y_TRAIN))\n",
    "\n",
    "best_models = pd.DataFrame(tuned_reports, columns=cols)\n",
    "best_models"
   ],
   "id": "99a799adc0946b95",
   "outputs": [
    {
     "data": {
      "text/plain": [
       "                                               Model  Accuracy  Precision  \\\n",
       "0  DecisionTreeClassifier(criterion='entropy', ma...  0.931601   0.930256   \n",
       "1  KNeighborsClassifier(metric='manhattan', n_nei...  0.875894   0.870023   \n",
       "2                              SVC(C=100, gamma=0.1)  0.895690   0.889577   \n",
       "\n",
       "     Recall  F1-Score       MCC  \n",
       "0  0.931601  0.930778  0.845168  \n",
       "1  0.875894  0.869261  0.703624  \n",
       "2  0.895690  0.890610  0.754115  "
      ],
      "text/html": [
       "<div>\n",
       "<style scoped>\n",
       "    .dataframe tbody tr th:only-of-type {\n",
       "        vertical-align: middle;\n",
       "    }\n",
       "\n",
       "    .dataframe tbody tr th {\n",
       "        vertical-align: top;\n",
       "    }\n",
       "\n",
       "    .dataframe thead th {\n",
       "        text-align: right;\n",
       "    }\n",
       "</style>\n",
       "<table border=\"1\" class=\"dataframe\">\n",
       "  <thead>\n",
       "    <tr style=\"text-align: right;\">\n",
       "      <th></th>\n",
       "      <th>Model</th>\n",
       "      <th>Accuracy</th>\n",
       "      <th>Precision</th>\n",
       "      <th>Recall</th>\n",
       "      <th>F1-Score</th>\n",
       "      <th>MCC</th>\n",
       "    </tr>\n",
       "  </thead>\n",
       "  <tbody>\n",
       "    <tr>\n",
       "      <th>0</th>\n",
       "      <td>DecisionTreeClassifier(criterion='entropy', ma...</td>\n",
       "      <td>0.931601</td>\n",
       "      <td>0.930256</td>\n",
       "      <td>0.931601</td>\n",
       "      <td>0.930778</td>\n",
       "      <td>0.845168</td>\n",
       "    </tr>\n",
       "    <tr>\n",
       "      <th>1</th>\n",
       "      <td>KNeighborsClassifier(metric='manhattan', n_nei...</td>\n",
       "      <td>0.875894</td>\n",
       "      <td>0.870023</td>\n",
       "      <td>0.875894</td>\n",
       "      <td>0.869261</td>\n",
       "      <td>0.703624</td>\n",
       "    </tr>\n",
       "    <tr>\n",
       "      <th>2</th>\n",
       "      <td>SVC(C=100, gamma=0.1)</td>\n",
       "      <td>0.895690</td>\n",
       "      <td>0.889577</td>\n",
       "      <td>0.895690</td>\n",
       "      <td>0.890610</td>\n",
       "      <td>0.754115</td>\n",
       "    </tr>\n",
       "  </tbody>\n",
       "</table>\n",
       "</div>"
      ]
     },
     "execution_count": 21,
     "metadata": {},
     "output_type": "execute_result"
    }
   ],
   "execution_count": 21
  },
  {
   "metadata": {},
   "cell_type": "markdown",
   "source": "### 3.2 Model Testing",
   "id": "5dbc196601e052de"
  },
  {
   "metadata": {
    "ExecuteTime": {
     "end_time": "2024-05-09T19:30:14.937131Z",
     "start_time": "2024-05-09T19:30:12.782975Z"
    }
   },
   "cell_type": "code",
   "source": [
    "test_report = []\n",
    "for index, row in best_models.iterrows():\n",
    "    model = row['Model']\n",
    "    model.fit(X_TRAIN, y_TRAIN)\n",
    "    preds = model.predict(X_IVS)\n",
    "    test_report.append({\n",
    "        'Model': model,\n",
    "        'Accuracy': accuracy_score(y_IVS, preds),\n",
    "        'Precision': precision_score(y_IVS, preds, average='weighted', zero_division=1),\n",
    "        'Recall': recall_score(y_IVS, preds, average='weighted'),\n",
    "        'F1-Score': f1_score(y_IVS, preds, average='weighted'),\n",
    "        'MCC': matthews_corrcoef(y_IVS, preds)\n",
    "    })\n",
    "\n",
    "models_test = pd.DataFrame(test_report, columns=cols)\n",
    "models_test"
   ],
   "id": "82f70294df161705",
   "outputs": [
    {
     "data": {
      "text/plain": [
       "                                               Model  Accuracy  Precision  \\\n",
       "0  DecisionTreeClassifier(criterion='entropy', ma...  0.933243   0.931569   \n",
       "1  KNeighborsClassifier(metric='manhattan', n_nei...  0.895777   0.892282   \n",
       "2                              SVC(C=100, gamma=0.1)  0.912807   0.907943   \n",
       "\n",
       "     Recall  F1-Score       MCC  \n",
       "0  0.933243  0.931986  0.841757  \n",
       "1  0.895777  0.891922  0.744387  \n",
       "2  0.912807  0.907769  0.785662  "
      ],
      "text/html": [
       "<div>\n",
       "<style scoped>\n",
       "    .dataframe tbody tr th:only-of-type {\n",
       "        vertical-align: middle;\n",
       "    }\n",
       "\n",
       "    .dataframe tbody tr th {\n",
       "        vertical-align: top;\n",
       "    }\n",
       "\n",
       "    .dataframe thead th {\n",
       "        text-align: right;\n",
       "    }\n",
       "</style>\n",
       "<table border=\"1\" class=\"dataframe\">\n",
       "  <thead>\n",
       "    <tr style=\"text-align: right;\">\n",
       "      <th></th>\n",
       "      <th>Model</th>\n",
       "      <th>Accuracy</th>\n",
       "      <th>Precision</th>\n",
       "      <th>Recall</th>\n",
       "      <th>F1-Score</th>\n",
       "      <th>MCC</th>\n",
       "    </tr>\n",
       "  </thead>\n",
       "  <tbody>\n",
       "    <tr>\n",
       "      <th>0</th>\n",
       "      <td>DecisionTreeClassifier(criterion='entropy', ma...</td>\n",
       "      <td>0.933243</td>\n",
       "      <td>0.931569</td>\n",
       "      <td>0.933243</td>\n",
       "      <td>0.931986</td>\n",
       "      <td>0.841757</td>\n",
       "    </tr>\n",
       "    <tr>\n",
       "      <th>1</th>\n",
       "      <td>KNeighborsClassifier(metric='manhattan', n_nei...</td>\n",
       "      <td>0.895777</td>\n",
       "      <td>0.892282</td>\n",
       "      <td>0.895777</td>\n",
       "      <td>0.891922</td>\n",
       "      <td>0.744387</td>\n",
       "    </tr>\n",
       "    <tr>\n",
       "      <th>2</th>\n",
       "      <td>SVC(C=100, gamma=0.1)</td>\n",
       "      <td>0.912807</td>\n",
       "      <td>0.907943</td>\n",
       "      <td>0.912807</td>\n",
       "      <td>0.907769</td>\n",
       "      <td>0.785662</td>\n",
       "    </tr>\n",
       "  </tbody>\n",
       "</table>\n",
       "</div>"
      ]
     },
     "execution_count": 22,
     "metadata": {},
     "output_type": "execute_result"
    }
   ],
   "execution_count": 22
  }
 ],
 "metadata": {
  "kernelspec": {
   "display_name": "Python 3",
   "language": "python",
   "name": "python3"
  },
  "language_info": {
   "codemirror_mode": {
    "name": "ipython",
    "version": 2
   },
   "file_extension": ".py",
   "mimetype": "text/x-python",
   "name": "python",
   "nbconvert_exporter": "python",
   "pygments_lexer": "ipython2",
   "version": "2.7.6"
  }
 },
 "nbformat": 4,
 "nbformat_minor": 5
}
